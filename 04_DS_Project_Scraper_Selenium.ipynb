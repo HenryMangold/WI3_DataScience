{
 "cells": [
  {
   "cell_type": "markdown",
   "source": [
    "# Data Science SS 2022\n",
    "## Task 1 - Data Preparation and Modeling\n",
    "### Task 1a - Crawl and parse"
   ],
   "metadata": {
    "collapsed": false,
    "pycharm": {
     "name": "#%% md\n"
    }
   },
   "outputs": [],
   "execution_count": 1
  },
  {
   "cell_type": "code",
   "execution_count": 3,
   "outputs": [],
   "source": [
    "# Import Libraries\n",
    "from selenium import webdriver\n",
    "from selenium.webdriver.common.by import By\n",
    "from selenium.webdriver.support import expected_conditions as EC\n",
    "from selenium.webdriver.support.ui import WebDriverWait\n",
    "import time\n",
    "import pandas as pd"
   ],
   "metadata": {
    "collapsed": false,
    "pycharm": {
     "name": "#%%\n"
    }
   }
  },
  {
   "cell_type": "code",
   "execution_count": 4,
   "outputs": [],
   "source": [
    "# Function for read in csv with web-links to scrape\n",
    "def read_links(source):\n",
    "    datatable = pd.read_csv(source)\n",
    "    raw_links = datatable['roughguide link'].tolist()\n",
    "    return raw_links\n",
    "\n",
    "\n",
    "# Function for skipping cookie banner\n",
    "def skip_cookie():\n",
    "    WebDriverWait(driver, 10).until(EC.presence_of_element_located((By.CLASS_NAME, \"cf2Lf6\")))\n",
    "    driver.find_element(By.CLASS_NAME, 'cf2Lf6').click()\n",
    "    print('>> Cookie-Banner successful skipped!')\n",
    "\n",
    "\n",
    "# Function for extracting place name of webpage\n",
    "def get_place():\n",
    "    raw_place = driver.find_element(By.XPATH, '/html/body/div[1]/div/div/div[4]/div/section[1]/div/div/main/div/section/h1').text\n",
    "    return raw_place\n",
    "\n",
    "\n",
    "def get_place_h2(title_id):\n",
    "    raw_place = driver.find_element(By.ID, title_id).text\n",
    "    return raw_place\n",
    "\n",
    "# Function for extracting place description of webpage\n",
    "def get_full_content():\n",
    "    content_text = ''\n",
    "    content_element = driver.find_element(By.CLASS_NAME, 'DestinationPageContent')\n",
    "    raw_text = content_element.find_elements(By.TAG_NAME, 'p')\n",
    "    for paragraph in raw_text:\n",
    "        content_text += str(' ' + paragraph.text)\n",
    "    return content_text\n",
    "\n",
    "\n",
    "def get_content_between_headlines(title_id):\n",
    "    # h2 element with id that contains title (all lower case and - instead of ' ')\n",
    "    keep_text = False\n",
    "    content_text = ''\n",
    "    xpath = '//*[@id=\"{0}\"]'.format(title_id)\n",
    "    #container = driver.find_element(By.XPATH, '/html/body/div[1]/div/div/div[4]/div/main/div[2]/div/div/div/div/div[3]')\n",
    "    start_element = driver.find_element(By.XPATH, xpath)\n",
    "    next_elements = start_element.find_elements(By.XPATH, xpath + '/following-sibling::*')\n",
    "\n",
    "    for element in next_elements:\n",
    "        if element.tag_name == 'h2':\n",
    "            # break while loop if next element is a h2\n",
    "            break\n",
    "        content_text += str(' ' + element.text)\n",
    "\n",
    "    # for element in container:\n",
    "    #     if element.getAttribute(\"id\") == title_id:\n",
    "    #         keep_text = True\n",
    "    #     tag_value= element.get_attribute('outerHTML ').split('',1)[0]  # gets html tag of current element\n",
    "    #     if keep_text and tag_value != 'h2':\n",
    "    #         content_text += str(' ' + element.text)\n",
    "\n",
    "    return content_text\n",
    "\n",
    "\n",
    "def clean_content_text(content_text):\n",
    "    content_text = ' '.join(content_text.splitlines())\n",
    "    content_text = content_text.replace(';', ' -')\n",
    "    content_text = content_text.replace(\"In-depth, easy-to-use travel guides filled with expert advice.\", '')\n",
    "    content_text = content_text.replace(\"Use Rough Guides' trusted partners for great rates\", '')\n",
    "    content_text = content_text.strip()\n",
    "    return content_text\n",
    "\n",
    "\n",
    "# Function for saving scraped data to csv\n",
    "def save_to_csv(lst, destination_file_path):\n",
    "    data = pd.DataFrame(lst, columns=['Link', 'Place', 'Content'])\n",
    "    data.to_csv(destination_file_path, header=['Link', 'Place', 'Content'], encoding='utf-8-sig')"
   ],
   "metadata": {
    "collapsed": false,
    "pycharm": {
     "name": "#%%\n"
    }
   }
  },
  {
   "cell_type": "code",
   "execution_count": 5,
   "outputs": [],
   "source": [
    "# Set variables\n",
    "source_path = './data/link_test.csv'       ## Set ##\n",
    "destination_file_path = './data/ds_test.csv'                 ## Set ##\n",
    "\n",
    "count = 1\n",
    "lst = []\n",
    "start_time = time.time()"
   ],
   "metadata": {
    "collapsed": false,
    "pycharm": {
     "name": "#%%\n"
    }
   }
  },
  {
   "cell_type": "code",
   "execution_count": 6,
   "outputs": [
    {
     "name": "stdout",
     "output_type": "stream",
     "text": [
      "Reading links from csv..\n",
      "Setting up chrome webdriver..\n",
      "Starting scraping data from pages..\n",
      "Processing scraping of page 1 of 3\n",
      "Processing scraping of page 2 of 3\n",
      "link to h2:\n",
      "CN Tower\n",
      "To the dismay of many Torontonians, the CN Tower has become the city’s symbol. It’s touted on much of the city’s promotional literature, features on thousands of postcards and holiday snaps and has become the obligatory start to most tourist itineraries. From almost anywhere in the city, it’s impossible to miss its slender form poking high above the skyline, reminding some of French novelist Guy de Maupassant’s quip about another famous tower: “I like to lunch at the Eiffel Tower because that’s the only place in Paris I can’t see it.” Unlikely as it may seem, the celebrity status of the CN Tower was entirely unforeseen, its origins plain and utilitarian. In the 1960s, the Canadian Broadcasting Corporation (CBC) teamed up with the railway conglomerate Canadian National (CN) to propose the construction of a bigger and better transmission antenna. The CBC eventually withdrew from the project, but CN, who owned the land, forged ahead. To the company’s surprise, they found the undertaking stirred intense public interest – so much so that long before the tower was completed, in 1975, it was clear its potential as a tourist sight would be huge: today, broadcasting only accounts for about twenty percent of the tower’s income, with the rest provided by the two million tourists who throng here annually. Come early (especially on school holidays) to avoid the crowds. The tower Though recently pipped to the post by Dubai’s Burj Khalifa, the CN Tower was for several decades the tallest freestanding structure in the world, its sleek and elegant structure tapering to a minaret-thin point 553m (1815ft) above the city centre. Details of its construction are provided in a series of photographs on the mezzanine level, just beyond security check-in. The background information is extremely interesting, revealing all sorts of odd facts and figures, though it’s hardly reassuring to know the tower is hit by lightning between sixty and eighty times a year. The Look Out Level and the Sky Pod From the foot of the tower, glass-fronted elevators whisk you up the outside of the building to the indoor and outdoor Look Out Level at 346m. The circular galleries here provide wide views over the city and out across Lake Ontario. Certain features stand out, notably the splash of greenery banding the Toronto Islands, the welter of new condominium blocks marauding across the lakeshore, and Will Alsop’s giant table at the Sharp Centre for Design. At this level also is the reinforced glass floor – a vertigo shock that goes some way to justifying the tower’s pricey admittance fee – and 360 The Restaurant, which slowly revolves around the tower, taking 72 minutes to make one revolution. You are, however, still 100m from the top of the tower, with a separate set of lifts to carry visitors up to the Sky Pod, a confined little gallery that doesn’t really justify the extra expense.\n",
      "Processing scraping of page 3 of 3\n",
      "link to h2:\n",
      "The Falls\n",
      "Even if you’ve seen all the postcards and watched all the films, nothing quite prepares you for your first glimpse of the Falls, a fearsome white arc shrouded in clouds of dense spray with the river boats struggling down below, mere specks against the surging cauldron. There are actually two cataracts, as tiny Goat Island divides the accelerating water into two channels: on the far side, across the frontier, the river slips over the precipice of the American Falls, 320m wide but still only half the width of the Horseshoe Falls on the Canadian side. The spectacle is even more extraordinary in winter, when snow-covered trees edge a jagged armoury of freezing mist and heaped ice blocks. All this may look like a scene of untrammelled nature, but it isn’t. Since the early twentieth century, hydroelectric schemes have greatly reduced the water flow, and all sorts of tinkering has spread what’s left of the river more evenly over the crest line. As a result, the process of erosion, which has moved the Falls some 11km upstream in 12,000 years, has slowed down from one metre per year to just 30cm. This obviously has advantages for the tourist industry, but the environmental consequences of harnessing the river in such a way are still unclear. More positively, the cardsharps and charlatans who overran the riverside in Blondin’s day are long gone with the Niagara Parks Commission (w niagaraparks.com), which controls the area along the Canadian side of the river and beside the Falls, ensuring the immaculately tended tree-lined gardens and parkland remain precisely so. Table Rock House At Table Rock House, you can get disarmingly close to the crest line of the Horseshoe Falls at a free observation platform and from here you can also spy the rusting remains of the Old Scow, stuck against the rocks in the middle of the river just upstream. In 1918, this flat-bottomed barge was being towed across the Niagara River when the lines snapped and the boat – along with the two-man crew – hurtled towards the falls. There must have been an awful lot of praying going on, because – just 750m from the precipice – the barge caught against the rocks, and it’s stayed there ever since. Inside Table Rock House, lifts travel to the base of the cliff, where the tunnels of the Journey Behind the Falls lead to platforms directly beside the cascade. It’s a magnificent sight, which is more than can be said for Table Rock’s other attraction, Niagara’s Fury, a self-billed “4-D experience” that aims to re-create the formation of the Falls. Hornblower Niagara Cruises From Table Rock House, a wide path leads north along the edge of the river gorge, with the manicured lawns of Queen Victoria Park to the left and views over towards the American Falls to the right. At the end of the park is Clifton Hill, the main drag linking the riverside with the town of Niagara Falls. From the jetty below Clifton Hill, the former Maid of the Mistboats, now run by Hornblower Niagara (Maid of the Mist now solely refers to those departing from the American side), edge out into the river and push up towards the Falls, an exhilarating trip no one should miss. Clifton Hill and around For better or worse – probably the latter – Clifton Hill is the centre of the tourist action in Niagara Falls, comprising a short, steep slope flanked by a tawdry collection of fast-food joints and bizarre attractions, from the innocuous Dinosaur Adventure Golf (yes, that’s right) to the eminently missable Ripley’s Believe It or Not! Close by, near the Rainbow Bridge off Victoria Avenue, is one of the town’s two 24hr casinos, Casino Niagara, a bristlingly modern structure where kids can watch their parents fritter away their inheritance - the other is up on Fallsview Boulevard. If you’re keen to avoid all this commercialization, then stick to the well-kept riverside area, where a string of much more agreeable attractions begins downstream with the White Water Walk, 3km from Clifton Hill.\n",
      "Exporting scraped data to csv\n",
      "Finished scraping! Took 1 min to scrape 2\n"
     ]
    }
   ],
   "source": [
    "try:\n",
    "    # Read in csv with page links\n",
    "    print('Reading links from csv..')\n",
    "    links = read_links(source_path)\n",
    "\n",
    "    # Start driver\n",
    "    print('Setting up chrome webdriver..')\n",
    "    driver = webdriver.Chrome()\n",
    "    WebDriverWait(driver, 10)\n",
    "\n",
    "    # Iterate over links\n",
    "    print('Starting scraping data from pages..')\n",
    "    for link in links:\n",
    "\n",
    "        # Open page\n",
    "        print('Processing scraping of page {0} of {1}'.format(count, len(links)))\n",
    "        driver.get(link)\n",
    "\n",
    "        # Check if first run, if yes then skip cookie banner\n",
    "        # if count == 0:\n",
    "        #     print('>> Cookie-Banner must be skipped!')\n",
    "        #     skip_cookie()\n",
    "\n",
    "        if '#' in link:\n",
    "            print('link to h2:')\n",
    "            # This link only refers to a part of the page.\n",
    "            # Only content between the h2 Headline and the next h2 should be extracted\n",
    "            title_id = link.split('#')[1]\n",
    "\n",
    "            # get place name\n",
    "            place = get_place_h2(title_id)\n",
    "\n",
    "            # get content until next h2\n",
    "            content_raw = get_content_between_headlines(title_id)\n",
    "            content = clean_content_text(content_raw)\n",
    "\n",
    "            print(place)\n",
    "            print(content)\n",
    "\n",
    "        else:\n",
    "            # whole page refers to the place and should be extracted\n",
    "            # Get header text (place name) of page\n",
    "            place = get_place()\n",
    "\n",
    "            # Get content text (place description) of page\n",
    "            content_raw = get_full_content()\n",
    "            content = clean_content_text(content_raw)\n",
    "\n",
    "        # Append place and content to list\n",
    "        lst.append([link, place, content])\n",
    "\n",
    "        # Wait 1 sec and repeat procedure for next page\n",
    "        time.sleep(1)\n",
    "        count += 1\n",
    "\n",
    "    # Save list as dataframe and export to csv\n",
    "    print('Exporting scraped data to csv')\n",
    "    save_to_csv(lst, destination_file_path)\n",
    "\n",
    "    # Exit driver\n",
    "    print('Finished scraping! Took %s min to scrape' % round(((time.time() - start_time)/60)), 2)\n",
    "    time.sleep(2)\n",
    "    driver.quit()\n",
    "\n",
    "except KeyboardInterrupt:\n",
    "    # Catch Keyboard Interrupt\n",
    "    print('The programm was interrupted by keyboard')\n",
    "    exit()\n",
    "\n",
    "except Exception as e:\n",
    "    print(e)\n",
    "    # try saving current process in dataframe\n",
    "    print('trying to Export scraped data to csv')\n",
    "    save_to_csv(lst, destination_file_path)\n",
    "    print('done')"
   ],
   "metadata": {
    "collapsed": false,
    "pycharm": {
     "name": "#%%\n"
    }
   }
  }
 ],
 "metadata": {
  "kernelspec": {
   "display_name": "Python 3",
   "language": "python",
   "name": "python3"
  },
  "language_info": {
   "codemirror_mode": {
    "name": "ipython",
    "version": 2
   },
   "file_extension": ".py",
   "mimetype": "text/x-python",
   "name": "python",
   "nbconvert_exporter": "python",
   "pygments_lexer": "ipython2",
   "version": "2.7.6"
  }
 },
 "nbformat": 4,
 "nbformat_minor": 0
}