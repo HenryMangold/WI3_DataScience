{
 "cells": [
  {
   "cell_type": "markdown",
   "source": [
    "# <i>Lyrics</i> Scraper\n",
    "Scraps from searched song the song lyrics"
   ],
   "metadata": {
    "collapsed": false,
    "pycharm": {
     "name": "#%% md\n"
    }
   }
  },
  {
   "cell_type": "code",
   "execution_count": null,
   "outputs": [],
   "source": [
    "# Import Libraries\n",
    "from selenium import webdriver\n",
    "from selenium.webdriver.support.ui import WebDriverWait\n",
    "import time\n",
    "\n",
    "\n",
    "# Function for skipping cookie banner\n",
    "def cookie():\n",
    "    try:\n",
    "        driver.find_element(By.CLASS_NAME, 'fc-button-label').click()\n",
    "        time.sleep(2)\n",
    "        return True\n",
    "    except:\n",
    "        return False\n",
    "\n",
    "\n",
    "# Function for searching a song on the website\n",
    "def search(song):\n",
    "    searchEl = driver.find_element(By.XPATH, '//*[@id=\"search\"]')\n",
    "    searchEl.send_keys(song)\n",
    "    try:\n",
    "        wait.until(EC.visibility_of_element_located((By.XPATH, '//*[@id=\"ui-id-2\"]')))\n",
    "        driver.find_element(By.XPATH, '//*[@id=\"ui-id-2\"]').click()\n",
    "        time.sleep(1)\n",
    "        return True\n",
    "    except:\n",
    "        return False\n",
    "\n",
    "\n",
    "# Function for extracting lyrics of song\n",
    "def get_lyrics():\n",
    "    try:\n",
    "        wait.until(EC.visibility_of_element_located((By.CLASS_NAME, 'lyric-body')))\n",
    "        lyrics = driver.find_element(By.CLASS_NAME, 'lyric-body').text\n",
    "        lyrics = lyrics.replace('\\n', ' ')\n",
    "        return lyrics\n",
    "    except:\n",
    "        return False\n",
    "\n",
    "\n",
    "\n",
    "## MAIN ###\n",
    "\n",
    "driver = webdriver.Chrome()\n",
    "driver.get('https://www.lyrics.com/')\n",
    "wait = WebDriverWait(driver, 10)\n",
    "\n",
    "song = '3, 2, 1'\n",
    "print('Song: ', song)\n",
    "\n",
    "t0 = time.time()\n",
    "\n",
    "result = cookie()\n",
    "print('Skipped Cookies', result)\n",
    "\n",
    "result = search(song)\n",
    "print('Found song: ', result)\n",
    "\n",
    "result = get_lyrics()\n",
    "print('Lyrics of song: ', result)\n",
    "\n",
    "print('Required %s to scrape ' % round(time.time() - t0, 1))\n",
    "\n",
    "time.sleep(3)\n",
    "driver.quit()"
   ],
   "metadata": {
    "collapsed": false,
    "pycharm": {
     "name": "#%%\n"
    }
   }
  },
  {
   "cell_type": "code",
   "execution_count": null,
   "outputs": [],
   "source": [
    "# See results\n",
    "result"
   ],
   "metadata": {
    "collapsed": false,
    "pycharm": {
     "name": "#%%\n"
    }
   }
  },
  {
   "cell_type": "markdown",
   "source": [
    "# <i>Songlinks</i> Scraper\n",
    "Scraps from specified artist href links to every song"
   ],
   "metadata": {
    "collapsed": false,
    "pycharm": {
     "name": "#%% md\n"
    }
   }
  },
  {
   "cell_type": "code",
   "execution_count": null,
   "outputs": [],
   "source": [
    "# Import Libraries\n",
    "from selenium import webdriver\n",
    "from selenium.webdriver.common.by import By\n",
    "from selenium.webdriver.support import expected_conditions as EC\n",
    "from selenium.webdriver.support.ui import WebDriverWait\n",
    "import time\n",
    "\n",
    "\n",
    "# Function for skipping cookie banner\n",
    "def cookie():\n",
    "    try:\n",
    "        driver.find_element(By.CLASS_NAME, 'fc-button-label').click()\n",
    "        time.sleep(2)\n",
    "        return True\n",
    "    except:\n",
    "        return False\n",
    "\n",
    "\n",
    "\n",
    "##MAIN###\n",
    "\n",
    "driver = webdriver.Chrome()\n",
    "driver.get('https://www.lyrics.com/artist/Migos/2847806')\n",
    "wait = WebDriverWait(driver, 10)\n",
    "\n",
    "result = cookie()\n",
    "print('Skipped Cookies', result)\n",
    "\n",
    "elems = driver.find_elements_by_xpath(\"//a[@href]\")\n",
    "print('Links to all songs: ')\n",
    "for elem in elems:\n",
    "    if elem.get_attribute(\"href\").startswith(\"https://www.lyrics.com/lyric/\"):\n",
    "        print(elem.get_attribute(\"href\"))\n",
    "\n",
    "time.sleep(3)\n",
    "driver.quit()"
   ],
   "metadata": {
    "collapsed": false,
    "pycharm": {
     "name": "#%%\n"
    }
   }
  }
 ],
 "metadata": {
  "kernelspec": {
   "display_name": "Python 3",
   "language": "python",
   "name": "python3"
  },
  "language_info": {
   "codemirror_mode": {
    "name": "ipython",
    "version": 2
   },
   "file_extension": ".py",
   "mimetype": "text/x-python",
   "name": "python",
   "nbconvert_exporter": "python",
   "pygments_lexer": "ipython2",
   "version": "2.7.6"
  }
 },
 "nbformat": 4,
 "nbformat_minor": 0
}