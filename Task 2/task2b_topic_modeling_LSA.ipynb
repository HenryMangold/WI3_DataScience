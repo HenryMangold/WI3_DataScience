{
 "cells": [
  {
   "cell_type": "code",
   "execution_count": 20,
   "metadata": {
    "collapsed": true,
    "pycharm": {
     "name": "#%%\n"
    }
   },
   "outputs": [],
   "source": [
    "#from task2a_preprocessing import Preprocessing\n",
    "from sklearn.feature_extraction.text import TfidfVectorizer\n",
    "from sklearn.decomposition import TruncatedSVD\n",
    "from sklearn.pipeline import Pipeline\n",
    "import pandas as pd\n",
    "from scipy import spatial"
   ]
  },
  {
   "cell_type": "code",
   "execution_count": 19,
   "outputs": [
    {
     "data": {
      "text/plain": "   Unnamed: 0                                               Link  \\\n0           0    https://www.roughguides.com/usa/hawaii/waikiki/   \n1           1  https://www.roughguides.com/usa/florida/florid...   \n2           2  https://www.roughguides.com/usa/rockies/yellow...   \n3           3  https://www.roughguides.com/usa/hawaii/big-isl...   \n4           4      https://www.roughguides.com/usa/great-plains/   \n\n                           Place  \\\n0                        Waikiki   \n1               The Florida Keys   \n2      Yellowstone National Park   \n3                 The Big Island   \n4  The Great Plains Travel Guide   \n\n                                             Content  \n0  Built on a reclaimed swamp, two miles east of ...  \n1  Folklore, films and widespread hearsay have gi...  \n2  America’s oldest and easily its most famous na...  \n3  Although the Big Island of Hawaii could hold a...  \n4  The rolling hills and vast grasslands of the G...  ",
      "text/html": "<div>\n<style scoped>\n    .dataframe tbody tr th:only-of-type {\n        vertical-align: middle;\n    }\n\n    .dataframe tbody tr th {\n        vertical-align: top;\n    }\n\n    .dataframe thead th {\n        text-align: right;\n    }\n</style>\n<table border=\"1\" class=\"dataframe\">\n  <thead>\n    <tr style=\"text-align: right;\">\n      <th></th>\n      <th>Unnamed: 0</th>\n      <th>Link</th>\n      <th>Place</th>\n      <th>Content</th>\n    </tr>\n  </thead>\n  <tbody>\n    <tr>\n      <th>0</th>\n      <td>0</td>\n      <td>https://www.roughguides.com/usa/hawaii/waikiki/</td>\n      <td>Waikiki</td>\n      <td>Built on a reclaimed swamp, two miles east of ...</td>\n    </tr>\n    <tr>\n      <th>1</th>\n      <td>1</td>\n      <td>https://www.roughguides.com/usa/florida/florid...</td>\n      <td>The Florida Keys</td>\n      <td>Folklore, films and widespread hearsay have gi...</td>\n    </tr>\n    <tr>\n      <th>2</th>\n      <td>2</td>\n      <td>https://www.roughguides.com/usa/rockies/yellow...</td>\n      <td>Yellowstone National Park</td>\n      <td>America’s oldest and easily its most famous na...</td>\n    </tr>\n    <tr>\n      <th>3</th>\n      <td>3</td>\n      <td>https://www.roughguides.com/usa/hawaii/big-isl...</td>\n      <td>The Big Island</td>\n      <td>Although the Big Island of Hawaii could hold a...</td>\n    </tr>\n    <tr>\n      <th>4</th>\n      <td>4</td>\n      <td>https://www.roughguides.com/usa/great-plains/</td>\n      <td>The Great Plains Travel Guide</td>\n      <td>The rolling hills and vast grasslands of the G...</td>\n    </tr>\n  </tbody>\n</table>\n</div>"
     },
     "execution_count": 19,
     "metadata": {},
     "output_type": "execute_result"
    }
   ],
   "source": [
    "# read in dataframe from csv\n",
    "df_raw = pd.read_csv('results_scrapping.csv')\n",
    "df_raw.head()"
   ],
   "metadata": {
    "collapsed": false,
    "pycharm": {
     "name": "#%%\n"
    }
   }
  },
  {
   "cell_type": "markdown",
   "source": [
    "## TF-IDF Vectorization\n",
    "Goal is to create a document-term matrix that contains the tf-idf values for words within each document. A high tf-idf score represents a word that appears often in a document but not very often in the corpus. This means that this word is likely usefully for dokument classification. Words that appear often in a document but also often in the corpus will get a low tf-idf score."
   ],
   "metadata": {
    "collapsed": false,
    "pycharm": {
     "name": "#%% md\n"
    }
   }
  },
  {
   "cell_type": "code",
   "execution_count": 3,
   "outputs": [],
   "source": [
    "# generate tf-idf matrix vectorizer\n",
    "vectorizer = TfidfVectorizer(stop_words='english', use_idf=True, smooth_idf=True)"
   ],
   "metadata": {
    "collapsed": false,
    "pycharm": {
     "name": "#%%\n"
    }
   }
  },
  {
   "cell_type": "markdown",
   "source": [
    "## Singular Value Decomposition (SVD) for dimensionality reduction\n",
    "the resulting document-term matrix is a huge matrix with a lot of noisy and redundant information. Therefore, we want to reduce the dimensions to only a few latent topics that capture the relationships among the words and documents."
   ],
   "metadata": {
    "collapsed": false,
    "pycharm": {
     "name": "#%% md\n"
    }
   }
  },
  {
   "cell_type": "code",
   "execution_count": 23,
   "outputs": [],
   "source": [
    "# generate svd model\n",
    "# n_components represents the number of topics\n",
    "svd_model = TruncatedSVD(n_components=20, algorithm='randomized', n_iter=10)"
   ],
   "metadata": {
    "collapsed": false,
    "pycharm": {
     "name": "#%%\n"
    }
   }
  },
  {
   "cell_type": "markdown",
   "source": [
    "## Build Pipeline with tf-idf vectorization and Singular Value Decomposition"
   ],
   "metadata": {
    "collapsed": false,
    "pycharm": {
     "name": "#%% md\n"
    }
   }
  },
  {
   "cell_type": "code",
   "execution_count": 24,
   "outputs": [],
   "source": [
    "# build pipeline with tf-idf vectorizer and svd model\n",
    "svd_transformer = Pipeline([('tfidf', vectorizer), ('svd', svd_model)])"
   ],
   "metadata": {
    "collapsed": false,
    "pycharm": {
     "name": "#%%\n"
    }
   }
  },
  {
   "cell_type": "code",
   "execution_count": 25,
   "outputs": [
    {
     "data": {
      "text/plain": "array([[ 0.1425481 , -0.00268226, -0.01535606, ...,  0.18465316,\n         0.19008581, -0.03654833],\n       [ 0.15875586,  0.00406477, -0.02183962, ...,  0.07710791,\n         0.26868453, -0.11639705],\n       [ 0.11244423,  0.1678391 , -0.01219773, ..., -0.10680956,\n        -0.16764022, -0.07652924],\n       ...,\n       [ 0.22185615, -0.13958042, -0.05212646, ..., -0.16888817,\n         0.01502187,  0.09777968],\n       [ 0.25458364, -0.028505  ,  0.12570334, ..., -0.01210235,\n         0.00225291, -0.00474641],\n       [ 0.32172507, -0.21364246,  0.88344184, ..., -0.00973623,\n         0.03469409,  0.01779815]])"
     },
     "execution_count": 25,
     "metadata": {},
     "output_type": "execute_result"
    }
   ],
   "source": [
    "svd_matrix = svd_transformer.fit_transform(df_raw['Content'])\n",
    "svd_matrix"
   ],
   "metadata": {
    "collapsed": false,
    "pycharm": {
     "name": "#%%\n"
    }
   }
  },
  {
   "cell_type": "code",
   "execution_count": 26,
   "outputs": [
    {
     "name": "stdout",
     "output_type": "stream",
     "text": [
      "\"beach\" > \"Long Beach\" Distance: 0.34039009391311387\n",
      "\"mountains\" > \"Piura\" Distance: 0.21862914270697587\n",
      "\"city\" > \"Milan\" Distance: 0.3190168265899463\n",
      "\"town\" > \"Piura\" Distance: 0.3163740084996661\n",
      "\"house\" > \"Piura\" Distance: 0.23433169321008537\n",
      "\"nature\" > \"Piura\" Distance: 0.23864299618492868\n",
      "\"snow\" > \"Piura\" Distance: 0.22513452212186089\n"
     ]
    }
   ],
   "source": [
    "# get place of the closest document for each word\n",
    "# transform svd matrix to spacial KDtree\n",
    "tree = spatial.KDTree(svd_matrix)\n",
    "\n",
    "# transform a list of words with the fitted model to get their vector-representation\n",
    "words = ['beach', 'mountains', 'city', 'town', 'house', 'nature', 'snow']\n",
    "word_matrix = svd_transformer.transform(words)\n",
    "\n",
    "# get closest document vector for each word vector\n",
    "for i, word_vector in enumerate(word_matrix):\n",
    "    query = tree.query(word_vector)\n",
    "    print(f'\"{words[i]}\" > \"{df_raw.Place[query[1]]}\" Distance: {query[0]}')"
   ],
   "metadata": {
    "collapsed": false,
    "pycharm": {
     "name": "#%%\n"
    }
   }
  },
  {
   "cell_type": "markdown",
   "source": [
    "## Topic extraction\n",
    "The matrix plots a score for each document for each topic.\n",
    "Todo\n",
    "- Find corresponding topics for each number\n",
    "  - might be difficult since we don't even know if there is a word for each topic\n",
    "  - maybe find words that define each topic from tf-idf matrix\n",
    "- figure out how many topics we want"
   ],
   "metadata": {
    "collapsed": false,
    "pycharm": {
     "name": "#%% md\n"
    }
   }
  },
  {
   "cell_type": "code",
   "execution_count": 6,
   "outputs": [],
   "source": [],
   "metadata": {
    "collapsed": false,
    "pycharm": {
     "name": "#%%\n"
    }
   }
  }
 ],
 "metadata": {
  "kernelspec": {
   "name": "wi3_datascience",
   "language": "python",
   "display_name": "WI3_DataScience"
  },
  "language_info": {
   "codemirror_mode": {
    "name": "ipython",
    "version": 2
   },
   "file_extension": ".py",
   "mimetype": "text/x-python",
   "name": "python",
   "nbconvert_exporter": "python",
   "pygments_lexer": "ipython2",
   "version": "2.7.6"
  }
 },
 "nbformat": 4,
 "nbformat_minor": 0
}