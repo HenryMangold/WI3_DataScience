{
 "cells": [
  {
   "cell_type": "code",
   "execution_count": 60,
   "metadata": {
    "collapsed": true,
    "pycharm": {
     "name": "#%%\n"
    }
   },
   "outputs": [],
   "source": [
    "import pandas as pd\n",
    "from scipy import spatial\n",
    "from pprint import pprint\n",
    "\n",
    "from gensim.parsing.preprocessing import remove_stopwords, strip_punctuation, preprocess_string, strip_short, stem_text\n",
    "from gensim import corpora\n",
    "from gensim.models import LsiModel\n",
    "from gensim.models.coherencemodel import CoherenceModel\n",
    "from gensim.matutils import corpus2dense\n",
    "\n",
    "import csv"
   ]
  },
  {
   "cell_type": "markdown",
   "source": [
    "## Data Preprocessing"
   ],
   "metadata": {
    "collapsed": false,
    "pycharm": {
     "name": "#%% md\n"
    }
   }
  },
  {
   "cell_type": "code",
   "execution_count": 2,
   "outputs": [
    {
     "data": {
      "text/plain": "   Unnamed: 0                                               Link  \\\n0           0    https://www.roughguides.com/usa/hawaii/waikiki/   \n1           1  https://www.roughguides.com/usa/florida/florid...   \n2           2  https://www.roughguides.com/usa/rockies/yellow...   \n3           3  https://www.roughguides.com/usa/hawaii/big-isl...   \n4           4      https://www.roughguides.com/usa/great-plains/   \n\n                           Place  \\\n0                        Waikiki   \n1               The Florida Keys   \n2      Yellowstone National Park   \n3                 The Big Island   \n4  The Great Plains Travel Guide   \n\n                                             Content  \n0  Built on a reclaimed swamp, two miles east of ...  \n1  Folklore, films and widespread hearsay have gi...  \n2  America’s oldest and easily its most famous na...  \n3  Although the Big Island of Hawaii could hold a...  \n4  The rolling hills and vast grasslands of the G...  ",
      "text/html": "<div>\n<style scoped>\n    .dataframe tbody tr th:only-of-type {\n        vertical-align: middle;\n    }\n\n    .dataframe tbody tr th {\n        vertical-align: top;\n    }\n\n    .dataframe thead th {\n        text-align: right;\n    }\n</style>\n<table border=\"1\" class=\"dataframe\">\n  <thead>\n    <tr style=\"text-align: right;\">\n      <th></th>\n      <th>Unnamed: 0</th>\n      <th>Link</th>\n      <th>Place</th>\n      <th>Content</th>\n    </tr>\n  </thead>\n  <tbody>\n    <tr>\n      <th>0</th>\n      <td>0</td>\n      <td>https://www.roughguides.com/usa/hawaii/waikiki/</td>\n      <td>Waikiki</td>\n      <td>Built on a reclaimed swamp, two miles east of ...</td>\n    </tr>\n    <tr>\n      <th>1</th>\n      <td>1</td>\n      <td>https://www.roughguides.com/usa/florida/florid...</td>\n      <td>The Florida Keys</td>\n      <td>Folklore, films and widespread hearsay have gi...</td>\n    </tr>\n    <tr>\n      <th>2</th>\n      <td>2</td>\n      <td>https://www.roughguides.com/usa/rockies/yellow...</td>\n      <td>Yellowstone National Park</td>\n      <td>America’s oldest and easily its most famous na...</td>\n    </tr>\n    <tr>\n      <th>3</th>\n      <td>3</td>\n      <td>https://www.roughguides.com/usa/hawaii/big-isl...</td>\n      <td>The Big Island</td>\n      <td>Although the Big Island of Hawaii could hold a...</td>\n    </tr>\n    <tr>\n      <th>4</th>\n      <td>4</td>\n      <td>https://www.roughguides.com/usa/great-plains/</td>\n      <td>The Great Plains Travel Guide</td>\n      <td>The rolling hills and vast grasslands of the G...</td>\n    </tr>\n  </tbody>\n</table>\n</div>"
     },
     "execution_count": 2,
     "metadata": {},
     "output_type": "execute_result"
    }
   ],
   "source": [
    "# read in dataframe from csv\n",
    "data = pd.read_csv('results_scrapping.csv')\n",
    "data.head()"
   ],
   "metadata": {
    "collapsed": false,
    "pycharm": {
     "name": "#%%\n"
    }
   }
  },
  {
   "cell_type": "code",
   "execution_count": 21,
   "outputs": [
    {
     "data": {
      "text/plain": "   Unnamed: 0                                               Link  \\\n0           0    https://www.roughguides.com/usa/hawaii/waikiki/   \n1           1  https://www.roughguides.com/usa/florida/florid...   \n2           2  https://www.roughguides.com/usa/rockies/yellow...   \n3           3  https://www.roughguides.com/usa/hawaii/big-isl...   \n4           4      https://www.roughguides.com/usa/great-plains/   \n\n                           Place  \\\n0                        Waikiki   \n1               The Florida Keys   \n2      Yellowstone National Park   \n3                 The Big Island   \n4  The Great Plains Travel Guide   \n\n                                             Content  \\\n0  Built on a reclaimed swamp, two miles east of ...   \n1  Folklore, films and widespread hearsay have gi...   \n2  America’s oldest and easily its most famous na...   \n3  Although the Big Island of Hawaii could hold a...   \n4  The rolling hills and vast grasslands of the G...   \n\n                                        content_prep  \n0  [built, reclaim, swamp, mile, east, downtown, ...  \n1  [folklor, film, widespread, hearsai, given, fl...  \n2  [america’, oldest, easili, famou, nation, park...  \n3  [big, island, hawaii, hold, island, room, spar...  \n4  [roll, hill, vast, grassland, great, plain, ho...  ",
      "text/html": "<div>\n<style scoped>\n    .dataframe tbody tr th:only-of-type {\n        vertical-align: middle;\n    }\n\n    .dataframe tbody tr th {\n        vertical-align: top;\n    }\n\n    .dataframe thead th {\n        text-align: right;\n    }\n</style>\n<table border=\"1\" class=\"dataframe\">\n  <thead>\n    <tr style=\"text-align: right;\">\n      <th></th>\n      <th>Unnamed: 0</th>\n      <th>Link</th>\n      <th>Place</th>\n      <th>Content</th>\n      <th>content_prep</th>\n    </tr>\n  </thead>\n  <tbody>\n    <tr>\n      <th>0</th>\n      <td>0</td>\n      <td>https://www.roughguides.com/usa/hawaii/waikiki/</td>\n      <td>Waikiki</td>\n      <td>Built on a reclaimed swamp, two miles east of ...</td>\n      <td>[built, reclaim, swamp, mile, east, downtown, ...</td>\n    </tr>\n    <tr>\n      <th>1</th>\n      <td>1</td>\n      <td>https://www.roughguides.com/usa/florida/florid...</td>\n      <td>The Florida Keys</td>\n      <td>Folklore, films and widespread hearsay have gi...</td>\n      <td>[folklor, film, widespread, hearsai, given, fl...</td>\n    </tr>\n    <tr>\n      <th>2</th>\n      <td>2</td>\n      <td>https://www.roughguides.com/usa/rockies/yellow...</td>\n      <td>Yellowstone National Park</td>\n      <td>America’s oldest and easily its most famous na...</td>\n      <td>[america’, oldest, easili, famou, nation, park...</td>\n    </tr>\n    <tr>\n      <th>3</th>\n      <td>3</td>\n      <td>https://www.roughguides.com/usa/hawaii/big-isl...</td>\n      <td>The Big Island</td>\n      <td>Although the Big Island of Hawaii could hold a...</td>\n      <td>[big, island, hawaii, hold, island, room, spar...</td>\n    </tr>\n    <tr>\n      <th>4</th>\n      <td>4</td>\n      <td>https://www.roughguides.com/usa/great-plains/</td>\n      <td>The Great Plains Travel Guide</td>\n      <td>The rolling hills and vast grasslands of the G...</td>\n      <td>[roll, hill, vast, grassland, great, plain, ho...</td>\n    </tr>\n  </tbody>\n</table>\n</div>"
     },
     "execution_count": 21,
     "metadata": {},
     "output_type": "execute_result"
    }
   ],
   "source": [
    "# preprocess given text\n",
    "def preprocess(text):\n",
    "    # clean text based on given filters\n",
    "    CUSTOM_FILTERS = [lambda x: x.lower(),\n",
    "                                remove_stopwords,\n",
    "                                strip_punctuation,\n",
    "                                strip_short,\n",
    "                                stem_text]\n",
    "    text = preprocess_string(text, CUSTOM_FILTERS)\n",
    "\n",
    "    return text\n",
    "\n",
    "# apply function to all reviews\n",
    "data['content_prep'] = data['Content'].apply(lambda x: preprocess(x))\n",
    "data.head()"
   ],
   "metadata": {
    "collapsed": false,
    "pycharm": {
     "name": "#%%\n"
    }
   }
  },
  {
   "cell_type": "markdown",
   "source": [
    "# Latent Semantic Analysis (LSA)\n",
    "For LSA the following basic steps are required. These steps are combined in the Gensim LsiModel (yes for some reason they named it LSI) that will be used here.\n",
    "\n",
    "## 1.  TF-IDF Vectorization\n",
    "Goal is to create a document-term matrix that contains the tf-idf values for words within each document. A high tf-idf score represents a word that appears often in a document but not very often in the corpus. This means that this word is likely usefully for dokument classification. Words that appear often in a document but also often in the corpus will get a low tf-idf score.\n",
    "\n",
    "## 2. Singular Value Decomposition (SVD) for dimensionality reduction\n",
    "the resulting document-term matrix is a huge matrix with a lot of noisy and redundant information. Therefore, we want to reduce the dimensions to only a few latent topics that capture the relationships among the words and documents."
   ],
   "metadata": {
    "collapsed": false,
    "pycharm": {
     "name": "#%% md\n"
    }
   }
  },
  {
   "cell_type": "code",
   "execution_count": 22,
   "outputs": [
    {
     "name": "stdout",
     "output_type": "stream",
     "text": [
      "Dictionary(14885 unique tokens: ['about', 'ala', 'apart', 'avenu', 'beach']...)\n"
     ]
    }
   ],
   "source": [
    "# create dictionary and corpus\n",
    "corpus = data['content_prep']\n",
    "dictionary = corpora.Dictionary(corpus)\n",
    "print(dictionary)"
   ],
   "metadata": {
    "collapsed": false,
    "pycharm": {
     "name": "#%%\n"
    }
   }
  },
  {
   "cell_type": "code",
   "execution_count": 34,
   "outputs": [
    {
     "data": {
      "text/plain": "100"
     },
     "execution_count": 34,
     "metadata": {},
     "output_type": "execute_result"
    }
   ],
   "source": [
    "# convert corpus to bag of words\n",
    "bow = [dictionary.doc2bow(text) for text in corpus]\n",
    "len(bow)"
   ],
   "metadata": {
    "collapsed": false,
    "pycharm": {
     "name": "#%%\n"
    }
   }
  },
  {
   "cell_type": "code",
   "execution_count": 29,
   "outputs": [
    {
     "name": "stdout",
     "output_type": "stream",
     "text": [
      "Coherence score with 2 clusters: 0.4690299139512954\n",
      "Coherence score with 3 clusters: 0.44827506063390704\n",
      "Coherence score with 4 clusters: 0.3930312950222422\n",
      "Coherence score with 5 clusters: 0.4207090045529037\n",
      "Coherence score with 6 clusters: 0.4023455201488108\n",
      "Coherence score with 7 clusters: 0.40298301925638425\n",
      "Coherence score with 8 clusters: 0.4208852430100263\n",
      "Coherence score with 9 clusters: 0.42935133681589255\n",
      "Coherence score with 10 clusters: 0.4011205178470176\n"
     ]
    }
   ],
   "source": [
    "# find the coherence score with a different number of topics\n",
    "for i in range(2,11):\n",
    "    lsi = LsiModel(bow, num_topics=i, id2word=dictionary)\n",
    "    coherence_model = CoherenceModel(model=lsi, texts=data['content_prep'], dictionary=dictionary, coherence='c_v')\n",
    "    coherence_score = coherence_model.get_coherence()\n",
    "    print('Coherence score with {} clusters: {}'.format(i, coherence_score))"
   ],
   "metadata": {
    "collapsed": false,
    "pycharm": {
     "name": "#%%\n"
    }
   }
  },
  {
   "cell_type": "code",
   "execution_count": 35,
   "outputs": [],
   "source": [
    "# build LSA model\n",
    "lsa_model = LsiModel(bow, num_topics=10, id2word=dictionary)"
   ],
   "metadata": {
    "collapsed": false,
    "pycharm": {
     "name": "#%%\n"
    }
   }
  },
  {
   "cell_type": "code",
   "execution_count": 42,
   "outputs": [
    {
     "data": {
      "text/plain": "array([[ 6.85583084e-03, -4.44561346e-03,  6.62322456e-04,\n        -3.36384971e-03,  4.09102947e-03, -2.21694236e-03,\n         5.97758298e-03, -1.43858689e-03,  5.00846257e-04,\n        -4.26279577e-03],\n       [ 1.32057374e-02, -1.09655128e-02, -3.87641643e-04,\n        -3.80003996e-03, -3.66397872e-03,  2.87211657e-03,\n         5.56619858e-03, -1.36887986e-03,  3.55517222e-03,\n        -4.76297179e-04],\n       [ 4.87228397e-03, -5.28524156e-03, -4.31232051e-04,\n         1.94964913e-05, -7.20955303e-04, -5.27816411e-04,\n        -3.58718397e-03,  1.23166708e-02, -7.65088026e-04,\n        -4.15053751e-03],\n       [ 1.61470002e-02, -2.75650379e-02,  3.90867968e-03,\n        -1.04197203e-02,  7.67055898e-03,  9.53642470e-03,\n         3.58598066e-03,  2.09118076e-02,  7.54452127e-03,\n        -8.53500202e-03],\n       [ 1.23653396e-02, -8.73618192e-03,  4.67034550e-03,\n        -5.91394071e-03,  1.48424297e-03,  4.58869925e-04,\n        -3.44766002e-03,  2.75864439e-04, -5.27063288e-03,\n        -2.30387917e-03],\n       [ 1.45394016e-02, -1.57990404e-02,  8.16505252e-03,\n         2.17014874e-04, -3.60583363e-03,  1.66931548e-03,\n        -1.10865361e-02,  2.10123024e-02,  8.19055529e-03,\n        -1.18680220e-02],\n       [ 1.53349674e-02,  4.46899148e-03, -5.51751355e-03,\n         2.73714410e-03,  4.72082130e-03,  3.34772259e-03,\n        -3.36979192e-03, -6.51079602e-03,  1.52357251e-03,\n        -7.36409842e-03],\n       [ 1.46676223e-02, -9.66604840e-03,  2.22165262e-03,\n        -8.91562324e-03, -8.66128625e-03,  2.60272197e-03,\n        -5.74174188e-03, -6.09281663e-03, -1.33882555e-03,\n        -9.85110071e-04],\n       [ 7.60159279e-03, -8.87754466e-03,  4.69542212e-04,\n        -2.68805403e-03, -2.22896695e-03,  2.80823759e-03,\n        -4.07645131e-03,  1.09376623e-02, -2.23240644e-03,\n        -2.14891289e-03],\n       [ 6.97167396e-03, -8.82037773e-03,  7.59734011e-04,\n         1.20023778e-03, -1.22394193e-03,  1.63343156e-03,\n        -1.20033565e-02,  1.70118353e-02, -6.91079043e-04,\n        -4.38549329e-03],\n       [ 4.62186916e-01,  6.18023894e-01,  4.86338528e-01,\n        -9.47760520e-02,  2.18605072e-01, -7.32142512e-02,\n         1.46098314e-01,  1.66344069e-01,  3.02592018e-02,\n         1.01758468e-01],\n       [ 1.77214613e-02,  5.85024478e-03,  6.02813349e-03,\n        -8.17842739e-03, -3.78888029e-04,  4.43116475e-03,\n         2.19554154e-04, -1.22380849e-02, -2.45147049e-03,\n         1.89866833e-03],\n       [ 1.81322151e-02, -2.41703828e-02,  1.22662628e-02,\n         1.55250622e-03, -4.34668312e-03, -3.93337023e-03,\n        -3.89033533e-03, -7.71887127e-03,  1.72264916e-02,\n        -9.18304894e-03],\n       [ 1.58683615e-01,  1.15569184e-02,  1.32395055e-01,\n        -1.32997265e-02, -2.13466659e-03,  3.47819308e-02,\n        -7.38594636e-02, -6.69880956e-02,  1.66879896e-02,\n         5.05667175e-02],\n       [ 2.44772524e-01, -9.44756672e-02,  2.67647395e-01,\n         1.12418729e-02, -1.96206774e-01,  1.73061540e-01,\n        -6.09659452e-01, -4.34231773e-01,  6.07340180e-03,\n         5.81999250e-02],\n       [ 1.63550636e-01, -2.00309889e-01,  1.19156790e-01,\n         1.08198063e-01, -4.01736340e-02,  3.69427727e-02,\n         7.21725488e-02, -1.73428854e-01,  4.97917555e-01,\n        -4.19146181e-01],\n       [ 2.38411749e-02, -1.58111909e-02,  1.67596617e-02,\n         1.62184818e-03, -1.44515102e-03,  1.25889500e-02,\n        -1.48649414e-02,  2.25659541e-02,  2.65577155e-03,\n        -4.62788222e-03],\n       [ 1.87376468e-01, -3.88893585e-02,  1.61729857e-01,\n         2.00980710e-02, -2.46097807e-02,  8.93389628e-02,\n        -1.20740243e-01, -8.80782741e-02,  9.07660019e-02,\n        -2.71273011e-03],\n       [ 2.88515915e-02,  1.88161866e-02,  3.12529944e-03,\n         9.82474245e-03, -7.86153945e-03,  3.63728952e-03,\n         2.62385995e-03, -7.13639694e-03, -5.88500866e-03,\n         4.39831791e-03],\n       [ 2.23423319e-02, -2.57369791e-03, -5.22122539e-03,\n         9.47465253e-03,  1.21087776e-03,  8.99918969e-03,\n        -8.98249131e-03, -6.94280774e-05,  9.93641448e-03,\n         8.00455289e-03],\n       [ 1.40351399e-02,  4.15639864e-03, -2.10452334e-03,\n        -4.32939581e-03,  4.23265306e-03, -4.82038533e-03,\n         5.90722949e-04,  3.83019087e-03, -3.61668285e-03,\n        -9.92013555e-03],\n       [ 1.66476984e-02, -2.09649161e-02,  4.63302488e-03,\n        -3.82104864e-03,  2.69007518e-03, -1.04219384e-02,\n        -1.14151524e-02,  1.54167737e-02, -2.72272339e-02,\n         4.09572385e-04],\n       [ 5.81183669e-02, -1.10284946e-01,  3.46633463e-02,\n        -1.60312851e-02, -1.65719027e-02,  5.85549367e-02,\n        -1.88599716e-01,  5.34835036e-01,  3.24761522e-03,\n        -1.53198114e-01],\n       [ 3.12374420e-02, -4.73232256e-02,  5.81909106e-03,\n        -1.78607217e-03, -4.16789542e-03,  1.98907919e-02,\n        -6.52380007e-02,  1.51117309e-01, -5.40076866e-03,\n        -5.27528158e-02],\n       [ 7.39458887e-03, -5.68600551e-03, -5.23161184e-03,\n        -4.70109700e-05, -1.20099316e-03,  4.49975983e-03,\n         3.30294242e-03,  5.80364590e-03, -5.33758303e-04,\n        -4.91086109e-04],\n       [ 3.14927274e-03,  1.89305056e-03,  9.17728324e-04,\n        -1.72034813e-03,  1.23311184e-03,  5.37436890e-04,\n         4.18724589e-04, -2.74648979e-03, -3.02554292e-03,\n        -2.76638514e-03],\n       [ 3.46058207e-02, -4.84367400e-02,  1.10019761e-02,\n        -1.16102135e-02, -7.02390485e-03,  1.53373921e-02,\n        -7.00869630e-02,  1.42912318e-01, -1.44206307e-02,\n        -4.14419852e-02],\n       [ 9.82148276e-03, -1.87769367e-02,  3.26339818e-03,\n        -7.19493850e-03,  6.90147446e-03,  9.41262755e-04,\n         1.66545416e-02, -4.99152346e-03,  6.94273501e-03,\n        -7.10806458e-04],\n       [ 3.97834287e-02, -7.42060481e-02,  4.46146584e-02,\n        -5.51554685e-03, -1.89391462e-02,  6.37038269e-02,\n        -1.51400170e-01,  4.04781488e-01, -1.46429457e-03,\n        -1.19040625e-01],\n       [ 2.01172369e-02, -4.79307765e-02,  1.17318725e-02,\n         9.06406319e-03,  8.38550431e-03, -1.40063643e-02,\n         1.66436396e-02,  2.26560131e-02,  6.09004126e-02,\n        -3.37330876e-02],\n       [ 1.02345017e-02, -1.12269259e-02,  7.95897631e-03,\n         5.72886315e-04, -1.19335077e-03,  4.38189040e-03,\n        -1.36881910e-02,  8.49127574e-03, -3.97049868e-03,\n        -1.87573501e-03],\n       [ 1.14494457e-02, -1.59479634e-02,  5.32006989e-03,\n        -1.74670966e-03,  1.21483662e-03,  5.90667391e-04,\n         8.47170808e-03, -7.94351349e-03,  1.11418902e-02,\n        -4.11643614e-03],\n       [ 1.82483502e-02, -1.85499452e-02,  1.36705903e-02,\n        -6.47255141e-04, -4.27663451e-03,  6.24990049e-03,\n        -1.82099667e-02,  2.30058476e-02, -7.57942238e-03,\n         1.99729828e-03],\n       [ 5.62550135e-03, -5.33164579e-03,  3.07444466e-03,\n        -2.96209972e-03,  3.12850763e-04,  1.03571223e-03,\n        -5.16080450e-03,  1.09931222e-02,  2.16866257e-03,\n        -1.24821254e-02],\n       [ 1.01606891e-02,  2.00867803e-03,  3.30123708e-03,\n        -3.61716550e-03, -1.88677452e-03,  6.29432556e-03,\n        -1.62925170e-03, -2.72139635e-03, -5.18143360e-03,\n         6.12947021e-03],\n       [ 6.97751719e-03, -3.81920852e-03,  1.30792959e-03,\n         7.43185655e-03, -6.82490575e-03,  6.03694195e-03,\n        -3.00083073e-03,  3.00042923e-03, -6.10126666e-03,\n         6.69747929e-03],\n       [ 2.98985913e-02, -4.00688286e-03,  2.53699864e-02,\n        -1.76035588e-02,  5.10675319e-03,  1.28475319e-02,\n        -2.31264921e-02, -1.17809544e-02, -3.57236120e-03,\n         7.98226902e-03],\n       [ 1.10338102e-02,  1.12760601e-03,  1.60216973e-03,\n         3.01962299e-03,  3.86355922e-04,  4.03317285e-04,\n        -1.40532661e-03, -3.42677417e-03, -2.94398896e-03,\n        -3.89017055e-03],\n       [ 8.05524443e-03,  1.72269492e-04,  3.51691819e-03,\n        -5.60954638e-05, -2.14248044e-03,  7.70645824e-04,\n        -2.06618225e-03, -3.12912415e-03, -2.94342422e-03,\n        -1.10203526e-03],\n       [ 6.13757249e-03,  4.46655287e-04,  1.02174291e-03,\n         4.25829403e-03, -2.46104756e-04, -4.28064860e-03,\n        -2.87421192e-03, -1.81216653e-03, -3.14727054e-03,\n         2.20321158e-03],\n       [ 2.06288611e-01, -1.31151212e-01, -1.86573653e-02,\n         2.16527412e-01, -1.54594616e-01, -6.13570783e-01,\n         2.12599254e-01,  4.35877972e-02,  3.17079051e-01,\n        -9.09721268e-02],\n       [ 1.52961430e-01, -2.39246552e-01,  1.08796895e-01,\n         8.21946982e-02, -1.17504551e-01, -5.50966038e-01,\n        -1.46191968e-01, -4.60896741e-02, -4.39257674e-01,\n         2.81743376e-01],\n       [ 4.26588401e-02, -1.36976466e-02,  1.95385011e-02,\n         1.24989879e-02, -1.39778653e-04, -4.92980306e-02,\n         1.28537539e-02, -1.42794003e-02,  2.27510564e-02,\n        -1.53913005e-02],\n       [ 1.11632271e-01, -1.42195145e-01,  3.75453629e-02,\n         2.58251102e-02,  8.85416613e-03, -7.50429155e-02,\n         1.41031428e-02,  7.91373558e-03,  2.60911488e-02,\n        -1.74013810e-02],\n       [ 7.40783605e-02, -3.68297638e-02,  5.95087105e-03,\n         2.46579311e-02, -2.02121545e-02, -1.21199305e-01,\n         4.68258885e-02, -1.44216914e-02, -1.04685271e-02,\n        -1.87693177e-02],\n       [ 3.13206444e-02, -3.79410943e-02,  1.17777295e-02,\n         2.21361769e-02,  4.37057462e-03, -5.74656516e-02,\n         3.60190237e-02, -1.23941905e-02,  6.01984765e-02,\n        -2.50207588e-02],\n       [ 5.91162057e-02, -9.20218619e-02,  2.65539684e-02,\n         2.07864432e-02,  3.10959335e-03, -2.34307480e-02,\n        -2.13553044e-03,  3.48801583e-03,  3.62781205e-02,\n         1.05186928e-03],\n       [ 1.25680953e-02, -3.76143361e-03,  2.70876854e-03,\n         4.99584265e-04, -4.20005713e-03, -3.75427697e-04,\n        -3.07107367e-04, -5.75682697e-03, -3.76841335e-03,\n        -4.56428718e-03],\n       [ 1.35692846e-02, -2.07369382e-02,  1.19579490e-02,\n         2.61738923e-03, -4.24130041e-03, -9.36051008e-03,\n        -9.96840155e-03,  9.87346428e-03, -2.29082400e-03,\n         5.89344756e-03],\n       [ 2.34326828e-02, -1.83288687e-02,  6.10926206e-04,\n        -5.97953972e-03,  7.26577542e-03, -3.41868622e-03,\n         1.02876930e-02, -5.05459549e-03,  5.69432045e-03,\n         9.64161079e-04],\n       [ 8.78028185e-02,  7.59503175e-05, -3.08344534e-02,\n        -4.38492900e-02,  2.92163806e-02,  8.10990481e-03,\n         3.09095580e-02,  2.93571487e-02, -3.03589527e-02,\n        -4.44756903e-02],\n       [ 1.29601530e-01, -4.29816990e-03, -1.03747630e-01,\n        -7.28019446e-02,  4.35594211e-02,  1.94652434e-02,\n         4.37440828e-03,  1.11296249e-02, -7.55739328e-02,\n        -8.38739401e-02],\n       [ 9.44140998e-02, -1.45083259e-01,  4.52305571e-02,\n         7.75075688e-03,  5.67879557e-03,  1.69799417e-02,\n        -1.43800843e-01,  2.36667482e-01, -2.04779648e-02,\n        -2.07015056e-02],\n       [ 1.57325118e-02, -1.35928044e-02,  1.15974014e-03,\n        -3.76184677e-03,  4.01899196e-03,  5.53501233e-03,\n        -3.44997492e-03,  2.58263157e-03, -3.04121663e-03,\n        -1.09592675e-03],\n       [ 4.01017239e-02, -4.75370089e-02,  8.79257433e-03,\n         9.82030673e-03,  3.44992176e-03,  1.28106150e-03,\n        -3.21201217e-02,  7.35311173e-02, -7.82647619e-03,\n        -9.98265507e-03],\n       [ 5.81974184e-02, -6.55941961e-02,  1.25005350e-02,\n        -1.75467968e-02,  7.09998683e-03,  2.54250052e-02,\n        -5.22342369e-02,  1.28106627e-01, -2.10776371e-02,\n        -2.85355300e-02],\n       [ 1.78071965e-02, -1.03955956e-02, -6.74263132e-03,\n        -1.24833552e-02,  8.18454097e-03,  5.40702527e-03,\n        -3.88952159e-03, -4.55342789e-03, -6.91441979e-03,\n        -8.58581803e-03],\n       [ 5.89368776e-02, -1.08263334e-02, -1.08878572e-02,\n        -1.58131562e-02,  1.86582176e-02, -3.09700314e-03,\n         7.06261619e-03,  2.12780173e-02, -1.09095262e-02,\n        -5.70816797e-02],\n       [ 2.46210346e-02, -3.26055318e-03, -8.21787714e-03,\n        -7.95539406e-03,  9.86146394e-03,  4.22651225e-03,\n         3.12327654e-03,  3.50613356e-03, -9.33463534e-03,\n        -5.06755270e-03],\n       [ 2.14773361e-02, -2.09858447e-02, -6.00736203e-03,\n        -3.97025496e-03,  8.72186016e-03,  2.29792268e-04,\n         1.57693937e-02, -6.43194247e-03,  2.23803400e-02,\n        -1.30608944e-02],\n       [ 3.80182805e-03, -9.71711423e-04,  2.07366415e-04,\n        -3.26494787e-03,  1.04390397e-03,  1.70552572e-03,\n         1.83776628e-03, -1.22774140e-03, -4.73023194e-03,\n        -2.16113050e-03],\n       [ 1.95138316e-01,  5.82713324e-02, -1.47813453e-01,\n        -6.20580284e-02,  2.60076224e-02, -5.24925138e-02,\n         1.00805131e-01, -1.15968603e-01, -5.59134156e-01,\n        -5.28038592e-01],\n       [ 9.72803436e-02, -1.16461140e-01, -2.22678566e-02,\n        -2.70884786e-02,  7.40163283e-02,  3.85390488e-02,\n         1.07112275e-01, -3.55900555e-02,  2.16461152e-02,\n        -2.66498676e-02],\n       [ 3.90815291e-02, -4.97990766e-02,  1.13055956e-02,\n        -6.46387144e-03,  6.70927581e-03,  2.13839524e-02,\n        -1.05839950e-02,  3.60680521e-02, -2.07734330e-02,\n        -2.67553965e-02],\n       [ 3.30924282e-02, -4.14695446e-03, -2.67493533e-02,\n        -3.09545008e-02,  2.04701148e-02,  4.46152476e-04,\n        -8.63791759e-03, -1.18307735e-02, -2.83547690e-02,\n        -3.63208473e-02],\n       [ 8.42671297e-02, -5.14084628e-02, -9.22822340e-03,\n        -4.87598337e-02,  3.60989153e-02,  8.56960608e-03,\n         3.49665569e-02, -2.35201038e-02, -1.04355542e-01,\n        -5.75135055e-02],\n       [ 1.30264302e-02,  4.25042366e-04, -1.88242755e-03,\n        -5.89864957e-03,  6.66257720e-03,  7.01803193e-04,\n         1.17196956e-02, -8.71513913e-03, -1.83301545e-02,\n        -4.77764013e-03],\n       [ 9.95222802e-03, -9.99991638e-03, -3.47047974e-03,\n         2.56748878e-03,  4.97465144e-04, -1.59909949e-03,\n        -6.05542266e-03,  1.09422625e-02, -2.61401668e-03,\n        -7.35587572e-03],\n       [ 2.87161700e-01, -5.13280075e-01,  9.03244512e-02,\n        -2.00408425e-01,  2.64925290e-01,  2.87527712e-01,\n         4.48482336e-01, -7.11281764e-02, -7.89270404e-02,\n         3.22851660e-01],\n       [ 1.03083511e-01, -7.06501547e-02, -3.72141214e-02,\n        -4.42612623e-02,  3.56427421e-02,  2.60694259e-02,\n         6.40884764e-03, -8.16119712e-03, -9.78490255e-02,\n        -9.44903310e-02],\n       [ 1.30450692e-02, -9.92171995e-03, -1.83815692e-03,\n         2.80241309e-03,  2.79634778e-03, -1.66967810e-03,\n        -1.33432462e-03,  9.20209410e-03, -7.54987015e-04,\n         3.73571462e-03],\n       [ 2.49718025e-01,  9.68483588e-02, -4.26712708e-01,\n        -7.26039140e-01, -3.17542177e-01, -1.15865366e-01,\n        -8.79085910e-02,  2.15673037e-02,  2.17890175e-01,\n         1.43579920e-01],\n       [ 7.05370896e-03, -5.96610519e-03,  2.78919788e-04,\n        -8.65608595e-03, -1.72915934e-03,  2.36168175e-03,\n         3.70926270e-03, -4.67691417e-04, -4.98856358e-03,\n         1.13848947e-03],\n       [ 8.29595235e-03,  2.14583319e-03, -1.14120590e-03,\n        -5.66457838e-03, -4.54052777e-03, -2.14345722e-03,\n        -2.78993327e-03, -3.35585929e-03, -4.37518621e-03,\n         8.45649148e-04],\n       [ 6.13487803e-03, -9.10595322e-03,  1.59283957e-03,\n        -1.12700329e-03, -6.25509402e-05,  2.07252069e-03,\n        -3.69099039e-03,  1.13420382e-02,  4.02614153e-04,\n        -2.14802306e-03],\n       [ 4.75736406e-02,  1.08953342e-02, -2.08489539e-02,\n        -3.04022250e-02, -1.13472056e-02, -1.57720347e-02,\n        -4.11986847e-03, -1.21391617e-02, -8.58944959e-03,\n        -8.84986780e-03],\n       [ 4.26863757e-02, -7.24525487e-03, -1.34157619e-02,\n        -6.61236157e-03, -5.59833170e-03,  1.61533516e-03,\n        -1.01142982e-02,  1.31017495e-02, -9.08538003e-03,\n        -1.31329958e-02],\n       [ 8.53965490e-03, -1.34729739e-03, -3.96754830e-03,\n        -6.68409576e-03, -1.42044993e-04,  2.26435070e-04,\n         3.45112138e-03, -3.47757582e-03, -3.11492635e-03,\n        -3.63886490e-03],\n       [ 9.65821017e-02, -1.61647334e-01,  3.14955563e-02,\n        -1.51026742e-02, -1.05313713e-02,  3.52675127e-02,\n        -1.38223150e-01,  1.88962681e-01, -3.23362632e-02,\n        -4.03001782e-02],\n       [ 2.73294082e-02, -2.53536689e-02,  3.92975386e-03,\n        -7.95474252e-03, -9.54880931e-04,  1.06676101e-03,\n        -1.98044718e-03,  4.11047405e-02, -3.01012340e-03,\n        -1.26380168e-02],\n       [ 2.18869055e-02,  1.44206061e-02,  4.04854275e-05,\n        -1.35736869e-02,  2.59352817e-03,  6.09681805e-03,\n        -8.62902282e-03, -1.24066003e-02, -1.49994594e-03,\n        -1.43094251e-02],\n       [ 1.09210443e-02, -8.62406568e-03,  1.17373349e-03,\n        -4.17522173e-03,  2.21032372e-03,  8.80776699e-03,\n         7.13610092e-03, -6.26956669e-03, -1.01390398e-03,\n        -2.17132633e-03],\n       [ 1.41300574e-01,  3.40641382e-02, -3.04923225e-02,\n        -1.05829460e-01, -5.27945912e-03,  5.04121490e-02,\n         5.67986850e-02, -1.85252135e-01, -7.68192139e-02,\n        -4.30044379e-01],\n       [ 1.22361475e-02, -1.41602481e-02, -2.09663791e-03,\n        -8.50579091e-03,  7.51908584e-03,  1.74526898e-03,\n         1.66817104e-02, -8.67288878e-03, -7.51257587e-04,\n         3.07215253e-05],\n       [ 4.96726569e-02, -3.60426693e-02,  2.27889824e-03,\n        -3.53359158e-03,  1.15348474e-02, -1.88238699e-02,\n         5.64278334e-02, -2.65430627e-02,  3.70561585e-02,\n        -2.91443109e-02],\n       [ 2.06084894e-02,  8.47387993e-03, -6.09537828e-04,\n        -1.50791015e-02,  7.15080308e-04,  5.36501894e-03,\n         8.60275673e-03, -1.50386228e-04, -8.82430405e-03,\n        -9.23908991e-03],\n       [ 4.13427353e-03, -4.91095027e-03,  9.39864178e-04,\n         9.69543567e-04, -2.96450261e-05,  1.15263356e-03,\n         3.64973217e-03, -7.00704471e-04,  6.55249691e-04,\n         1.13761891e-03],\n       [ 7.53196359e-02,  2.69080228e-02, -2.32466834e-02,\n        -2.87224323e-02,  1.20103344e-02,  2.59177020e-03,\n         1.07921977e-02, -1.60850425e-02, -5.32894146e-02,\n        -7.50727967e-02],\n       [ 1.13266698e-02, -1.32456986e-02,  1.57539785e-03,\n         4.52536471e-04,  1.92584032e-03, -3.48769137e-04,\n         5.08491656e-04,  1.09408429e-02,  2.28303558e-03,\n        -1.24991916e-03],\n       [ 1.19672658e-02, -2.08416603e-02,  1.02303575e-02,\n         1.22182718e-03,  9.52566251e-04,  1.33247522e-02,\n        -1.65011957e-02,  4.27233232e-02,  2.34701804e-03,\n        -1.27562592e-02],\n       [ 3.41912551e-01,  1.08851751e-01, -5.82572852e-01,\n         3.55455367e-01,  5.26262209e-01,  1.27769772e-03,\n        -2.72168834e-01, -4.34231679e-02,  1.05881643e-01,\n         1.39366159e-01],\n       [ 2.90842131e-02, -2.98248108e-02,  1.03988778e-02,\n        -2.29058390e-03,  1.34372289e-02,  6.51335665e-03,\n         8.72729645e-03,  2.06362222e-02,  6.91262379e-03,\n        -4.61768306e-03],\n       [ 3.17235708e-02, -4.44317461e-02,  4.27604075e-04,\n         1.76091947e-02,  7.92202113e-03,  4.32831218e-03,\n         9.18496909e-03, -5.70356547e-03,  3.51484358e-02,\n        -1.06594130e-02],\n       [ 3.02874427e-01,  1.47172464e-01, -2.00825002e-01,\n         4.40527928e-01, -6.38622872e-01,  3.42316925e-01,\n         2.60268454e-01,  7.94008783e-02, -1.09334854e-01,\n         1.59361137e-01],\n       [ 1.29487237e-01, -1.47966308e-01,  3.17568021e-02,\n         2.14902073e-02, -3.91239309e-02,  1.05382345e-01,\n        -9.45932390e-02,  1.90682260e-01, -3.03884139e-03,\n        -5.10881267e-02],\n       [ 4.65598446e-02, -7.30421277e-02,  1.92763815e-02,\n         1.92691801e-03, -6.75429691e-03,  3.84744069e-02,\n        -4.48697891e-02,  1.30276591e-01, -2.66378681e-03,\n        -5.09378891e-03],\n       [ 1.57068005e-02, -9.82214650e-03,  3.31094022e-04,\n         7.60078335e-03,  5.40785850e-03, -4.23947571e-03,\n         1.33128820e-02, -4.66849870e-03,  1.95304962e-02,\n        -1.08345778e-02],\n       [ 2.50670142e-02,  1.32111662e-02, -8.32569132e-03,\n         8.22743676e-04,  5.37273307e-03,  2.37571127e-03,\n         1.31360761e-02, -4.79950039e-03, -6.79526359e-03,\n        -4.38223439e-03],\n       [ 4.87699386e-02, -7.49425811e-02, -1.01059784e-02,\n         7.04836810e-03,  2.86047442e-02,  2.34982522e-02,\n         5.46666992e-02, -5.49052534e-03,  4.83225968e-02,\n         1.03043382e-02],\n       [ 3.17235708e-02, -4.44317461e-02,  4.27604075e-04,\n         1.76091947e-02,  7.92202113e-03,  4.32831218e-03,\n         9.18496909e-03, -5.70356547e-03,  3.51484358e-02,\n        -1.06594130e-02]])"
     },
     "execution_count": 42,
     "metadata": {},
     "output_type": "execute_result"
    }
   ],
   "source": [
    "dt_matrix = corpus2dense(lsa_model[bow], len(lsa_model.projection.s)).T / lsa_model.projection.s\n",
    "dt_matrix"
   ],
   "metadata": {
    "collapsed": false,
    "pycharm": {
     "name": "#%%\n"
    }
   }
  },
  {
   "cell_type": "markdown",
   "source": [
    "## Inspect Topics\n",
    "The matrix plots a score for each document for each topic.\n",
    "Todo\n",
    "- Find corresponding topics for each number\n",
    "  - might be difficult since we don't even know if there is a word for each topic\n",
    "  - maybe find words that define each topic from tf-idf matrix\n",
    "- figure out how many topics we want"
   ],
   "metadata": {
    "collapsed": false,
    "pycharm": {
     "name": "#%% md\n"
    }
   }
  },
  {
   "cell_type": "code",
   "execution_count": 61,
   "outputs": [
    {
     "name": "stdout",
     "output_type": "stream",
     "text": [
      "[(0,\n",
      "  '0.319*\"citi\" + 0.161*\"town\" + 0.160*\"place\" + 0.136*\"centuri\" + 0.133*\"it’\" '\n",
      "  '+ 0.123*\"dai\" + 0.122*\"build\" + 0.117*\"area\" + 0.116*\"centr\" + '\n",
      "  '0.111*\"best\"'),\n",
      " (1,\n",
      "  '0.408*\"citi\" + 0.230*\"mexico\" + -0.213*\"town\" + -0.194*\"beach\" + '\n",
      "  '-0.119*\"villag\" + 0.116*\"pyramid\" + 0.104*\"build\" + -0.103*\"forest\" + '\n",
      "  '-0.103*\"south\" + -0.101*\"rout\"'),\n",
      " (2,\n",
      "  '0.262*\"mexico\" + -0.233*\"barcelona\" + -0.220*\"berlin\" + -0.186*\"museum\" + '\n",
      "  '-0.178*\"art\" + -0.167*\"bar\" + 0.140*\"site\" + 0.119*\"mexican\" + '\n",
      "  '0.109*\"pyramid\" + -0.108*\"catalan\"'),\n",
      " (3,\n",
      "  '-0.433*\"berlin\" + -0.195*\"wall\" + 0.191*\"barcelona\" + 0.191*\"madrid\" + '\n",
      "  '-0.161*\"berlin’\" + -0.131*\"build\" + 0.130*\"del\" + 0.122*\"plaza\" + '\n",
      "  '-0.117*\"east\" + -0.116*\"centuri\"'),\n",
      " (4,\n",
      "  '-0.289*\"madrid\" + -0.220*\"plaza\" + 0.205*\"barcelona\" + -0.201*\"berlin\" + '\n",
      "  '-0.173*\"san\" + -0.167*\"gai\" + 0.123*\"art\" + 0.109*\"rambla\" + 0.106*\"port\" + '\n",
      "  '0.102*\"artist\"'),\n",
      " (5,\n",
      "  '-0.391*\"rio\" + -0.170*\"manau\" + 0.162*\"madrid\" + -0.157*\"amazon\" + '\n",
      "  '-0.151*\"river\" + -0.140*\"carnav\" + 0.139*\"san\" + 0.138*\"plaza\" + '\n",
      "  '-0.135*\"beach\" + -0.133*\"school\"'),\n",
      " (6,\n",
      "  '-0.193*\"chiapa\" + 0.190*\"beach\" + -0.188*\"lake\" + -0.146*\"maya\" + '\n",
      "  '0.136*\"island\" + 0.128*\"place\" + 0.127*\"madrid\" + -0.122*\"tabasco\" + '\n",
      "  '-0.121*\"barcelona\" + -0.118*\"forest\"'),\n",
      " (7,\n",
      "  '0.473*\"lake\" + 0.230*\"trail\" + -0.195*\"san\" + 0.187*\"vallei\" + 0.178*\"hike\" '\n",
      "  '+ 0.163*\"park\" + -0.149*\"chiapa\" + 0.114*\"walk\" + -0.113*\"maya\" + '\n",
      "  '-0.110*\"site\"'),\n",
      " (8,\n",
      "  '-0.305*\"pari\" + 0.299*\"beach\" + -0.239*\"river\" + 0.169*\"berlin\" + '\n",
      "  '-0.157*\"manau\" + -0.145*\"amazon\" + 0.141*\"cabo\" + 0.138*\"san\" + '\n",
      "  '-0.136*\"boat\" + -0.117*\"rue\"'),\n",
      " (9,\n",
      "  '-0.281*\"pari\" + -0.221*\"san\" + -0.167*\"venic\" + -0.145*\"canal\" + '\n",
      "  '-0.137*\"lake\" + -0.129*\"grand\" + -0.123*\"cabo\" + 0.118*\"berlin\" + '\n",
      "  '-0.113*\"rue\" + -0.110*\"art\"')]\n"
     ]
    }
   ],
   "source": [
    "pprint(lsa_model.print_topics())"
   ],
   "metadata": {
    "collapsed": false,
    "pycharm": {
     "name": "#%%\n"
    }
   }
  },
  {
   "cell_type": "markdown",
   "source": [
    "## Predicting closest document to input based on document topic matrix"
   ],
   "metadata": {
    "collapsed": false,
    "pycharm": {
     "name": "#%% md\n"
    }
   }
  },
  {
   "cell_type": "code",
   "execution_count": 57,
   "outputs": [
    {
     "name": "stdout",
     "output_type": "stream",
     "text": [
      "[[0.08513637402782603, -0.1938736940285142, 0.025124262233920985, 0.06964420506619662, 0.04328281449187952, -0.134957452290811, 0.19046964646337594, -0.08270576574776886, 0.29901669594271174, -0.10604927113675221], [0.1609905702640511, -0.21344504204366083, 0.06920731795042735, -0.008188338162242702, 0.09299417257444216, 0.07025324586781093, 0.007476826044950392, 0.011529645436400188, 0.03761246773030037, 0.002420183212382463]]\n",
      "\"['beach']\" > \"Rio Grande do Norte\" Distance: 0.35994981168132173\n",
      "\"['city', 'town']\" > \"The Côte d’Azur Travel Guide\" Distance: 0.19184166189438917\n"
     ]
    }
   ],
   "source": [
    "# get place of the closest document for each word\n",
    "# transform svd matrix to spacial KDtree\n",
    "tree = spatial.KDTree(dt_matrix)\n",
    "\n",
    "# transform a list of words with the fitted model to get their vector-representation\n",
    "input = [['beach'], ['city', 'town']]\n",
    "# Todo: Run Preprocessing over input\n",
    "\n",
    "\n",
    "# transform words with dict to bow\n",
    "input_bow = [dictionary.doc2bow(words) for words in input]\n",
    "\n",
    "input_topics = lsa_model.__getitem__(input_bow)\n",
    "# reformat to keep just values in tuples\n",
    "input_vecs = []\n",
    "for line in input_topics:\n",
    "    input_vecs.append([y[1] for y in line])\n",
    "\n",
    "# get closest document vector for each word vector\n",
    "for i, input_vec in enumerate(input_vecs):\n",
    "    query = tree.query(input_vec)\n",
    "    print(f'\"{input[i]}\" > \"{data.Place[query[1]]}\" Distance: {query[0]}')"
   ],
   "metadata": {
    "collapsed": false,
    "pycharm": {
     "name": "#%%\n"
    }
   }
  }
 ],
 "metadata": {
  "kernelspec": {
   "name": "wi3_datascience",
   "language": "python",
   "display_name": "WI3_DataScience"
  },
  "language_info": {
   "codemirror_mode": {
    "name": "ipython",
    "version": 2
   },
   "file_extension": ".py",
   "mimetype": "text/x-python",
   "name": "python",
   "nbconvert_exporter": "python",
   "pygments_lexer": "ipython2",
   "version": "2.7.6"
  }
 },
 "nbformat": 4,
 "nbformat_minor": 0
}