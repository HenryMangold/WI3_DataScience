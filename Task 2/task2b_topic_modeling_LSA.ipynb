{
 "cells": [
  {
   "cell_type": "code",
   "execution_count": 42,
   "outputs": [
    {
     "name": "stderr",
     "output_type": "stream",
     "text": [
      "[nltk_data] Downloading package stopwords to\n",
      "[nltk_data]     C:\\Users\\Henryy\\AppData\\Roaming\\nltk_data...\n",
      "[nltk_data]   Package stopwords is already up-to-date!\n"
     ]
    }
   ],
   "source": [
    "import pandas as pd\n",
    "import re\n",
    "import os\n",
    "from scipy import spatial\n",
    "from pprint import pprint\n",
    "from datetime import date\n",
    "\n",
    "from gensim import corpora\n",
    "from gensim.models import LsiModel\n",
    "from gensim.utils import simple_preprocess\n",
    "from gensim.models.coherencemodel import CoherenceModel\n",
    "from gensim.matutils import corpus2dense\n",
    "\n",
    "import nltk\n",
    "from nltk.corpus import stopwords\n",
    "nltk.download('stopwords')\n",
    "\n",
    "import task2a_prep_functions as p\n",
    "\n",
    "today = date.today()\n",
    "d1 = today.strftime('%d%m%Y')"
   ],
   "metadata": {
    "collapsed": false,
    "pycharm": {
     "name": "#%%\n"
    }
   }
  },
  {
   "cell_type": "markdown",
   "source": [
    "## Data Preprocessing"
   ],
   "metadata": {
    "collapsed": false,
    "pycharm": {
     "name": "#%% md\n"
    }
   }
  },
  {
   "cell_type": "code",
   "execution_count": 43,
   "outputs": [
    {
     "data": {
      "text/plain": "   Unnamed: 0                                               Link  \\\n0           0    https://www.roughguides.com/usa/hawaii/waikiki/   \n1           1  https://www.roughguides.com/usa/florida/florid...   \n2           2  https://www.roughguides.com/usa/rockies/yellow...   \n3           3  https://www.roughguides.com/usa/hawaii/big-isl...   \n4           4      https://www.roughguides.com/usa/great-plains/   \n\n                           Place  \\\n0                        Waikiki   \n1               The Florida Keys   \n2      Yellowstone National Park   \n3                 The Big Island   \n4  The Great Plains Travel Guide   \n\n                                             Content  \n0  Built on a reclaimed swamp, two miles east of ...  \n1  Folklore, films and widespread hearsay have gi...  \n2  America’s oldest and easily its most famous na...  \n3  Although the Big Island of Hawaii could hold a...  \n4  The rolling hills and vast grasslands of the G...  ",
      "text/html": "<div>\n<style scoped>\n    .dataframe tbody tr th:only-of-type {\n        vertical-align: middle;\n    }\n\n    .dataframe tbody tr th {\n        vertical-align: top;\n    }\n\n    .dataframe thead th {\n        text-align: right;\n    }\n</style>\n<table border=\"1\" class=\"dataframe\">\n  <thead>\n    <tr style=\"text-align: right;\">\n      <th></th>\n      <th>Unnamed: 0</th>\n      <th>Link</th>\n      <th>Place</th>\n      <th>Content</th>\n    </tr>\n  </thead>\n  <tbody>\n    <tr>\n      <th>0</th>\n      <td>0</td>\n      <td>https://www.roughguides.com/usa/hawaii/waikiki/</td>\n      <td>Waikiki</td>\n      <td>Built on a reclaimed swamp, two miles east of ...</td>\n    </tr>\n    <tr>\n      <th>1</th>\n      <td>1</td>\n      <td>https://www.roughguides.com/usa/florida/florid...</td>\n      <td>The Florida Keys</td>\n      <td>Folklore, films and widespread hearsay have gi...</td>\n    </tr>\n    <tr>\n      <th>2</th>\n      <td>2</td>\n      <td>https://www.roughguides.com/usa/rockies/yellow...</td>\n      <td>Yellowstone National Park</td>\n      <td>America’s oldest and easily its most famous na...</td>\n    </tr>\n    <tr>\n      <th>3</th>\n      <td>3</td>\n      <td>https://www.roughguides.com/usa/hawaii/big-isl...</td>\n      <td>The Big Island</td>\n      <td>Although the Big Island of Hawaii could hold a...</td>\n    </tr>\n    <tr>\n      <th>4</th>\n      <td>4</td>\n      <td>https://www.roughguides.com/usa/great-plains/</td>\n      <td>The Great Plains Travel Guide</td>\n      <td>The rolling hills and vast grasslands of the G...</td>\n    </tr>\n  </tbody>\n</table>\n</div>"
     },
     "execution_count": 43,
     "metadata": {},
     "output_type": "execute_result"
    }
   ],
   "source": [
    "# read in dataframe from csv\n",
    "data = pd.read_csv('results_scrapping.csv')\n",
    "data.head()"
   ],
   "metadata": {
    "collapsed": false,
    "pycharm": {
     "name": "#%%\n"
    }
   }
  },
  {
   "cell_type": "code",
   "execution_count": 44,
   "outputs": [
    {
     "data": {
      "text/plain": "   Unnamed: 0                                               Link  \\\n0           0    https://www.roughguides.com/usa/hawaii/waikiki/   \n1           1  https://www.roughguides.com/usa/florida/florid...   \n2           2  https://www.roughguides.com/usa/rockies/yellow...   \n3           3  https://www.roughguides.com/usa/hawaii/big-isl...   \n4           4      https://www.roughguides.com/usa/great-plains/   \n\n                           Place  \\\n0                        Waikiki   \n1               The Florida Keys   \n2      Yellowstone National Park   \n3                 The Big Island   \n4  The Great Plains Travel Guide   \n\n                                             Content  \\\n0  Built on a reclaimed swamp, two miles east of ...   \n1  Folklore, films and widespread hearsay have gi...   \n2  America’s oldest and easily its most famous na...   \n3  Although the Big Island of Hawaii could hold a...   \n4  The rolling hills and vast grasslands of the G...   \n\n                                   content_processed  \\\n0  built on a reclaimed swamp two miles east of d...   \n1  folklore films and widespread hearsay have giv...   \n2  america’s oldest and easily its most famous na...   \n3  although the big island of hawaii could hold a...   \n4  the rolling hills and vast grasslands of the g...   \n\n                                        content_prep  \n0  [build, reclaimed, swamp, mile, east, downtown...  \n1  [folklore, film, widespread, hearsay, give, fl...  \n2  [america, old, easily, famous, national, park,...  \n3  [although, big, island, hawaii, could, hold, i...  \n4  [rolling, hill, vast, grassland, great, plain,...  ",
      "text/html": "<div>\n<style scoped>\n    .dataframe tbody tr th:only-of-type {\n        vertical-align: middle;\n    }\n\n    .dataframe tbody tr th {\n        vertical-align: top;\n    }\n\n    .dataframe thead th {\n        text-align: right;\n    }\n</style>\n<table border=\"1\" class=\"dataframe\">\n  <thead>\n    <tr style=\"text-align: right;\">\n      <th></th>\n      <th>Unnamed: 0</th>\n      <th>Link</th>\n      <th>Place</th>\n      <th>Content</th>\n      <th>content_processed</th>\n      <th>content_prep</th>\n    </tr>\n  </thead>\n  <tbody>\n    <tr>\n      <th>0</th>\n      <td>0</td>\n      <td>https://www.roughguides.com/usa/hawaii/waikiki/</td>\n      <td>Waikiki</td>\n      <td>Built on a reclaimed swamp, two miles east of ...</td>\n      <td>built on a reclaimed swamp two miles east of d...</td>\n      <td>[build, reclaimed, swamp, mile, east, downtown...</td>\n    </tr>\n    <tr>\n      <th>1</th>\n      <td>1</td>\n      <td>https://www.roughguides.com/usa/florida/florid...</td>\n      <td>The Florida Keys</td>\n      <td>Folklore, films and widespread hearsay have gi...</td>\n      <td>folklore films and widespread hearsay have giv...</td>\n      <td>[folklore, film, widespread, hearsay, give, fl...</td>\n    </tr>\n    <tr>\n      <th>2</th>\n      <td>2</td>\n      <td>https://www.roughguides.com/usa/rockies/yellow...</td>\n      <td>Yellowstone National Park</td>\n      <td>America’s oldest and easily its most famous na...</td>\n      <td>america’s oldest and easily its most famous na...</td>\n      <td>[america, old, easily, famous, national, park,...</td>\n    </tr>\n    <tr>\n      <th>3</th>\n      <td>3</td>\n      <td>https://www.roughguides.com/usa/hawaii/big-isl...</td>\n      <td>The Big Island</td>\n      <td>Although the Big Island of Hawaii could hold a...</td>\n      <td>although the big island of hawaii could hold a...</td>\n      <td>[although, big, island, hawaii, could, hold, i...</td>\n    </tr>\n    <tr>\n      <th>4</th>\n      <td>4</td>\n      <td>https://www.roughguides.com/usa/great-plains/</td>\n      <td>The Great Plains Travel Guide</td>\n      <td>The rolling hills and vast grasslands of the G...</td>\n      <td>the rolling hills and vast grasslands of the g...</td>\n      <td>[rolling, hill, vast, grassland, great, plain,...</td>\n    </tr>\n  </tbody>\n</table>\n</div>"
     },
     "execution_count": 44,
     "metadata": {},
     "output_type": "execute_result"
    }
   ],
   "source": [
    "# preprocess given text\n",
    "def preprocess(data):\n",
    "    # Remove punctuation\n",
    "    data['content_processed'] = data['Content'].map(lambda x: re.sub('[,\\.!?]', '', x))\n",
    "\n",
    "    # Convert text to lowercase\n",
    "    data['content_processed'] = data['content_processed'].map(lambda x: x.lower())\n",
    "\n",
    "    stop_words = stopwords.words('english')\n",
    "    stop_words.extend(['from', 'subject', 're', 'edu', 'use', 'de', 'km', 'one', 'two'])\n",
    "\n",
    "    def sent_to_words(sentences):\n",
    "        for sentence in sentences:\n",
    "            yield simple_preprocess(str(sentence), deacc=True) # -> True removes punctuations\n",
    "\n",
    "    def remove_stopwords(texts):\n",
    "        return [[word for word in simple_preprocess(str(doc)) if word not in stop_words] for doc in texts]\n",
    "\n",
    "    # Tokenizing and remove punctuation of processed content\n",
    "    data_list = data.content_processed.values.tolist()\n",
    "    data_words = list(sent_to_words(data_list))\n",
    "\n",
    "    # Lemmatization of processed content\n",
    "    data_lemmatize = p.lemmatize_to_list([data_words])[0]\n",
    "\n",
    "    # Remove stop words of processed content\n",
    "    data_words = remove_stopwords(data_lemmatize)\n",
    "    data['content_prep'] = data_words\n",
    "\n",
    "    return data\n",
    "\n",
    "\n",
    "data = preprocess(data)\n",
    "data.head()"
   ],
   "metadata": {
    "collapsed": false,
    "pycharm": {
     "name": "#%%\n"
    }
   }
  },
  {
   "cell_type": "markdown",
   "source": [
    "# Latent Semantic Analysis (LSA)\n",
    "For LSA the following basic steps are required. These steps are combined in the Gensim LsiModel (yes for some reason they named it LSI) that will be used here.\n",
    "\n",
    "## 1.  TF-IDF Vectorization\n",
    "Goal is to create a document-term matrix that contains the tf-idf values for words within each document. A high tf-idf score represents a word that appears often in a document but not very often in the corpus. This means that this word is likely usefully for dokument classification. Words that appear often in a document but also often in the corpus will get a low tf-idf score.\n",
    "\n",
    "## 2. Singular Value Decomposition (SVD) for dimensionality reduction\n",
    "the resulting document-term matrix is a huge matrix with a lot of noisy and redundant information. Therefore, we want to reduce the dimensions to only a few latent topics that capture the relationships among the words and documents."
   ],
   "metadata": {
    "collapsed": false,
    "pycharm": {
     "name": "#%% md\n"
    }
   }
  },
  {
   "cell_type": "code",
   "execution_count": 45,
   "outputs": [
    {
     "name": "stdout",
     "output_type": "stream",
     "text": [
      "Dictionary(14525 unique tokens: ['ala', 'along', 'always', 'apart', 'around']...)\n"
     ]
    }
   ],
   "source": [
    "# create dictionary and corpus\n",
    "corpus = data['content_prep']\n",
    "dictionary = corpora.Dictionary(corpus)\n",
    "print(dictionary)"
   ],
   "metadata": {
    "collapsed": false,
    "pycharm": {
     "name": "#%%\n"
    }
   }
  },
  {
   "cell_type": "code",
   "execution_count": 46,
   "outputs": [
    {
     "data": {
      "text/plain": "100"
     },
     "execution_count": 46,
     "metadata": {},
     "output_type": "execute_result"
    }
   ],
   "source": [
    "# convert corpus to bag of words\n",
    "bow = [dictionary.doc2bow(text) for text in corpus]\n",
    "len(bow)"
   ],
   "metadata": {
    "collapsed": false,
    "pycharm": {
     "name": "#%%\n"
    }
   }
  },
  {
   "cell_type": "code",
   "execution_count": null,
   "outputs": [],
   "source": [
    "# find the coherence score with a different number of topics\n",
    "for i in range(2,11):\n",
    "    lsi = LsiModel(bow, num_topics=i, id2word=dictionary)\n",
    "    coherence_model = CoherenceModel(model=lsi, texts=data['content_prep'], dictionary=dictionary, coherence='c_v')\n",
    "    coherence_score = coherence_model.get_coherence()\n",
    "    print('Coherence score with {} clusters: {}'.format(i, coherence_score))"
   ],
   "metadata": {
    "collapsed": false,
    "pycharm": {
     "name": "#%%\n"
    }
   }
  },
  {
   "cell_type": "code",
   "execution_count": null,
   "outputs": [],
   "source": [
    "# build LSA model\n",
    "lsa_model = LsiModel(bow, num_topics=10, id2word=dictionary)"
   ],
   "metadata": {
    "collapsed": false,
    "pycharm": {
     "name": "#%%\n"
    }
   }
  },
  {
   "cell_type": "code",
   "execution_count": null,
   "outputs": [],
   "source": [
    "dt_matrix = corpus2dense(lsa_model[bow], len(lsa_model.projection.s)).T / lsa_model.projection.s\n",
    "dt_matrix"
   ],
   "metadata": {
    "collapsed": false,
    "pycharm": {
     "name": "#%%\n"
    }
   }
  },
  {
   "cell_type": "markdown",
   "source": [
    "## Inspect Topics\n",
    "The matrix plots a score for each document for each topic.\n",
    "Todo\n",
    "- Find corresponding topics for each number\n",
    "  - might be difficult since we don't even know if there is a word for each topic\n",
    "  - maybe find words that define each topic from tf-idf matrix\n",
    "- figure out how many topics we want"
   ],
   "metadata": {
    "collapsed": false,
    "pycharm": {
     "name": "#%% md\n"
    }
   }
  },
  {
   "cell_type": "code",
   "execution_count": null,
   "outputs": [],
   "source": [
    "pprint(lsa_model.print_topics())"
   ],
   "metadata": {
    "collapsed": false,
    "pycharm": {
     "name": "#%%\n"
    }
   }
  },
  {
   "cell_type": "markdown",
   "source": [
    "## Predicting closest document to input based on document topic matrix"
   ],
   "metadata": {
    "collapsed": false,
    "pycharm": {
     "name": "#%% md\n"
    }
   }
  },
  {
   "cell_type": "code",
   "execution_count": null,
   "outputs": [],
   "source": [
    "# get place of the closest document for each word\n",
    "# transform svd matrix to spacial KDtree\n",
    "tree = spatial.KDTree(dt_matrix)\n",
    "\n",
    "# transform a list of words with the fitted model to get their vector-representation\n",
    "input = [['sun', 'beach'], ['city', 'town'], ['mountain', 'hiking']]\n",
    "# Todo: Run Preprocessing over input\n",
    "\n",
    "\n",
    "# transform words with dict to bow\n",
    "input_bow = [dictionary.doc2bow(words) for words in input]\n",
    "\n",
    "input_topics = lsa_model.__getitem__(input_bow)\n",
    "# reformat to keep just values in tuples\n",
    "input_vecs = []\n",
    "for line in input_topics:\n",
    "    input_vecs.append([y[1] for y in line])\n",
    "\n",
    "# get closest document vector for each word vector\n",
    "for i, input_vec in enumerate(input_vecs):\n",
    "    query = tree.query(input_vec)\n",
    "    print(f'\"{input[i]}\" > \"{data.Place[query[1]]}\" Distance: {query[0]}')"
   ],
   "metadata": {
    "collapsed": false,
    "pycharm": {
     "name": "#%%\n"
    }
   }
  },
  {
   "cell_type": "code",
   "execution_count": null,
   "outputs": [],
   "source": [],
   "metadata": {
    "collapsed": false,
    "pycharm": {
     "name": "#%%\n"
    }
   }
  },
  {
   "cell_type": "markdown",
   "source": [
    "#### Script to train multiple LSA Models with different configurations and show differences in an Excel File"
   ],
   "metadata": {
    "collapsed": false,
    "pycharm": {
     "name": "#%% md\n"
    }
   }
  },
  {
   "cell_type": "code",
   "execution_count": null,
   "outputs": [
    {
     "name": "stdout",
     "output_type": "stream",
     "text": [
      "[(0,\n",
      "  '0.366*\"city\" + 0.167*\"around\" + 0.150*\"town\" + 0.144*\"place\" + 0.120*\"la\" + '\n",
      "  '0.120*\"mexico\" + 0.118*\"century\" + 0.112*\"day\" + 0.111*\"take\" + '\n",
      "  '0.110*\"area\"'),\n",
      " (1,\n",
      "  '-0.448*\"city\" + -0.227*\"mexico\" + 0.221*\"town\" + 0.185*\"beach\" + '\n",
      "  '0.129*\"island\" + 0.115*\"village\" + 0.115*\"rio\" + 0.104*\"corsica\" + '\n",
      "  '0.104*\"region\" + 0.102*\"forest\"'),\n",
      " (2,\n",
      "  '-0.329*\"mexico\" + 0.301*\"barcelona\" + 0.204*\"art\" + 0.200*\"berlin\" + '\n",
      "  '0.172*\"museum\" + 0.161*\"bar\" + -0.123*\"site\" + -0.118*\"mexican\" + '\n",
      "  '-0.115*\"pyramid\" + 0.108*\"catalan\"'),\n",
      " (3,\n",
      "  '-0.533*\"berlin\" + 0.225*\"madrid\" + 0.210*\"la\" + -0.184*\"wall\" + '\n",
      "  '0.178*\"barcelona\" + -0.129*\"building\" + 0.127*\"plaza\" + 0.126*\"del\" + '\n",
      "  '-0.116*\"east\" + 0.107*\"san\"'),\n",
      " (4,\n",
      "  '-0.302*\"madrid\" + -0.241*\"rio\" + 0.231*\"barcelona\" + -0.212*\"berlin\" + '\n",
      "  '-0.176*\"gay\" + -0.174*\"plaza\" + 0.137*\"art\" + -0.118*\"san\" + 0.117*\"town\" + '\n",
      "  '0.107*\"mexico\"'),\n",
      " (5,\n",
      "  '-0.449*\"rio\" + 0.229*\"madrid\" + 0.157*\"plaza\" + -0.149*\"school\" + '\n",
      "  '0.147*\"san\" + 0.142*\"la\" + -0.136*\"carnaval\" + -0.128*\"beach\" + '\n",
      "  '-0.124*\"manaus\" + -0.115*\"barcelona\"'),\n",
      " (6,\n",
      "  '-0.249*\"lake\" + 0.193*\"island\" + 0.160*\"beach\" + 0.140*\"corsica\" + '\n",
      "  '-0.138*\"chiapas\" + -0.135*\"valley\" + -0.131*\"barcelona\" + -0.126*\"trail\" + '\n",
      "  '-0.124*\"maya\" + 0.119*\"place\"'),\n",
      " (7,\n",
      "  '-0.476*\"lake\" + 0.211*\"san\" + -0.210*\"trail\" + -0.173*\"valley\" + '\n",
      "  '-0.168*\"park\" + -0.148*\"hike\" + 0.139*\"chiapas\" + 0.124*\"maya\" + '\n",
      "  '0.117*\"tabasco\" + 0.101*\"state\"'),\n",
      " (8,\n",
      "  '-0.373*\"paris\" + 0.259*\"beach\" + 0.206*\"berlin\" + -0.198*\"river\" + '\n",
      "  '0.133*\"mexico\" + -0.133*\"rue\" + -0.119*\"canal\" + -0.119*\"manaus\" + '\n",
      "  '-0.113*\"seine\" + -0.104*\"venice\"'),\n",
      " (9,\n",
      "  '0.258*\"manaus\" + 0.248*\"river\" + 0.227*\"amazon\" + -0.184*\"lake\" + '\n",
      "  '0.183*\"boat\" + -0.170*\"venice\" + 0.132*\"santarem\" + 0.125*\"hammock\" + '\n",
      "  '0.122*\"berlin\" + 0.120*\"belem\"')]\n",
      "[(0,\n",
      "  '0.366*\"city\" + 0.167*\"around\" + 0.150*\"town\" + 0.144*\"place\" + 0.120*\"la\" + '\n",
      "  '0.120*\"mexico\" + 0.118*\"century\" + 0.112*\"day\" + 0.111*\"take\" + '\n",
      "  '0.110*\"area\"'),\n",
      " (1,\n",
      "  '-0.448*\"city\" + -0.227*\"mexico\" + 0.221*\"town\" + 0.185*\"beach\" + '\n",
      "  '0.129*\"island\" + 0.115*\"village\" + 0.115*\"rio\" + 0.104*\"corsica\" + '\n",
      "  '0.104*\"region\" + 0.102*\"forest\"'),\n",
      " (2,\n",
      "  '0.329*\"mexico\" + -0.301*\"barcelona\" + -0.204*\"art\" + -0.200*\"berlin\" + '\n",
      "  '-0.172*\"museum\" + -0.161*\"bar\" + 0.123*\"site\" + 0.118*\"mexican\" + '\n",
      "  '0.115*\"pyramid\" + -0.108*\"catalan\"'),\n",
      " (3,\n",
      "  '-0.533*\"berlin\" + 0.225*\"madrid\" + 0.210*\"la\" + -0.184*\"wall\" + '\n",
      "  '0.178*\"barcelona\" + -0.129*\"building\" + 0.127*\"plaza\" + 0.126*\"del\" + '\n",
      "  '-0.116*\"east\" + 0.107*\"san\"'),\n",
      " (4,\n",
      "  '-0.302*\"madrid\" + -0.241*\"rio\" + 0.231*\"barcelona\" + -0.212*\"berlin\" + '\n",
      "  '-0.176*\"gay\" + -0.174*\"plaza\" + 0.137*\"art\" + -0.118*\"san\" + 0.117*\"town\" + '\n",
      "  '0.107*\"mexico\"'),\n",
      " (5,\n",
      "  '-0.449*\"rio\" + 0.229*\"madrid\" + 0.157*\"plaza\" + -0.149*\"school\" + '\n",
      "  '0.147*\"san\" + 0.142*\"la\" + -0.136*\"carnaval\" + -0.128*\"beach\" + '\n",
      "  '-0.124*\"manaus\" + -0.115*\"barcelona\"'),\n",
      " (6,\n",
      "  '-0.249*\"lake\" + 0.193*\"island\" + 0.160*\"beach\" + 0.140*\"corsica\" + '\n",
      "  '-0.138*\"chiapas\" + -0.135*\"valley\" + -0.131*\"barcelona\" + -0.126*\"trail\" + '\n",
      "  '-0.124*\"maya\" + 0.119*\"place\"'),\n",
      " (7,\n",
      "  '-0.476*\"lake\" + 0.211*\"san\" + -0.210*\"trail\" + -0.173*\"valley\" + '\n",
      "  '-0.168*\"park\" + -0.148*\"hike\" + 0.139*\"chiapas\" + 0.124*\"maya\" + '\n",
      "  '0.117*\"tabasco\" + 0.101*\"state\"'),\n",
      " (8,\n",
      "  '-0.373*\"paris\" + 0.259*\"beach\" + 0.206*\"berlin\" + -0.198*\"river\" + '\n",
      "  '0.133*\"mexico\" + -0.133*\"rue\" + -0.119*\"canal\" + -0.119*\"manaus\" + '\n",
      "  '-0.113*\"seine\" + -0.104*\"venice\"'),\n",
      " (9,\n",
      "  '0.258*\"manaus\" + 0.248*\"river\" + 0.227*\"amazon\" + -0.184*\"lake\" + '\n",
      "  '0.183*\"boat\" + -0.170*\"venice\" + 0.132*\"santarem\" + 0.125*\"hammock\" + '\n",
      "  '0.122*\"berlin\" + 0.120*\"belem\"')]\n",
      "[(0,\n",
      "  '0.366*\"city\" + 0.167*\"around\" + 0.150*\"town\" + 0.144*\"place\" + 0.120*\"la\" + '\n",
      "  '0.120*\"mexico\" + 0.118*\"century\" + 0.112*\"day\" + 0.111*\"take\" + '\n",
      "  '0.110*\"area\"'),\n",
      " (1,\n",
      "  '-0.448*\"city\" + -0.227*\"mexico\" + 0.221*\"town\" + 0.185*\"beach\" + '\n",
      "  '0.129*\"island\" + 0.115*\"village\" + 0.115*\"rio\" + 0.104*\"corsica\" + '\n",
      "  '0.104*\"region\" + 0.102*\"forest\"'),\n",
      " (2,\n",
      "  '0.329*\"mexico\" + -0.301*\"barcelona\" + -0.204*\"art\" + -0.200*\"berlin\" + '\n",
      "  '-0.172*\"museum\" + -0.161*\"bar\" + 0.123*\"site\" + 0.118*\"mexican\" + '\n",
      "  '0.115*\"pyramid\" + -0.108*\"catalan\"'),\n",
      " (3,\n",
      "  '-0.533*\"berlin\" + 0.225*\"madrid\" + 0.210*\"la\" + -0.184*\"wall\" + '\n",
      "  '0.178*\"barcelona\" + -0.129*\"building\" + 0.127*\"plaza\" + 0.126*\"del\" + '\n",
      "  '-0.116*\"east\" + 0.107*\"san\"'),\n",
      " (4,\n",
      "  '-0.302*\"madrid\" + -0.241*\"rio\" + 0.231*\"barcelona\" + -0.212*\"berlin\" + '\n",
      "  '-0.176*\"gay\" + -0.174*\"plaza\" + 0.137*\"art\" + -0.118*\"san\" + 0.117*\"town\" + '\n",
      "  '0.107*\"mexico\"'),\n",
      " (5,\n",
      "  '-0.449*\"rio\" + 0.229*\"madrid\" + 0.157*\"plaza\" + -0.149*\"school\" + '\n",
      "  '0.147*\"san\" + 0.142*\"la\" + -0.136*\"carnaval\" + -0.128*\"beach\" + '\n",
      "  '-0.124*\"manaus\" + -0.115*\"barcelona\"'),\n",
      " (6,\n",
      "  '-0.249*\"lake\" + 0.193*\"island\" + 0.160*\"beach\" + 0.140*\"corsica\" + '\n",
      "  '-0.138*\"chiapas\" + -0.135*\"valley\" + -0.131*\"barcelona\" + -0.126*\"trail\" + '\n",
      "  '-0.124*\"maya\" + 0.119*\"place\"'),\n",
      " (7,\n",
      "  '-0.476*\"lake\" + 0.211*\"san\" + -0.210*\"trail\" + -0.173*\"valley\" + '\n",
      "  '-0.168*\"park\" + -0.148*\"hike\" + 0.139*\"chiapas\" + 0.124*\"maya\" + '\n",
      "  '0.117*\"tabasco\" + 0.101*\"state\"'),\n",
      " (8,\n",
      "  '-0.373*\"paris\" + 0.259*\"beach\" + 0.206*\"berlin\" + -0.198*\"river\" + '\n",
      "  '0.133*\"mexico\" + -0.133*\"rue\" + -0.119*\"canal\" + -0.119*\"manaus\" + '\n",
      "  '-0.113*\"seine\" + -0.104*\"venice\"'),\n",
      " (9,\n",
      "  '0.258*\"manaus\" + 0.248*\"river\" + 0.227*\"amazon\" + -0.184*\"lake\" + '\n",
      "  '0.183*\"boat\" + -0.170*\"venice\" + 0.132*\"santarem\" + 0.125*\"hammock\" + '\n",
      "  '0.122*\"berlin\" + 0.120*\"belem\"')]\n",
      "[(0,\n",
      "  '0.366*\"city\" + 0.167*\"around\" + 0.150*\"town\" + 0.144*\"place\" + 0.120*\"la\" + '\n",
      "  '0.120*\"mexico\" + 0.118*\"century\" + 0.112*\"day\" + 0.111*\"take\" + '\n",
      "  '0.110*\"area\"'),\n",
      " (1,\n",
      "  '-0.448*\"city\" + -0.227*\"mexico\" + 0.221*\"town\" + 0.185*\"beach\" + '\n",
      "  '0.129*\"island\" + 0.115*\"village\" + 0.115*\"rio\" + 0.104*\"corsica\" + '\n",
      "  '0.104*\"region\" + 0.102*\"forest\"'),\n",
      " (2,\n",
      "  '0.329*\"mexico\" + -0.301*\"barcelona\" + -0.204*\"art\" + -0.200*\"berlin\" + '\n",
      "  '-0.172*\"museum\" + -0.161*\"bar\" + 0.123*\"site\" + 0.118*\"mexican\" + '\n",
      "  '0.115*\"pyramid\" + -0.108*\"catalan\"'),\n",
      " (3,\n",
      "  '0.533*\"berlin\" + -0.225*\"madrid\" + -0.210*\"la\" + 0.184*\"wall\" + '\n",
      "  '-0.178*\"barcelona\" + 0.129*\"building\" + -0.127*\"plaza\" + -0.126*\"del\" + '\n",
      "  '0.116*\"east\" + -0.107*\"san\"'),\n",
      " (4,\n",
      "  '0.302*\"madrid\" + 0.241*\"rio\" + -0.231*\"barcelona\" + 0.212*\"berlin\" + '\n",
      "  '0.176*\"gay\" + 0.174*\"plaza\" + -0.137*\"art\" + 0.118*\"san\" + -0.117*\"town\" + '\n",
      "  '-0.107*\"mexico\"'),\n",
      " (5,\n",
      "  '0.449*\"rio\" + -0.229*\"madrid\" + -0.157*\"plaza\" + 0.149*\"school\" + '\n",
      "  '-0.147*\"san\" + -0.142*\"la\" + 0.136*\"carnaval\" + 0.128*\"beach\" + '\n",
      "  '0.124*\"manaus\" + 0.115*\"barcelona\"'),\n",
      " (6,\n",
      "  '0.249*\"lake\" + -0.193*\"island\" + -0.160*\"beach\" + -0.140*\"corsica\" + '\n",
      "  '0.138*\"chiapas\" + 0.135*\"valley\" + 0.131*\"barcelona\" + 0.126*\"trail\" + '\n",
      "  '0.124*\"maya\" + -0.119*\"place\"'),\n",
      " (7,\n",
      "  '0.476*\"lake\" + -0.211*\"san\" + 0.210*\"trail\" + 0.173*\"valley\" + 0.168*\"park\" '\n",
      "  '+ 0.148*\"hike\" + -0.139*\"chiapas\" + -0.124*\"maya\" + -0.117*\"tabasco\" + '\n",
      "  '-0.101*\"state\"'),\n",
      " (8,\n",
      "  '0.373*\"paris\" + -0.259*\"beach\" + -0.206*\"berlin\" + 0.198*\"river\" + '\n",
      "  '-0.133*\"mexico\" + 0.133*\"rue\" + 0.119*\"canal\" + 0.119*\"manaus\" + '\n",
      "  '0.113*\"seine\" + 0.104*\"venice\"'),\n",
      " (9,\n",
      "  '-0.258*\"manaus\" + -0.248*\"river\" + -0.227*\"amazon\" + 0.184*\"lake\" + '\n",
      "  '-0.183*\"boat\" + 0.170*\"venice\" + -0.132*\"santarem\" + -0.125*\"hammock\" + '\n",
      "  '-0.122*\"berlin\" + -0.120*\"belem\"')]\n",
      "[(0,\n",
      "  '0.366*\"city\" + 0.167*\"around\" + 0.150*\"town\" + 0.144*\"place\" + 0.120*\"la\" + '\n",
      "  '0.120*\"mexico\" + 0.118*\"century\" + 0.112*\"day\" + 0.111*\"take\" + '\n",
      "  '0.110*\"area\"'),\n",
      " (1,\n",
      "  '-0.448*\"city\" + -0.227*\"mexico\" + 0.221*\"town\" + 0.185*\"beach\" + '\n",
      "  '0.129*\"island\" + 0.115*\"village\" + 0.115*\"rio\" + 0.104*\"corsica\" + '\n",
      "  '0.104*\"region\" + 0.102*\"forest\"'),\n",
      " (2,\n",
      "  '-0.329*\"mexico\" + 0.301*\"barcelona\" + 0.204*\"art\" + 0.200*\"berlin\" + '\n",
      "  '0.172*\"museum\" + 0.161*\"bar\" + -0.123*\"site\" + -0.118*\"mexican\" + '\n",
      "  '-0.115*\"pyramid\" + 0.108*\"catalan\"'),\n",
      " (3,\n",
      "  '-0.533*\"berlin\" + 0.225*\"madrid\" + 0.210*\"la\" + -0.184*\"wall\" + '\n",
      "  '0.178*\"barcelona\" + -0.129*\"building\" + 0.127*\"plaza\" + 0.126*\"del\" + '\n",
      "  '-0.116*\"east\" + 0.107*\"san\"'),\n",
      " (4,\n",
      "  '-0.302*\"madrid\" + -0.241*\"rio\" + 0.231*\"barcelona\" + -0.212*\"berlin\" + '\n",
      "  '-0.176*\"gay\" + -0.174*\"plaza\" + 0.137*\"art\" + -0.118*\"san\" + 0.117*\"town\" + '\n",
      "  '0.107*\"mexico\"'),\n",
      " (5,\n",
      "  '-0.449*\"rio\" + 0.229*\"madrid\" + 0.157*\"plaza\" + -0.149*\"school\" + '\n",
      "  '0.147*\"san\" + 0.142*\"la\" + -0.136*\"carnaval\" + -0.128*\"beach\" + '\n",
      "  '-0.124*\"manaus\" + -0.115*\"barcelona\"'),\n",
      " (6,\n",
      "  '-0.249*\"lake\" + 0.193*\"island\" + 0.160*\"beach\" + 0.140*\"corsica\" + '\n",
      "  '-0.138*\"chiapas\" + -0.135*\"valley\" + -0.131*\"barcelona\" + -0.126*\"trail\" + '\n",
      "  '-0.124*\"maya\" + 0.119*\"place\"'),\n",
      " (7,\n",
      "  '-0.476*\"lake\" + 0.211*\"san\" + -0.210*\"trail\" + -0.173*\"valley\" + '\n",
      "  '-0.168*\"park\" + -0.148*\"hike\" + 0.139*\"chiapas\" + 0.124*\"maya\" + '\n",
      "  '0.117*\"tabasco\" + 0.101*\"state\"'),\n",
      " (8,\n",
      "  '-0.373*\"paris\" + 0.259*\"beach\" + 0.206*\"berlin\" + -0.198*\"river\" + '\n",
      "  '0.133*\"mexico\" + -0.133*\"rue\" + -0.119*\"canal\" + -0.119*\"manaus\" + '\n",
      "  '-0.113*\"seine\" + -0.104*\"venice\"'),\n",
      " (9,\n",
      "  '0.258*\"manaus\" + 0.248*\"river\" + 0.227*\"amazon\" + -0.184*\"lake\" + '\n",
      "  '0.183*\"boat\" + -0.170*\"venice\" + 0.132*\"santarem\" + 0.125*\"hammock\" + '\n",
      "  '0.122*\"berlin\" + 0.120*\"belem\"')]\n",
      "[(0,\n",
      "  '0.366*\"city\" + 0.167*\"around\" + 0.150*\"town\" + 0.144*\"place\" + 0.120*\"la\" + '\n",
      "  '0.120*\"mexico\" + 0.118*\"century\" + 0.112*\"day\" + 0.111*\"take\" + '\n",
      "  '0.110*\"area\"'),\n",
      " (1,\n",
      "  '-0.448*\"city\" + -0.227*\"mexico\" + 0.221*\"town\" + 0.185*\"beach\" + '\n",
      "  '0.129*\"island\" + 0.115*\"village\" + 0.115*\"rio\" + 0.104*\"corsica\" + '\n",
      "  '0.104*\"region\" + 0.102*\"forest\"'),\n",
      " (2,\n",
      "  '-0.329*\"mexico\" + 0.301*\"barcelona\" + 0.204*\"art\" + 0.200*\"berlin\" + '\n",
      "  '0.172*\"museum\" + 0.161*\"bar\" + -0.123*\"site\" + -0.118*\"mexican\" + '\n",
      "  '-0.115*\"pyramid\" + 0.108*\"catalan\"'),\n",
      " (3,\n",
      "  '-0.533*\"berlin\" + 0.225*\"madrid\" + 0.210*\"la\" + -0.184*\"wall\" + '\n",
      "  '0.178*\"barcelona\" + -0.129*\"building\" + 0.127*\"plaza\" + 0.126*\"del\" + '\n",
      "  '-0.116*\"east\" + 0.107*\"san\"'),\n",
      " (4,\n",
      "  '-0.302*\"madrid\" + -0.241*\"rio\" + 0.231*\"barcelona\" + -0.212*\"berlin\" + '\n",
      "  '-0.176*\"gay\" + -0.174*\"plaza\" + 0.137*\"art\" + -0.118*\"san\" + 0.117*\"town\" + '\n",
      "  '0.107*\"mexico\"'),\n",
      " (5,\n",
      "  '-0.449*\"rio\" + 0.229*\"madrid\" + 0.157*\"plaza\" + -0.149*\"school\" + '\n",
      "  '0.147*\"san\" + 0.142*\"la\" + -0.136*\"carnaval\" + -0.128*\"beach\" + '\n",
      "  '-0.124*\"manaus\" + -0.115*\"barcelona\"'),\n",
      " (6,\n",
      "  '-0.249*\"lake\" + 0.193*\"island\" + 0.160*\"beach\" + 0.140*\"corsica\" + '\n",
      "  '-0.138*\"chiapas\" + -0.135*\"valley\" + -0.131*\"barcelona\" + -0.126*\"trail\" + '\n",
      "  '-0.124*\"maya\" + 0.119*\"place\"'),\n",
      " (7,\n",
      "  '-0.476*\"lake\" + 0.211*\"san\" + -0.210*\"trail\" + -0.173*\"valley\" + '\n",
      "  '-0.168*\"park\" + -0.148*\"hike\" + 0.139*\"chiapas\" + 0.124*\"maya\" + '\n",
      "  '0.117*\"tabasco\" + 0.101*\"state\"'),\n",
      " (8,\n",
      "  '-0.373*\"paris\" + 0.259*\"beach\" + 0.206*\"berlin\" + -0.198*\"river\" + '\n",
      "  '0.133*\"mexico\" + -0.133*\"rue\" + -0.119*\"canal\" + -0.119*\"manaus\" + '\n",
      "  '-0.113*\"seine\" + -0.104*\"venice\"'),\n",
      " (9,\n",
      "  '0.258*\"manaus\" + 0.248*\"river\" + 0.227*\"amazon\" + -0.184*\"lake\" + '\n",
      "  '0.183*\"boat\" + -0.170*\"venice\" + 0.132*\"santarem\" + 0.125*\"hammock\" + '\n",
      "  '0.122*\"berlin\" + 0.120*\"belem\"')]\n"
     ]
    }
   ],
   "source": [
    "# find the coherence score with a different number of topics\n",
    "for i in range(2,11):\n",
    "\n",
    "    model_name = f'lda_{d1}_' + f'{i}' + 'topics'\n",
    "    dest_path = f'../results/{model_name}/'\n",
    "    if not os.path.exists(dest_path):\n",
    "        os.mkdir(f'../results/{model_name}/')\n",
    "\n",
    "    lsi = LsiModel(bow, num_topics=i, id2word=dictionary)\n",
    "    coherence_model = CoherenceModel(model=lsi, texts=data['content_prep'], dictionary=dictionary, coherence='c_v')\n",
    "    coherence_score = coherence_model.get_coherence()\n",
    "    # save Coherence Score to lsa model results directory\n",
    "    with open(f'../results/{model_name}/lsa_vis_prepared_' + str(i) + '_scores.txt', 'w') as f:\n",
    "        f.write(f'Coherence Score: {coherence_score}\\n')\n",
    "        f.close()\n",
    "\n",
    "    lsa_model = LsiModel(bow, num_topics=10, id2word=dictionary)\n",
    "\n",
    "    dt_matrix = corpus2dense(lsa_model[bow], len(lsa_model.projection.s)).T / lsa_model.projection.s\n",
    "    df_matrix = pd.DataFrame(dt_matrix)\n",
    "    df_matrix.to_csv(f'../results/{model_name}/lda_vis_prepared_' + str(i) + '_matrix.csv', index=False, header=False)\n",
    "\n",
    "    pprint(lsa_model.print_topics())\n",
    "\n",
    "    # get place of the closest document for each word\n",
    "    # transform svd matrix to spacial KDtree\n",
    "    tree = spatial.KDTree(dt_matrix)\n",
    "\n",
    "    # transform a list of words with the fitted model to get their vector-representation\n",
    "    input = [['sun', 'beach'], ['city', 'town'], ['mountain', 'hiking']]\n",
    "    # Todo: Run Preprocessing over input\n",
    "\n",
    "    # transform words with dict to bow\n",
    "    input_bow = [dictionary.doc2bow(words) for words in input]\n",
    "\n",
    "    input_topics = lsa_model.__getitem__(input_bow)\n",
    "    # reformat to keep just values in tuples\n",
    "    input_vecs = []\n",
    "    for line in input_topics:\n",
    "        input_vecs.append([y[1] for y in line])\n",
    "\n",
    "    # get closest document vector for each word vector\n",
    "    with open(f'../results/{model_name}/lda_vis_prepared_' + str(i) + '_prediction.txt', 'w') as f:\n",
    "        for i, input_vec in enumerate(input_vecs):\n",
    "            query = tree.query(input_vec)\n",
    "            f.write(f'{input[i]} > \"{data.Place[query[1]]}\" - Distance: {query[0]}\\n')\n",
    "        f.close()"
   ],
   "metadata": {
    "collapsed": false,
    "pycharm": {
     "name": "#%%\n",
     "is_executing": true
    }
   }
  },
  {
   "cell_type": "code",
   "execution_count": null,
   "outputs": [],
   "source": [],
   "metadata": {
    "collapsed": false,
    "pycharm": {
     "name": "#%%\n"
    }
   }
  }
 ],
 "metadata": {
  "kernelspec": {
   "name": "wi3_datascience",
   "language": "python",
   "display_name": "WI3_DataScience"
  },
  "language_info": {
   "codemirror_mode": {
    "name": "ipython",
    "version": 2
   },
   "file_extension": ".py",
   "mimetype": "text/x-python",
   "name": "python",
   "nbconvert_exporter": "python",
   "pygments_lexer": "ipython2",
   "version": "2.7.6"
  }
 },
 "nbformat": 4,
 "nbformat_minor": 0
}