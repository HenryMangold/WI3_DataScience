{
 "cells": [
  {
   "cell_type": "code",
   "execution_count": null,
   "outputs": [],
   "source": [
    "import pandas as pd\n",
    "import re\n",
    "import os\n",
    "from scipy import spatial\n",
    "from pprint import pprint\n",
    "from datetime import date\n",
    "\n",
    "from gensim import corpora\n",
    "from gensim.models import LsiModel\n",
    "from gensim.utils import simple_preprocess\n",
    "from gensim.models.coherencemodel import CoherenceModel\n",
    "from gensim.matutils import corpus2dense\n",
    "\n",
    "import nltk\n",
    "from nltk.corpus import stopwords\n",
    "nltk.download('stopwords')\n",
    "\n",
    "import task2a_prep_functions as p\n",
    "\n",
    "today = date.today()\n",
    "d1 = today.strftime('%d%m%Y')"
   ],
   "metadata": {
    "collapsed": false,
    "pycharm": {
     "name": "#%%\n"
    }
   }
  },
  {
   "cell_type": "markdown",
   "source": [
    "## Data Preprocessing"
   ],
   "metadata": {
    "collapsed": false,
    "pycharm": {
     "name": "#%% md\n"
    }
   }
  },
  {
   "cell_type": "code",
   "execution_count": null,
   "outputs": [],
   "source": [
    "# read in dataframe from csv\n",
    "data = pd.read_csv('results_scrapping.csv')\n",
    "data.head()"
   ],
   "metadata": {
    "collapsed": false,
    "pycharm": {
     "name": "#%%\n"
    }
   }
  },
  {
   "cell_type": "code",
   "execution_count": null,
   "outputs": [],
   "source": [
    "# preprocess given text\n",
    "def preprocess(data):\n",
    "    # Remove punctuation\n",
    "    data['content_processed'] = data['Content'].map(lambda x: re.sub('[,\\.!?]', '', x))\n",
    "\n",
    "    # Convert text to lowercase\n",
    "    data['content_processed'] = data['content_processed'].map(lambda x: x.lower())\n",
    "\n",
    "    stop_words = stopwords.words('english')\n",
    "    stop_words.extend(['from', 'subject', 're', 'edu', 'use', 'de', 'km', 'one', 'two'])\n",
    "\n",
    "    def sent_to_words(sentences):\n",
    "        for sentence in sentences:\n",
    "            yield simple_preprocess(str(sentence), deacc=True) # -> True removes punctuations\n",
    "\n",
    "    def remove_stopwords(texts):\n",
    "        return [[word for word in simple_preprocess(str(doc)) if word not in stop_words] for doc in texts]\n",
    "\n",
    "    # Tokenizing and remove punctuation of processed content\n",
    "    data_list = data.content_processed.values.tolist()\n",
    "    data_words = list(sent_to_words(data_list))\n",
    "\n",
    "    # Lemmatization of processed content\n",
    "    data_lemmatize = p.lemmatize_to_list([data_words])[0]\n",
    "\n",
    "    # Remove stop words of processed content\n",
    "    data_words = remove_stopwords(data_lemmatize)\n",
    "    data['content_prep'] = data_words\n",
    "\n",
    "    return data\n",
    "\n",
    "\n",
    "data = preprocess(data)\n",
    "data.head()"
   ],
   "metadata": {
    "collapsed": false,
    "pycharm": {
     "name": "#%%\n"
    }
   }
  },
  {
   "cell_type": "markdown",
   "source": [
    "# Latent Semantic Analysis (LSA)\n",
    "For LSA the following basic steps are required. These steps are combined in the Gensim LsiModel (yes for some reason they named it LSI) that will be used here.\n",
    "\n",
    "## 1.  TF-IDF Vectorization\n",
    "Goal is to create a document-term matrix that contains the tf-idf values for words within each document. A high tf-idf score represents a word that appears often in a document but not very often in the corpus. This means that this word is likely usefully for dokument classification. Words that appear often in a document but also often in the corpus will get a low tf-idf score.\n",
    "\n",
    "## 2. Singular Value Decomposition (SVD) for dimensionality reduction\n",
    "the resulting document-term matrix is a huge matrix with a lot of noisy and redundant information. Therefore, we want to reduce the dimensions to only a few latent topics that capture the relationships among the words and documents."
   ],
   "metadata": {
    "collapsed": false,
    "pycharm": {
     "name": "#%% md\n"
    }
   }
  },
  {
   "cell_type": "code",
   "execution_count": null,
   "outputs": [],
   "source": [
    "# create dictionary and corpus\n",
    "corpus = data['content_prep']\n",
    "dictionary = corpora.Dictionary(corpus)\n",
    "print(dictionary)"
   ],
   "metadata": {
    "collapsed": false,
    "pycharm": {
     "name": "#%%\n"
    }
   }
  },
  {
   "cell_type": "code",
   "execution_count": null,
   "outputs": [],
   "source": [
    "# convert corpus to bag of words\n",
    "bow = [dictionary.doc2bow(text) for text in corpus]\n",
    "len(bow)"
   ],
   "metadata": {
    "collapsed": false,
    "pycharm": {
     "name": "#%%\n"
    }
   }
  },
  {
   "cell_type": "code",
   "execution_count": null,
   "outputs": [],
   "source": [],
   "metadata": {
    "collapsed": false,
    "pycharm": {
     "name": "#%%\n"
    }
   }
  },
  {
   "cell_type": "code",
   "execution_count": null,
   "outputs": [],
   "source": [
    "# find the coherence score with a different number of topics\n",
    "for i in range(2,11):\n",
    "    lsi = LsiModel(bow, num_topics=i, id2word=dictionary)\n",
    "    coherence_model = CoherenceModel(model=lsi, texts=data['content_prep'], dictionary=dictionary, coherence='c_v')\n",
    "    coherence_score = coherence_model.get_coherence()\n",
    "    print('Coherence score with {} clusters: {}'.format(i, coherence_score))"
   ],
   "metadata": {
    "collapsed": false,
    "pycharm": {
     "name": "#%%\n"
    }
   }
  },
  {
   "cell_type": "code",
   "execution_count": null,
   "outputs": [],
   "source": [
    "# build LSA model\n",
    "lsa_model = LsiModel(bow, num_topics=10, id2word=dictionary)"
   ],
   "metadata": {
    "collapsed": false,
    "pycharm": {
     "name": "#%%\n"
    }
   }
  },
  {
   "cell_type": "code",
   "execution_count": null,
   "outputs": [],
   "source": [
    "dt_matrix = corpus2dense(lsa_model[bow], len(lsa_model.projection.s)).T / lsa_model.projection.s\n",
    "dt_matrix"
   ],
   "metadata": {
    "collapsed": false,
    "pycharm": {
     "name": "#%%\n"
    }
   }
  },
  {
   "cell_type": "markdown",
   "source": [
    "## Inspect Topics\n",
    "The matrix plots a score for each document for each topic.\n",
    "Todo\n",
    "- Find corresponding topics for each number\n",
    "  - might be difficult since we don't even know if there is a word for each topic\n",
    "  - maybe find words that define each topic from tf-idf matrix\n",
    "- figure out how many topics we want"
   ],
   "metadata": {
    "collapsed": false,
    "pycharm": {
     "name": "#%% md\n"
    }
   }
  },
  {
   "cell_type": "code",
   "execution_count": null,
   "outputs": [],
   "source": [
    "pprint(lsa_model.print_topics())"
   ],
   "metadata": {
    "collapsed": false,
    "pycharm": {
     "name": "#%%\n"
    }
   }
  },
  {
   "cell_type": "markdown",
   "source": [
    "## Predicting closest document to input based on document topic matrix"
   ],
   "metadata": {
    "collapsed": false,
    "pycharm": {
     "name": "#%% md\n"
    }
   }
  },
  {
   "cell_type": "code",
   "execution_count": null,
   "outputs": [],
   "source": [
    "# get place of the closest document for each word\n",
    "# transform svd matrix to spacial KDtree\n",
    "tree = spatial.KDTree(dt_matrix)\n",
    "\n",
    "# transform a list of words with the fitted model to get their vector-representation\n",
    "input = [['sun', 'beach'], ['city', 'town'], ['mountain', 'hiking']]\n",
    "# Todo: Run Preprocessing over input\n",
    "\n",
    "\n",
    "# transform words with dict to bow\n",
    "input_bow = [dictionary.doc2bow(words) for words in input]\n",
    "\n",
    "input_topics = lsa_model.__getitem__(input_bow)\n",
    "# reformat to keep just values in tuples\n",
    "input_vecs = []\n",
    "for line in input_topics:\n",
    "    input_vecs.append([y[1] for y in line])\n",
    "\n",
    "# get closest document vector for each word vector\n",
    "for i, input_vec in enumerate(input_vecs):\n",
    "    query = tree.query(input_vec)\n",
    "    print(f'\"{input[i]}\" > \"{data.Place[query[1]]}\" Distance: {query[0]}')"
   ],
   "metadata": {
    "collapsed": false,
    "pycharm": {
     "name": "#%%\n"
    }
   }
  },
  {
   "cell_type": "code",
   "execution_count": null,
   "outputs": [],
   "source": [],
   "metadata": {
    "collapsed": false,
    "pycharm": {
     "name": "#%%\n"
    }
   }
  },
  {
   "cell_type": "markdown",
   "source": [
    "#### Script to train multiple LSA Models with different configurations and show differences in an Excel File"
   ],
   "metadata": {
    "collapsed": false,
    "pycharm": {
     "name": "#%% md\n"
    }
   }
  },
  {
   "cell_type": "code",
   "execution_count": null,
   "outputs": [],
   "source": [
    "# find the coherence score with a different number of topics\n",
    "for i in range(5, 35, 5):\n",
    "\n",
    "    model_name = f'lsa_{d1}_' + f'{i}' + 'topics'\n",
    "    dest_path = f'../results/{model_name}/'\n",
    "    if not os.path.exists(dest_path):\n",
    "        os.mkdir(f'../results/{model_name}/')\n",
    "\n",
    "    lsi = LsiModel(bow, num_topics=i, id2word=dictionary)\n",
    "    coherence_model = CoherenceModel(model=lsi, texts=data['content_prep'], dictionary=dictionary, coherence='c_v')\n",
    "    coherence_score = coherence_model.get_coherence()\n",
    "    # save Coherence Score to lsa model results directory\n",
    "    with open(f'../results/{model_name}/lsa_vis_prepared_' + str(i) + '_scores.txt', 'w') as f:\n",
    "        f.write(f'Coherence Score: {coherence_score}\\n')\n",
    "        f.close()\n",
    "\n",
    "    lsa_model = LsiModel(bow, num_topics=i, id2word=dictionary)\n",
    "\n",
    "    dt_matrix = corpus2dense(lsa_model[bow], len(lsa_model.projection.s)).T / lsa_model.projection.s\n",
    "    df_matrix = pd.DataFrame(dt_matrix)\n",
    "    df_matrix.to_csv(f'../results/{model_name}/lsa_vis_prepared_' + str(i) + '_matrix.csv', index=False, header=False)\n",
    "\n",
    "    pprint(lsa_model.print_topics())\n",
    "\n",
    "    # get place of the closest document for each word\n",
    "    # transform svd matrix to spacial KDtree\n",
    "    tree = spatial.KDTree(dt_matrix)\n",
    "\n",
    "    # transform a list of words with the fitted model to get their vector-representation\n",
    "    input = [['sun', 'beach'], ['city', 'town'], ['mountain', 'hiking']]\n",
    "    # Todo: Run Preprocessing over input\n",
    "\n",
    "    # transform words with dict to bow\n",
    "    input_bow = [dictionary.doc2bow(words) for words in input]\n",
    "\n",
    "    input_topics = lsa_model.__getitem__(input_bow)\n",
    "    # reformat to keep just values in tuples\n",
    "    input_vecs = []\n",
    "    for line in input_topics:\n",
    "        input_vecs.append([y[1] for y in line])\n",
    "\n",
    "    # get closest document vector for each word vector\n",
    "    with open(f'../results/{model_name}/lsa_vis_prepared_' + str(i) + '_prediction.txt', 'w') as f:\n",
    "        for i, input_vec in enumerate(input_vecs):\n",
    "            query = tree.query(input_vec)\n",
    "            f.write(f'{input[i]} > \"{data.Place[query[1]]}\" - Distance: {query[0]}\\n')\n",
    "        f.close()"
   ],
   "metadata": {
    "collapsed": false,
    "pycharm": {
     "name": "#%%\n"
    }
   }
  },
  {
   "cell_type": "markdown",
   "source": [
    "##### after running above cell you need to run \"task2b_topicmodel_lda_lsa_excel-result.ipynb\" with algorithm = lsa to merge model results into Excel File"
   ],
   "metadata": {
    "collapsed": false,
    "pycharm": {
     "name": "#%% md\n"
    }
   }
  },
  {
   "cell_type": "code",
   "execution_count": null,
   "outputs": [],
   "source": [
    "pprint(lsa_model.print_topics())"
   ],
   "metadata": {
    "collapsed": false,
    "pycharm": {
     "name": "#%%\n"
    }
   }
  },
  {
   "cell_type": "markdown",
   "source": [
    "## Predicting closest document to input based on document topic matrix"
   ],
   "metadata": {
    "collapsed": false,
    "pycharm": {
     "name": "#%% md\n"
    }
   }
  },
  {
   "cell_type": "code",
   "execution_count": null,
   "outputs": [],
   "source": [
    "# get place of the closest document for each word\n",
    "# transform svd matrix to spacial KDtree\n",
    "tree = spatial.KDTree(dt_matrix)\n",
    "\n",
    "# transform a list of words with the fitted model to get their vector-representation\n",
    "input = [['sun', 'beach'], ['city', 'town'], ['mountain', 'hiking']]\n",
    "# Todo: Run Preprocessing over input\n",
    "\n",
    "\n",
    "# transform words with dict to bow\n",
    "input_bow = [dictionary.doc2bow(words) for words in input]\n",
    "\n",
    "input_topics = lsa_model.__getitem__(input_bow)\n",
    "# reformat to keep just values in tuples\n",
    "input_vecs = []\n",
    "for line in input_topics:\n",
    "    input_vecs.append([y[1] for y in line])\n",
    "\n",
    "# get closest document vector for each word vector\n",
    "for i, input_vec in enumerate(input_vecs):\n",
    "    query = tree.query(input_vec)\n",
    "    print(f'\"{input[i]}\" > \"{data.Place[query[1]]}\" Distance: {query[0]}')"
   ],
   "metadata": {
    "collapsed": false,
    "pycharm": {
     "name": "#%%\n"
    }
   }
  },
  {
   "cell_type": "code",
   "execution_count": null,
   "outputs": [],
   "source": [],
   "metadata": {
    "collapsed": false,
    "pycharm": {
     "name": "#%%\n"
    }
   }
  },
  {
   "cell_type": "markdown",
   "source": [
    "#### Script to train multiple LSA Models with different configurations and show differences in an Excel File"
   ],
   "metadata": {
    "collapsed": false,
    "pycharm": {
     "name": "#%% md\n"
    }
   }
  },
  {
   "cell_type": "code",
   "execution_count": 65,
   "outputs": [
    {
     "name": "stdout",
     "output_type": "stream",
     "text": [
      "[(0,\n",
      "  '0.366*\"city\" + 0.167*\"around\" + 0.150*\"town\" + 0.144*\"place\" + 0.120*\"la\" + '\n",
      "  '0.120*\"mexico\" + 0.118*\"century\" + 0.112*\"day\" + 0.111*\"take\" + '\n",
      "  '0.110*\"area\"'),\n",
      " (1,\n",
      "  '-0.448*\"city\" + -0.227*\"mexico\" + 0.221*\"town\" + 0.185*\"beach\" + '\n",
      "  '0.129*\"island\" + 0.115*\"village\" + 0.115*\"rio\" + 0.104*\"corsica\" + '\n",
      "  '0.104*\"region\" + 0.102*\"forest\"'),\n",
      " (2,\n",
      "  '-0.329*\"mexico\" + 0.301*\"barcelona\" + 0.204*\"art\" + 0.200*\"berlin\" + '\n",
      "  '0.172*\"museum\" + 0.161*\"bar\" + -0.123*\"site\" + -0.118*\"mexican\" + '\n",
      "  '-0.115*\"pyramid\" + 0.108*\"catalan\"'),\n",
      " (3,\n",
      "  '-0.533*\"berlin\" + 0.225*\"madrid\" + 0.210*\"la\" + -0.184*\"wall\" + '\n",
      "  '0.178*\"barcelona\" + -0.129*\"building\" + 0.127*\"plaza\" + 0.126*\"del\" + '\n",
      "  '-0.116*\"east\" + 0.107*\"san\"'),\n",
      " (4,\n",
      "  '-0.302*\"madrid\" + -0.241*\"rio\" + 0.231*\"barcelona\" + -0.212*\"berlin\" + '\n",
      "  '-0.176*\"gay\" + -0.174*\"plaza\" + 0.137*\"art\" + -0.118*\"san\" + 0.117*\"town\" + '\n",
      "  '0.107*\"mexico\"')]\n",
      "[(0,\n",
      "  '0.366*\"city\" + 0.167*\"around\" + 0.150*\"town\" + 0.144*\"place\" + 0.120*\"la\" + '\n",
      "  '0.120*\"mexico\" + 0.118*\"century\" + 0.112*\"day\" + 0.111*\"take\" + '\n",
      "  '0.110*\"area\"'),\n",
      " (1,\n",
      "  '-0.448*\"city\" + -0.227*\"mexico\" + 0.221*\"town\" + 0.185*\"beach\" + '\n",
      "  '0.129*\"island\" + 0.115*\"village\" + 0.115*\"rio\" + 0.104*\"corsica\" + '\n",
      "  '0.104*\"region\" + 0.102*\"forest\"'),\n",
      " (2,\n",
      "  '0.329*\"mexico\" + -0.301*\"barcelona\" + -0.204*\"art\" + -0.200*\"berlin\" + '\n",
      "  '-0.172*\"museum\" + -0.161*\"bar\" + 0.123*\"site\" + 0.118*\"mexican\" + '\n",
      "  '0.115*\"pyramid\" + -0.108*\"catalan\"'),\n",
      " (3,\n",
      "  '0.533*\"berlin\" + -0.225*\"madrid\" + -0.210*\"la\" + 0.184*\"wall\" + '\n",
      "  '-0.178*\"barcelona\" + 0.129*\"building\" + -0.127*\"plaza\" + -0.126*\"del\" + '\n",
      "  '0.116*\"east\" + -0.107*\"san\"'),\n",
      " (4,\n",
      "  '0.302*\"madrid\" + 0.241*\"rio\" + -0.231*\"barcelona\" + 0.212*\"berlin\" + '\n",
      "  '0.176*\"gay\" + 0.174*\"plaza\" + -0.137*\"art\" + 0.118*\"san\" + -0.117*\"town\" + '\n",
      "  '-0.107*\"mexico\"'),\n",
      " (5,\n",
      "  '0.449*\"rio\" + -0.229*\"madrid\" + -0.157*\"plaza\" + 0.149*\"school\" + '\n",
      "  '-0.147*\"san\" + -0.142*\"la\" + 0.136*\"carnaval\" + 0.128*\"beach\" + '\n",
      "  '0.124*\"manaus\" + 0.115*\"barcelona\"'),\n",
      " (6,\n",
      "  '0.249*\"lake\" + -0.193*\"island\" + -0.160*\"beach\" + -0.140*\"corsica\" + '\n",
      "  '0.138*\"chiapas\" + 0.135*\"valley\" + 0.131*\"barcelona\" + 0.126*\"trail\" + '\n",
      "  '0.124*\"maya\" + -0.119*\"place\"'),\n",
      " (7,\n",
      "  '0.476*\"lake\" + -0.211*\"san\" + 0.210*\"trail\" + 0.173*\"valley\" + 0.168*\"park\" '\n",
      "  '+ 0.148*\"hike\" + -0.139*\"chiapas\" + -0.124*\"maya\" + -0.117*\"tabasco\" + '\n",
      "  '-0.101*\"state\"'),\n",
      " (8,\n",
      "  '0.373*\"paris\" + -0.259*\"beach\" + -0.206*\"berlin\" + 0.198*\"river\" + '\n",
      "  '-0.133*\"mexico\" + 0.133*\"rue\" + 0.119*\"canal\" + 0.119*\"manaus\" + '\n",
      "  '0.113*\"seine\" + 0.104*\"venice\"'),\n",
      " (9,\n",
      "  '-0.258*\"manaus\" + -0.248*\"river\" + -0.227*\"amazon\" + 0.184*\"lake\" + '\n",
      "  '-0.183*\"boat\" + 0.170*\"venice\" + -0.132*\"santarem\" + -0.125*\"hammock\" + '\n",
      "  '-0.122*\"berlin\" + -0.120*\"belem\"')]\n",
      "[(0,\n",
      "  '0.366*\"city\" + 0.167*\"around\" + 0.150*\"town\" + 0.144*\"place\" + 0.120*\"la\" + '\n",
      "  '0.120*\"mexico\" + 0.118*\"century\" + 0.112*\"day\" + 0.111*\"take\" + '\n",
      "  '0.110*\"area\"'),\n",
      " (1,\n",
      "  '-0.448*\"city\" + -0.227*\"mexico\" + 0.221*\"town\" + 0.185*\"beach\" + '\n",
      "  '0.129*\"island\" + 0.115*\"village\" + 0.115*\"rio\" + 0.104*\"corsica\" + '\n",
      "  '0.104*\"region\" + 0.102*\"forest\"'),\n",
      " (2,\n",
      "  '-0.329*\"mexico\" + 0.301*\"barcelona\" + 0.204*\"art\" + 0.200*\"berlin\" + '\n",
      "  '0.172*\"museum\" + 0.161*\"bar\" + -0.123*\"site\" + -0.118*\"mexican\" + '\n",
      "  '-0.115*\"pyramid\" + 0.108*\"catalan\"'),\n",
      " (3,\n",
      "  '0.533*\"berlin\" + -0.225*\"madrid\" + -0.210*\"la\" + 0.184*\"wall\" + '\n",
      "  '-0.178*\"barcelona\" + 0.129*\"building\" + -0.127*\"plaza\" + -0.126*\"del\" + '\n",
      "  '0.116*\"east\" + -0.107*\"san\"'),\n",
      " (4,\n",
      "  '0.302*\"madrid\" + 0.241*\"rio\" + -0.231*\"barcelona\" + 0.212*\"berlin\" + '\n",
      "  '0.176*\"gay\" + 0.174*\"plaza\" + -0.137*\"art\" + 0.118*\"san\" + -0.117*\"town\" + '\n",
      "  '-0.107*\"mexico\"'),\n",
      " (5,\n",
      "  '0.449*\"rio\" + -0.229*\"madrid\" + -0.157*\"plaza\" + 0.149*\"school\" + '\n",
      "  '-0.147*\"san\" + -0.142*\"la\" + 0.136*\"carnaval\" + 0.128*\"beach\" + '\n",
      "  '0.124*\"manaus\" + 0.115*\"barcelona\"'),\n",
      " (6,\n",
      "  '0.249*\"lake\" + -0.193*\"island\" + -0.160*\"beach\" + -0.140*\"corsica\" + '\n",
      "  '0.138*\"chiapas\" + 0.135*\"valley\" + 0.131*\"barcelona\" + 0.126*\"trail\" + '\n",
      "  '0.124*\"maya\" + -0.119*\"place\"'),\n",
      " (7,\n",
      "  '0.476*\"lake\" + -0.211*\"san\" + 0.210*\"trail\" + 0.173*\"valley\" + 0.168*\"park\" '\n",
      "  '+ 0.148*\"hike\" + -0.139*\"chiapas\" + -0.124*\"maya\" + -0.117*\"tabasco\" + '\n",
      "  '-0.101*\"state\"'),\n",
      " (8,\n",
      "  '0.373*\"paris\" + -0.259*\"beach\" + -0.206*\"berlin\" + 0.198*\"river\" + '\n",
      "  '-0.133*\"mexico\" + 0.133*\"rue\" + 0.119*\"canal\" + 0.119*\"manaus\" + '\n",
      "  '0.113*\"seine\" + 0.104*\"venice\"'),\n",
      " (9,\n",
      "  '-0.258*\"manaus\" + -0.248*\"river\" + -0.227*\"amazon\" + 0.184*\"lake\" + '\n",
      "  '-0.183*\"boat\" + 0.170*\"venice\" + -0.132*\"santarem\" + -0.125*\"hammock\" + '\n",
      "  '-0.122*\"berlin\" + -0.120*\"belem\"'),\n",
      " (10,\n",
      "  '-0.230*\"san\" + -0.178*\"beach\" + -0.155*\"venice\" + -0.147*\"cabo\" + '\n",
      "  '-0.133*\"hwy\" + -0.131*\"baja\" + -0.116*\"min\" + -0.114*\"whale\" + -0.111*\"los\" '\n",
      "  '+ 0.110*\"site\"'),\n",
      " (11,\n",
      "  '-0.369*\"venice\" + 0.329*\"paris\" + -0.189*\"palazzo\" + -0.147*\"century\" + '\n",
      "  '-0.130*\"ca\" + -0.125*\"san\" + 0.121*\"rue\" + -0.116*\"venetian\" + -0.110*\"di\" '\n",
      "  '+ -0.109*\"marco\"'),\n",
      " (12,\n",
      "  '0.294*\"oaxaca\" + -0.244*\"lake\" + 0.188*\"zapotec\" + 0.143*\"town\" + '\n",
      "  '0.141*\"juarez\" + 0.119*\"village\" + 0.117*\"valley\" + 0.111*\"region\" + '\n",
      "  '-0.109*\"chiapas\" + -0.107*\"maya\"'),\n",
      " (13,\n",
      "  '0.287*\"oaxaca\" + -0.258*\"town\" + 0.240*\"lake\" + 0.177*\"zapotec\" + '\n",
      "  '0.133*\"juarez\" + -0.120*\"baden\" + -0.114*\"aragon\" + -0.112*\"black\" + '\n",
      "  '0.099*\"mitla\" + -0.097*\"teruel\"'),\n",
      " (14,\n",
      "  '-0.311*\"veracruz\" + -0.252*\"tajin\" + -0.130*\"coast\" + 0.128*\"valley\" + '\n",
      "  '0.126*\"san\" + 0.125*\"forest\" + -0.123*\"el\" + -0.121*\"papantla\" + '\n",
      "  '-0.104*\"gothenburg\" + -0.103*\"north\"')]\n",
      "[(0,\n",
      "  '0.366*\"city\" + 0.167*\"around\" + 0.150*\"town\" + 0.144*\"place\" + 0.120*\"la\" + '\n",
      "  '0.120*\"mexico\" + 0.118*\"century\" + 0.112*\"day\" + 0.111*\"take\" + '\n",
      "  '0.110*\"area\"'),\n",
      " (1,\n",
      "  '-0.448*\"city\" + -0.227*\"mexico\" + 0.221*\"town\" + 0.185*\"beach\" + '\n",
      "  '0.129*\"island\" + 0.115*\"village\" + 0.115*\"rio\" + 0.104*\"corsica\" + '\n",
      "  '0.104*\"region\" + 0.102*\"forest\"'),\n",
      " (2,\n",
      "  '-0.329*\"mexico\" + 0.301*\"barcelona\" + 0.204*\"art\" + 0.200*\"berlin\" + '\n",
      "  '0.172*\"museum\" + 0.161*\"bar\" + -0.123*\"site\" + -0.118*\"mexican\" + '\n",
      "  '-0.115*\"pyramid\" + 0.108*\"catalan\"'),\n",
      " (3,\n",
      "  '-0.533*\"berlin\" + 0.225*\"madrid\" + 0.210*\"la\" + -0.184*\"wall\" + '\n",
      "  '0.178*\"barcelona\" + -0.129*\"building\" + 0.127*\"plaza\" + 0.126*\"del\" + '\n",
      "  '-0.116*\"east\" + 0.107*\"san\"'),\n",
      " (4,\n",
      "  '-0.302*\"madrid\" + -0.241*\"rio\" + 0.231*\"barcelona\" + -0.212*\"berlin\" + '\n",
      "  '-0.176*\"gay\" + -0.174*\"plaza\" + 0.137*\"art\" + -0.118*\"san\" + 0.117*\"town\" + '\n",
      "  '0.107*\"mexico\"'),\n",
      " (5,\n",
      "  '-0.449*\"rio\" + 0.229*\"madrid\" + 0.157*\"plaza\" + -0.149*\"school\" + '\n",
      "  '0.147*\"san\" + 0.142*\"la\" + -0.136*\"carnaval\" + -0.128*\"beach\" + '\n",
      "  '-0.124*\"manaus\" + -0.115*\"barcelona\"'),\n",
      " (6,\n",
      "  '-0.249*\"lake\" + 0.193*\"island\" + 0.160*\"beach\" + 0.140*\"corsica\" + '\n",
      "  '-0.138*\"chiapas\" + -0.135*\"valley\" + -0.131*\"barcelona\" + -0.126*\"trail\" + '\n",
      "  '-0.124*\"maya\" + 0.119*\"place\"'),\n",
      " (7,\n",
      "  '-0.476*\"lake\" + 0.211*\"san\" + -0.210*\"trail\" + -0.173*\"valley\" + '\n",
      "  '-0.168*\"park\" + -0.148*\"hike\" + 0.139*\"chiapas\" + 0.124*\"maya\" + '\n",
      "  '0.117*\"tabasco\" + 0.101*\"state\"'),\n",
      " (8,\n",
      "  '-0.373*\"paris\" + 0.259*\"beach\" + 0.206*\"berlin\" + -0.198*\"river\" + '\n",
      "  '0.133*\"mexico\" + -0.133*\"rue\" + -0.119*\"canal\" + -0.119*\"manaus\" + '\n",
      "  '-0.113*\"seine\" + -0.104*\"venice\"'),\n",
      " (9,\n",
      "  '0.258*\"manaus\" + 0.248*\"river\" + 0.227*\"amazon\" + -0.184*\"lake\" + '\n",
      "  '0.183*\"boat\" + -0.170*\"venice\" + 0.132*\"santarem\" + 0.125*\"hammock\" + '\n",
      "  '0.122*\"berlin\" + 0.120*\"belem\"'),\n",
      " (10,\n",
      "  '0.230*\"san\" + 0.178*\"beach\" + 0.155*\"venice\" + 0.147*\"cabo\" + 0.133*\"hwy\" + '\n",
      "  '0.131*\"baja\" + 0.116*\"min\" + 0.114*\"whale\" + 0.111*\"los\" + -0.110*\"site\"'),\n",
      " (11,\n",
      "  '0.369*\"venice\" + -0.329*\"paris\" + 0.189*\"palazzo\" + 0.147*\"century\" + '\n",
      "  '0.130*\"ca\" + 0.125*\"san\" + -0.121*\"rue\" + 0.116*\"venetian\" + 0.110*\"di\" + '\n",
      "  '0.109*\"marco\"'),\n",
      " (12,\n",
      "  '-0.294*\"oaxaca\" + 0.244*\"lake\" + -0.188*\"zapotec\" + -0.143*\"town\" + '\n",
      "  '-0.141*\"juarez\" + -0.119*\"village\" + -0.117*\"valley\" + -0.111*\"region\" + '\n",
      "  '0.109*\"chiapas\" + 0.107*\"maya\"'),\n",
      " (13,\n",
      "  '-0.287*\"oaxaca\" + 0.258*\"town\" + -0.240*\"lake\" + -0.177*\"zapotec\" + '\n",
      "  '-0.133*\"juarez\" + 0.120*\"baden\" + 0.114*\"aragon\" + 0.112*\"black\" + '\n",
      "  '-0.099*\"mitla\" + 0.097*\"benasque\"'),\n",
      " (14,\n",
      "  '0.311*\"veracruz\" + 0.252*\"tajin\" + 0.130*\"coast\" + -0.128*\"valley\" + '\n",
      "  '-0.126*\"san\" + -0.125*\"forest\" + 0.123*\"el\" + 0.121*\"papantla\" + '\n",
      "  '0.104*\"gothenburg\" + 0.103*\"north\"'),\n",
      " (15,\n",
      "  '0.233*\"gothenburg\" + 0.181*\"sweden\" + -0.149*\"veracruz\" + 0.148*\"swedish\" + '\n",
      "  '-0.133*\"aragon\" + -0.122*\"tajin\" + 0.117*\"stockholm\" + -0.114*\"teruel\" + '\n",
      "  '-0.114*\"benasque\" + -0.113*\"venice\"'),\n",
      " (16,\n",
      "  '0.255*\"baden\" + 0.254*\"forest\" + 0.253*\"black\" + 0.156*\"clock\" + '\n",
      "  '-0.146*\"aragon\" + 0.135*\"valley\" + -0.125*\"teruel\" + -0.125*\"benasque\" + '\n",
      "  '0.117*\"cuckoo\" + 0.116*\"st\"'),\n",
      " (17,\n",
      "  '0.213*\"st\" + -0.155*\"paris\" + 0.133*\"champagne\" + -0.129*\"town\" + '\n",
      "  '0.119*\"frejus\" + 0.118*\"le\" + 0.113*\"century\" + -0.111*\"baden\" + '\n",
      "  '0.111*\"antibes\" + 0.108*\"port\"'),\n",
      " (18,\n",
      "  '-0.231*\"town\" + 0.196*\"park\" + 0.191*\"gothenburg\" + -0.157*\"salvador\" + '\n",
      "  '-0.126*\"lake\" + -0.115*\"sertao\" + -0.110*\"champagne\" + -0.105*\"bahia\" + '\n",
      "  '-0.095*\"lencois\" + 0.092*\"along\"'),\n",
      " (19,\n",
      "  '0.242*\"champagne\" + -0.150*\"beach\" + 0.133*\"milan\" + 0.130*\"troyes\" + '\n",
      "  '-0.118*\"frejus\" + -0.111*\"tropez\" + -0.110*\"antibes\" + 0.105*\"cathedral\" + '\n",
      "  '-0.101*\"island\" + 0.095*\"french\"')]\n",
      "[(0,\n",
      "  '0.366*\"city\" + 0.167*\"around\" + 0.150*\"town\" + 0.144*\"place\" + 0.120*\"la\" + '\n",
      "  '0.120*\"mexico\" + 0.118*\"century\" + 0.112*\"day\" + 0.111*\"take\" + '\n",
      "  '0.110*\"area\"'),\n",
      " (1,\n",
      "  '0.448*\"city\" + 0.227*\"mexico\" + -0.221*\"town\" + -0.185*\"beach\" + '\n",
      "  '-0.129*\"island\" + -0.115*\"village\" + -0.115*\"rio\" + -0.104*\"corsica\" + '\n",
      "  '-0.104*\"region\" + -0.102*\"forest\"'),\n",
      " (2,\n",
      "  '0.329*\"mexico\" + -0.301*\"barcelona\" + -0.204*\"art\" + -0.200*\"berlin\" + '\n",
      "  '-0.172*\"museum\" + -0.161*\"bar\" + 0.123*\"site\" + 0.118*\"mexican\" + '\n",
      "  '0.115*\"pyramid\" + -0.108*\"catalan\"'),\n",
      " (3,\n",
      "  '-0.533*\"berlin\" + 0.225*\"madrid\" + 0.210*\"la\" + -0.184*\"wall\" + '\n",
      "  '0.178*\"barcelona\" + -0.129*\"building\" + 0.127*\"plaza\" + 0.126*\"del\" + '\n",
      "  '-0.116*\"east\" + 0.107*\"san\"'),\n",
      " (4,\n",
      "  '-0.302*\"madrid\" + -0.241*\"rio\" + 0.231*\"barcelona\" + -0.212*\"berlin\" + '\n",
      "  '-0.176*\"gay\" + -0.174*\"plaza\" + 0.137*\"art\" + -0.118*\"san\" + 0.117*\"town\" + '\n",
      "  '0.107*\"mexico\"'),\n",
      " (5,\n",
      "  '-0.449*\"rio\" + 0.229*\"madrid\" + 0.157*\"plaza\" + -0.149*\"school\" + '\n",
      "  '0.147*\"san\" + 0.142*\"la\" + -0.136*\"carnaval\" + -0.128*\"beach\" + '\n",
      "  '-0.124*\"manaus\" + -0.115*\"barcelona\"'),\n",
      " (6,\n",
      "  '-0.249*\"lake\" + 0.193*\"island\" + 0.160*\"beach\" + 0.140*\"corsica\" + '\n",
      "  '-0.138*\"chiapas\" + -0.135*\"valley\" + -0.131*\"barcelona\" + -0.126*\"trail\" + '\n",
      "  '-0.124*\"maya\" + 0.119*\"place\"'),\n",
      " (7,\n",
      "  '-0.476*\"lake\" + 0.211*\"san\" + -0.210*\"trail\" + -0.173*\"valley\" + '\n",
      "  '-0.168*\"park\" + -0.148*\"hike\" + 0.139*\"chiapas\" + 0.124*\"maya\" + '\n",
      "  '0.117*\"tabasco\" + 0.101*\"state\"'),\n",
      " (8,\n",
      "  '-0.373*\"paris\" + 0.259*\"beach\" + 0.206*\"berlin\" + -0.198*\"river\" + '\n",
      "  '0.133*\"mexico\" + -0.133*\"rue\" + -0.119*\"canal\" + -0.119*\"manaus\" + '\n",
      "  '-0.113*\"seine\" + -0.104*\"venice\"'),\n",
      " (9,\n",
      "  '0.258*\"manaus\" + 0.248*\"river\" + 0.227*\"amazon\" + -0.184*\"lake\" + '\n",
      "  '0.183*\"boat\" + -0.170*\"venice\" + 0.132*\"santarem\" + 0.125*\"hammock\" + '\n",
      "  '0.122*\"berlin\" + 0.120*\"belem\"'),\n",
      " (10,\n",
      "  '0.230*\"san\" + 0.178*\"beach\" + 0.155*\"venice\" + 0.147*\"cabo\" + 0.133*\"hwy\" + '\n",
      "  '0.131*\"baja\" + 0.116*\"min\" + 0.114*\"whale\" + 0.111*\"los\" + -0.110*\"site\"'),\n",
      " (11,\n",
      "  '0.369*\"venice\" + -0.329*\"paris\" + 0.189*\"palazzo\" + 0.147*\"century\" + '\n",
      "  '0.130*\"ca\" + 0.125*\"san\" + -0.121*\"rue\" + 0.116*\"venetian\" + 0.110*\"di\" + '\n",
      "  '0.109*\"marco\"'),\n",
      " (12,\n",
      "  '-0.294*\"oaxaca\" + 0.244*\"lake\" + -0.188*\"zapotec\" + -0.143*\"town\" + '\n",
      "  '-0.141*\"juarez\" + -0.119*\"village\" + -0.117*\"valley\" + -0.111*\"region\" + '\n",
      "  '0.109*\"chiapas\" + 0.107*\"maya\"'),\n",
      " (13,\n",
      "  '-0.287*\"oaxaca\" + 0.258*\"town\" + -0.240*\"lake\" + -0.177*\"zapotec\" + '\n",
      "  '-0.133*\"juarez\" + 0.120*\"baden\" + 0.114*\"aragon\" + 0.112*\"black\" + '\n",
      "  '-0.099*\"mitla\" + 0.097*\"teruel\"'),\n",
      " (14,\n",
      "  '0.311*\"veracruz\" + 0.252*\"tajin\" + 0.130*\"coast\" + -0.128*\"valley\" + '\n",
      "  '-0.126*\"san\" + -0.125*\"forest\" + 0.123*\"el\" + 0.121*\"papantla\" + '\n",
      "  '0.104*\"gothenburg\" + 0.103*\"north\"'),\n",
      " (15,\n",
      "  '0.233*\"gothenburg\" + 0.181*\"sweden\" + -0.149*\"veracruz\" + 0.148*\"swedish\" + '\n",
      "  '-0.133*\"aragon\" + -0.122*\"tajin\" + 0.117*\"stockholm\" + -0.114*\"teruel\" + '\n",
      "  '-0.114*\"benasque\" + -0.113*\"venice\"'),\n",
      " (16,\n",
      "  '0.255*\"baden\" + 0.254*\"forest\" + 0.253*\"black\" + 0.156*\"clock\" + '\n",
      "  '-0.146*\"aragon\" + 0.135*\"valley\" + -0.125*\"benasque\" + -0.125*\"teruel\" + '\n",
      "  '0.117*\"cuckoo\" + 0.116*\"st\"'),\n",
      " (17,\n",
      "  '0.213*\"st\" + -0.155*\"paris\" + 0.133*\"champagne\" + -0.129*\"town\" + '\n",
      "  '0.119*\"frejus\" + 0.118*\"le\" + 0.113*\"century\" + -0.111*\"baden\" + '\n",
      "  '0.111*\"antibes\" + 0.108*\"port\"'),\n",
      " (18,\n",
      "  '-0.231*\"town\" + 0.196*\"park\" + 0.191*\"gothenburg\" + -0.157*\"salvador\" + '\n",
      "  '-0.126*\"lake\" + -0.115*\"sertao\" + -0.110*\"champagne\" + -0.105*\"bahia\" + '\n",
      "  '-0.095*\"lencois\" + 0.092*\"along\"'),\n",
      " (19,\n",
      "  '0.242*\"champagne\" + -0.150*\"beach\" + 0.133*\"milan\" + 0.130*\"troyes\" + '\n",
      "  '-0.118*\"frejus\" + -0.111*\"tropez\" + -0.110*\"antibes\" + 0.105*\"cathedral\" + '\n",
      "  '-0.101*\"island\" + 0.095*\"french\"')]\n",
      "[(0,\n",
      "  '0.366*\"city\" + 0.167*\"around\" + 0.150*\"town\" + 0.144*\"place\" + 0.120*\"la\" + '\n",
      "  '0.120*\"mexico\" + 0.118*\"century\" + 0.112*\"day\" + 0.111*\"take\" + '\n",
      "  '0.110*\"area\"'),\n",
      " (1,\n",
      "  '-0.448*\"city\" + -0.227*\"mexico\" + 0.221*\"town\" + 0.185*\"beach\" + '\n",
      "  '0.129*\"island\" + 0.115*\"village\" + 0.115*\"rio\" + 0.104*\"corsica\" + '\n",
      "  '0.104*\"region\" + 0.102*\"forest\"'),\n",
      " (2,\n",
      "  '-0.329*\"mexico\" + 0.301*\"barcelona\" + 0.204*\"art\" + 0.200*\"berlin\" + '\n",
      "  '0.172*\"museum\" + 0.161*\"bar\" + -0.123*\"site\" + -0.118*\"mexican\" + '\n",
      "  '-0.115*\"pyramid\" + 0.108*\"catalan\"'),\n",
      " (3,\n",
      "  '0.533*\"berlin\" + -0.225*\"madrid\" + -0.210*\"la\" + 0.184*\"wall\" + '\n",
      "  '-0.178*\"barcelona\" + 0.129*\"building\" + -0.127*\"plaza\" + -0.126*\"del\" + '\n",
      "  '0.116*\"east\" + -0.107*\"san\"'),\n",
      " (4,\n",
      "  '0.302*\"madrid\" + 0.241*\"rio\" + -0.231*\"barcelona\" + 0.212*\"berlin\" + '\n",
      "  '0.176*\"gay\" + 0.174*\"plaza\" + -0.137*\"art\" + 0.118*\"san\" + -0.117*\"town\" + '\n",
      "  '-0.107*\"mexico\"'),\n",
      " (5,\n",
      "  '0.449*\"rio\" + -0.229*\"madrid\" + -0.157*\"plaza\" + 0.149*\"school\" + '\n",
      "  '-0.147*\"san\" + -0.142*\"la\" + 0.136*\"carnaval\" + 0.128*\"beach\" + '\n",
      "  '0.124*\"manaus\" + 0.115*\"barcelona\"'),\n",
      " (6,\n",
      "  '0.249*\"lake\" + -0.193*\"island\" + -0.160*\"beach\" + -0.140*\"corsica\" + '\n",
      "  '0.138*\"chiapas\" + 0.135*\"valley\" + 0.131*\"barcelona\" + 0.126*\"trail\" + '\n",
      "  '0.124*\"maya\" + -0.119*\"place\"'),\n",
      " (7,\n",
      "  '0.476*\"lake\" + -0.211*\"san\" + 0.210*\"trail\" + 0.173*\"valley\" + 0.168*\"park\" '\n",
      "  '+ 0.148*\"hike\" + -0.139*\"chiapas\" + -0.124*\"maya\" + -0.117*\"tabasco\" + '\n",
      "  '-0.101*\"state\"'),\n",
      " (8,\n",
      "  '0.373*\"paris\" + -0.259*\"beach\" + -0.206*\"berlin\" + 0.198*\"river\" + '\n",
      "  '-0.133*\"mexico\" + 0.133*\"rue\" + 0.119*\"canal\" + 0.119*\"manaus\" + '\n",
      "  '0.113*\"seine\" + 0.104*\"venice\"'),\n",
      " (9,\n",
      "  '-0.258*\"manaus\" + -0.248*\"river\" + -0.227*\"amazon\" + 0.184*\"lake\" + '\n",
      "  '-0.183*\"boat\" + 0.170*\"venice\" + -0.132*\"santarem\" + -0.125*\"hammock\" + '\n",
      "  '-0.122*\"berlin\" + -0.120*\"belem\"'),\n",
      " (10,\n",
      "  '-0.230*\"san\" + -0.178*\"beach\" + -0.155*\"venice\" + -0.147*\"cabo\" + '\n",
      "  '-0.133*\"hwy\" + -0.131*\"baja\" + -0.116*\"min\" + -0.114*\"whale\" + -0.111*\"los\" '\n",
      "  '+ 0.110*\"site\"'),\n",
      " (11,\n",
      "  '-0.369*\"venice\" + 0.329*\"paris\" + -0.189*\"palazzo\" + -0.147*\"century\" + '\n",
      "  '-0.130*\"ca\" + -0.125*\"san\" + 0.121*\"rue\" + -0.116*\"venetian\" + -0.110*\"di\" '\n",
      "  '+ -0.109*\"marco\"'),\n",
      " (12,\n",
      "  '0.294*\"oaxaca\" + -0.244*\"lake\" + 0.188*\"zapotec\" + 0.143*\"town\" + '\n",
      "  '0.141*\"juarez\" + 0.119*\"village\" + 0.117*\"valley\" + 0.111*\"region\" + '\n",
      "  '-0.109*\"chiapas\" + -0.107*\"maya\"'),\n",
      " (13,\n",
      "  '0.287*\"oaxaca\" + -0.258*\"town\" + 0.240*\"lake\" + 0.177*\"zapotec\" + '\n",
      "  '0.133*\"juarez\" + -0.120*\"baden\" + -0.114*\"aragon\" + -0.112*\"black\" + '\n",
      "  '0.099*\"mitla\" + -0.097*\"teruel\"'),\n",
      " (14,\n",
      "  '-0.311*\"veracruz\" + -0.252*\"tajin\" + -0.130*\"coast\" + 0.128*\"valley\" + '\n",
      "  '0.126*\"san\" + 0.125*\"forest\" + -0.123*\"el\" + -0.121*\"papantla\" + '\n",
      "  '-0.104*\"gothenburg\" + -0.103*\"north\"'),\n",
      " (15,\n",
      "  '-0.233*\"gothenburg\" + -0.181*\"sweden\" + 0.149*\"veracruz\" + -0.148*\"swedish\" '\n",
      "  '+ 0.133*\"aragon\" + 0.122*\"tajin\" + -0.117*\"stockholm\" + 0.114*\"teruel\" + '\n",
      "  '0.114*\"benasque\" + 0.113*\"venice\"'),\n",
      " (16,\n",
      "  '-0.255*\"baden\" + -0.254*\"forest\" + -0.253*\"black\" + -0.156*\"clock\" + '\n",
      "  '0.146*\"aragon\" + -0.135*\"valley\" + 0.125*\"teruel\" + 0.125*\"benasque\" + '\n",
      "  '-0.117*\"cuckoo\" + -0.116*\"st\"'),\n",
      " (17,\n",
      "  '-0.213*\"st\" + 0.155*\"paris\" + -0.133*\"champagne\" + 0.129*\"town\" + '\n",
      "  '-0.119*\"frejus\" + -0.118*\"le\" + -0.113*\"century\" + 0.111*\"baden\" + '\n",
      "  '-0.111*\"antibes\" + -0.108*\"port\"'),\n",
      " (18,\n",
      "  '0.231*\"town\" + -0.196*\"park\" + -0.191*\"gothenburg\" + 0.157*\"salvador\" + '\n",
      "  '0.126*\"lake\" + 0.115*\"sertao\" + 0.110*\"champagne\" + 0.105*\"bahia\" + '\n",
      "  '0.095*\"lencois\" + -0.092*\"along\"'),\n",
      " (19,\n",
      "  '-0.242*\"champagne\" + 0.150*\"beach\" + -0.133*\"milan\" + -0.130*\"troyes\" + '\n",
      "  '0.118*\"frejus\" + 0.111*\"tropez\" + 0.110*\"antibes\" + -0.105*\"cathedral\" + '\n",
      "  '0.101*\"island\" + -0.095*\"french\"')]\n"
     ]
    }
   ],
   "source": [
    "# find the coherence score with a different number of topics\n",
    "for i in range(5, 35, 5):\n",
    "\n",
    "    model_name = f'lsa_{d1}_' + f'{i}' + 'topics'\n",
    "    dest_path = f'../results/{model_name}/'\n",
    "    if not os.path.exists(dest_path):\n",
    "        os.mkdir(f'../results/{model_name}/')\n",
    "\n",
    "    lsi = LsiModel(bow, num_topics=i, id2word=dictionary)\n",
    "    coherence_model = CoherenceModel(model=lsi, texts=data['content_prep'], dictionary=dictionary, coherence='c_v')\n",
    "    coherence_score = coherence_model.get_coherence()\n",
    "    # save Coherence Score to lsa model results directory\n",
    "    with open(f'../results/{model_name}/lsa_vis_prepared_' + str(i) + '_scores.txt', 'w') as f:\n",
    "        f.write(f'Coherence Score: {coherence_score}\\n')\n",
    "        f.close()\n",
    "\n",
    "    lsa_model = LsiModel(bow, num_topics=i, id2word=dictionary)\n",
    "\n",
    "    dt_matrix = corpus2dense(lsa_model[bow], len(lsa_model.projection.s)).T / lsa_model.projection.s\n",
    "    df_matrix = pd.DataFrame(dt_matrix)\n",
    "    df_matrix.to_csv(f'../results/{model_name}/lsa_vis_prepared_' + str(i) + '_matrix.csv', index=False, header=False)\n",
    "\n",
    "    pprint(lsa_model.print_topics())\n",
    "\n",
    "    # get place of the closest document for each word\n",
    "    # transform svd matrix to spacial KDtree\n",
    "    tree = spatial.KDTree(dt_matrix)\n",
    "\n",
    "    # transform a list of words with the fitted model to get their vector-representation\n",
    "    input = [['sun', 'beach'], ['city', 'town'], ['mountain', 'hiking']]\n",
    "    # Todo: Run Preprocessing over input\n",
    "\n",
    "    # transform words with dict to bow\n",
    "    input_bow = [dictionary.doc2bow(words) for words in input]\n",
    "\n",
    "    input_topics = lsa_model.__getitem__(input_bow)\n",
    "    # reformat to keep just values in tuples\n",
    "    input_vecs = []\n",
    "    for line in input_topics:\n",
    "        input_vecs.append([y[1] for y in line])\n",
    "\n",
    "    # get closest document vector for each word vector\n",
    "    with open(f'../results/{model_name}/lsa_vis_prepared_' + str(i) + '_prediction.txt', 'w') as f:\n",
    "        for i, input_vec in enumerate(input_vecs):\n",
    "            query = tree.query(input_vec)\n",
    "            f.write(f'{input[i]} > \"{data.Place[query[1]]}\" - Distance: {query[0]}\\n')\n",
    "        f.close()"
   ],
   "metadata": {
    "collapsed": false,
    "pycharm": {
     "name": "#%%\n"
    }
   }
  },
  {
   "cell_type": "markdown",
   "source": [
    "##### after running above cell you need to run \"task2b_topicmodel_lda_lsa_excel-result.ipynb\" with algorithm = lsa to merge model results into Excel File"
   ],
   "metadata": {
    "collapsed": false,
    "pycharm": {
     "name": "#%% md\n"
    }
   }
  },
  {
   "cell_type": "code",
   "execution_count": null,
   "outputs": [],
   "source": [],
   "metadata": {
    "collapsed": false,
    "pycharm": {
     "name": "#%%\n"
    }
   }
  }
 ],
 "metadata": {
  "kernelspec": {
   "name": "wi3_datascience",
   "language": "python",
   "display_name": "WI3_DataScience"
  },
  "language_info": {
   "codemirror_mode": {
    "name": "ipython",
    "version": 2
   },
   "file_extension": ".py",
   "mimetype": "text/x-python",
   "name": "python",
   "nbconvert_exporter": "python",
   "pygments_lexer": "ipython2",
   "version": "2.7.6"
  }
 },
 "nbformat": 4,
 "nbformat_minor": 0
}