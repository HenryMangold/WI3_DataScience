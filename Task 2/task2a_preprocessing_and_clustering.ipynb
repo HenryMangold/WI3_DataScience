{
 "cells": [
  {
   "cell_type": "markdown",
   "source": [
    "# Task 2a\n",
    "Die folgenden Kapitel widmen sich der Datenvorbereitung der gecrawlten Textabschnitte mit Identifizierung von Named Entities und nicht-NE Touristenattraktionen sowie einem anschließenden Clustering der Dokumente nach den nicht-NE Touristenattraktionen.\n",
    "\n",
    "----------------------------------\n",
    "\n",
    "#### Inhaltsverzeichnis:\n",
    "#### 1. [Text Preprocessing](#Text_prep)\n",
    "#### 2. [Erstellen von Trainingsdaten](#Build_train_data)\n",
    "#### 3. [Clustering](#Clustering)\n",
    "#### 4. [Bonus: Automatisches mapping der NoNE zu Kategorien](#Bonus)\n",
    "-----------------------------------------"
   ],
   "metadata": {
    "collapsed": false,
    "pycharm": {
     "name": "#%% md\n"
    }
   }
  },
  {
   "cell_type": "markdown",
   "source": [
    "##### Imports"
   ],
   "metadata": {
    "collapsed": false,
    "pycharm": {
     "name": "#%% md\n"
    }
   }
  },
  {
   "cell_type": "code",
   "execution_count": null,
   "outputs": [],
   "source": [
    "from task2a_preprocessing import Preprocessing\n",
    "from task2a_clustering import Clustering\n",
    "import pandas as pd"
   ],
   "metadata": {
    "collapsed": false,
    "pycharm": {
     "name": "#%%\n"
    }
   }
  },
  {
   "cell_type": "markdown",
   "source": [
    "### 1. Text Preprocessing <a class=\"anchor\" id=\"Text_prep\"></a>"
   ],
   "metadata": {
    "collapsed": false,
    "pycharm": {
     "name": "#%% md\n"
    }
   }
  },
  {
   "cell_type": "code",
   "execution_count": null,
   "outputs": [],
   "source": [
    "prep_lemma = Preprocessing()\n",
    "prep_lemma.preprocess_data('results_scrapping.csv', 'Lemmatization')\n",
    "\n",
    "prep_stem = Preprocessing()\n",
    "prep_stem.preprocess_data('results_scrapping.csv', 'Stemming')"
   ],
   "metadata": {
    "collapsed": false,
    "pycharm": {
     "name": "#%%\n"
    }
   }
  },
  {
   "cell_type": "markdown",
   "source": [
    "### 2. Erstellen von Trainingsdaten <a class=\"anchor\" id=\"Build_train_data\"></a>"
   ],
   "metadata": {
    "collapsed": false,
    "pycharm": {
     "name": "#%% md\n"
    }
   }
  },
  {
   "cell_type": "code",
   "execution_count": null,
   "outputs": [],
   "source": [
    "grams = ['1-grams','2-grams','mixed-grams']\n",
    "matrix = ['TFIDF','True/False']\n",
    "data_list = []\n",
    "\n",
    "for g in grams:\n",
    "    for m in matrix:\n",
    "        data_list.append({'data':prep_lemma.create_train_data(g, m),\n",
    "                          'wordreduction':'Lemmatization',\n",
    "                          'grams':g,\n",
    "                          'matrix':m})\n",
    "        data_list.append({'data':prep_stem.create_train_data(g, m),\n",
    "                          'wordreduction':'Stemming',\n",
    "                          'grams':g,\n",
    "                          'matrix':m})"
   ],
   "metadata": {
    "collapsed": false,
    "pycharm": {
     "name": "#%%\n"
    }
   }
  },
  {
   "cell_type": "markdown",
   "source": [
    "### 3. Clustering <a class=\"anchor\" id=\"Clustering\"></a>"
   ],
   "metadata": {
    "collapsed": false,
    "pycharm": {
     "name": "#%% md\n"
    }
   }
  },
  {
   "cell_type": "code",
   "execution_count": null,
   "outputs": [],
   "source": [
    "clustering = Clustering()\n",
    "hyperparameter_dict = {\"cluster_types\":[\"KMeans\",\"DBSCAN\",\"AffinityPropagation\",\"AgglomerativeClustering\",\"Birch\",\"BisectingKMeans\",\"MiniBatchKMeans\",\"MeanShift\",\"OPTICS\",\"SpectralClustering\"],\n",
    "                       \"n_clusters\":[2,3,4,5,6,7,8,9,10]}\n",
    "df_results = clustering.run_clustering(data_list, hyperparameter_dict)"
   ],
   "metadata": {
    "collapsed": false,
    "pycharm": {
     "name": "#%%\n"
    }
   }
  },
  {
   "cell_type": "code",
   "execution_count": null,
   "outputs": [],
   "source": [
    "df_results.to_csv('results_2a.csv')"
   ],
   "metadata": {
    "collapsed": false,
    "pycharm": {
     "name": "#%%\n"
    }
   }
  },
  {
   "cell_type": "markdown",
   "source": [],
   "metadata": {
    "collapsed": false,
    "pycharm": {
     "name": "#%% md\n"
    }
   }
  },
  {
   "cell_type": "code",
   "execution_count": null,
   "outputs": [],
   "source": [
    "df_mapping_lemma = prep_lemma.df_mapping\n",
    "df_mapping_stem = prep_stem.df_mapping"
   ],
   "metadata": {
    "collapsed": false,
    "pycharm": {
     "name": "#%%\n"
    }
   }
  },
  {
   "cell_type": "code",
   "execution_count": null,
   "outputs": [],
   "source": [
    "df_mapping_lemma.to_csv('mapping_data_lemma.csv')\n",
    "df_mapping_stem.to_csv('mapping_data_stem.csv')"
   ],
   "metadata": {
    "collapsed": false,
    "pycharm": {
     "name": "#%%\n"
    }
   }
  }
 ],
 "metadata": {
  "kernelspec": {
   "display_name": "Python 3",
   "language": "python",
   "name": "python3"
  },
  "language_info": {
   "codemirror_mode": {
    "name": "ipython",
    "version": 2
   },
   "file_extension": ".py",
   "mimetype": "text/x-python",
   "name": "python",
   "nbconvert_exporter": "python",
   "pygments_lexer": "ipython2",
   "version": "2.7.6"
  }
 },
 "nbformat": 4,
 "nbformat_minor": 0
}