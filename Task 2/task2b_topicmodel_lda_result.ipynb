{
 "cells": [
  {
   "cell_type": "markdown",
   "source": [
    "###### Script that merges model results with different configurations into an Excel File\n",
    "** **"
   ],
   "metadata": {
    "collapsed": false,
    "pycharm": {
     "name": "#%% md\n"
    }
   }
  },
  {
   "cell_type": "code",
   "execution_count": 50,
   "outputs": [],
   "source": [
    "import xlsxwriter\n",
    "import os\n",
    "from os import listdir\n",
    "from os.path import isfile\n",
    "from os.path import join"
   ],
   "metadata": {
    "collapsed": false,
    "pycharm": {
     "name": "#%%\n"
    }
   }
  },
  {
   "cell_type": "code",
   "execution_count": null,
   "outputs": [],
   "source": [
    "workbook = xlsxwriter.Workbook('../results/merged.xlsx')\n",
    "worksheet = workbook.add_worksheet()\n",
    "longest_width_B = 10\n",
    "longest_width_CD = 10\n",
    "text = 'Number of Topics'\n",
    "longest_width_A = len(text)\n",
    "cell_format = workbook.add_format({'bold': True})\n",
    "cell_format.set_align('center')\n",
    "worksheet.write('A1', text, cell_format)\n",
    "worksheet.write('B1', 'Hyperparameter', cell_format)\n",
    "worksheet.write('C1', 'Perplexity', cell_format)\n",
    "worksheet.write('D1', 'Coherence Score', cell_format)\n",
    "\n",
    "# iterate over directory's\n",
    "for base, dirs, files in os.walk('../results/'):\n",
    "    file_counter = 1\n",
    "    for directory in dirs:\n",
    "        dict_counter = file_counter + 1\n",
    "        worksheet.write(('A' + str(dict_counter)), directory.split('_')[1])\n",
    "        # iterate over files in directory\n",
    "        path = f'../results/{directory}/'\n",
    "        files = [f for f in listdir(path) if isfile(join(path, f))]\n",
    "        for file in files:\n",
    "            if file.endswith('.html') or file.endswith('.txt') or file.endswith('.csv'):\n",
    "                None\n",
    "            else:\n",
    "                file_counter += 1\n",
    "                text = file.split('_')[4] + file.split('_')[5]\n",
    "                width_B = len(text)\n",
    "                if width_B > longest_width_B:\n",
    "                    longest_width_B = width_B\n",
    "                worksheet.write(('B' + str(file_counter)), text)\n",
    "                txt_path = path + file + '_scores.txt'\n",
    "                with open(txt_path) as f:\n",
    "                    lines = f.readlines()\n",
    "                    f.close()\n",
    "                for i, line in enumerate(lines):\n",
    "                    text = (line.split(': ')[1]).strip()\n",
    "                    width_CD = len(text)\n",
    "                    if width_CD > longest_width_CD:\n",
    "                        longest_width_CD = width_CD\n",
    "                    if i == 0:\n",
    "                        worksheet.write(('C' + str(file_counter)), float(text))\n",
    "                    elif i == 1:\n",
    "                        worksheet.write(('D' + str(file_counter)), float(text))\n",
    "    # set column width\n",
    "    worksheet.set_column(0, 0, longest_width_A)  # column A\n",
    "    worksheet.set_column(1, 1, longest_width_B)  # column B\n",
    "    worksheet.set_column(2, 3, longest_width_CD)  # column C & D\n",
    "\n",
    "    # conditional formatting to find the best variant in excel file\n",
    "    # > lower the perplexity better the model.\n",
    "    # > higher the topic coherence, the topic is more human interpretable.\n",
    "    worksheet.conditional_format(('C1:C' + str(file_counter)),{'type': '3_color_scale', 'min_color':'#88cc00', 'mid_color':'#ffcc00', 'max_color':'#ff471a'})  # > Perplexity\n",
    "    worksheet.conditional_format(('D1:D' + str(file_counter)),{'type': '3_color_scale', 'min_color':'#aaff00', 'mid_color':'#99e600', 'max_color':'#88cc00'})  # > Coherence Score\n",
    "workbook.close()"
   ],
   "metadata": {
    "collapsed": false,
    "pycharm": {
     "name": "#%%\n"
    }
   }
  },
  {
   "cell_type": "code",
   "execution_count": null,
   "outputs": [],
   "source": [],
   "metadata": {
    "collapsed": false,
    "pycharm": {
     "name": "#%%\n"
    }
   }
  },
  {
   "cell_type": "code",
   "execution_count": null,
   "outputs": [],
   "source": [],
   "metadata": {
    "collapsed": false,
    "pycharm": {
     "name": "#%%\n"
    }
   }
  }
 ],
 "metadata": {
  "kernelspec": {
   "display_name": "Python 3",
   "language": "python",
   "name": "python3"
  },
  "language_info": {
   "codemirror_mode": {
    "name": "ipython",
    "version": 2
   },
   "file_extension": ".py",
   "mimetype": "text/x-python",
   "name": "python",
   "nbconvert_exporter": "python",
   "pygments_lexer": "ipython2",
   "version": "2.7.6"
  }
 },
 "nbformat": 4,
 "nbformat_minor": 0
}