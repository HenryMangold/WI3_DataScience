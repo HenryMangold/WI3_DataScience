{
 "cells": [
  {
   "cell_type": "code",
   "execution_count": 1,
   "metadata": {},
   "outputs": [
    {
     "name": "stderr",
     "output_type": "stream",
     "text": [
      "[nltk_data] Downloading package punkt to C:\\Users\\Hendrik\n",
      "[nltk_data]     Meth\\AppData\\Roaming\\nltk_data...\n",
      "[nltk_data]   Package punkt is already up-to-date!\n"
     ]
    },
    {
     "data": {
      "text/plain": [
       "True"
      ]
     },
     "execution_count": 1,
     "metadata": {},
     "output_type": "execute_result"
    }
   ],
   "source": [
    "import nltk\n",
    "nltk.download('punkt')"
   ]
  },
  {
   "cell_type": "markdown",
   "metadata": {},
   "source": [
    "# Tokenization"
   ]
  },
  {
   "cell_type": "code",
   "execution_count": 2,
   "metadata": {},
   "outputs": [
    {
     "name": "stdout",
     "output_type": "stream",
     "text": [
      "['Hello Mr. Smith, how are you doing today?', 'The weather is great, and city is awesome.', 'The sky is pinkish-blue.', \"You shouldn't eat cardboard\"]\n"
     ]
    }
   ],
   "source": [
    "#Sentence tokenization\n",
    "from nltk.tokenize import sent_tokenize\n",
    "text=\"\"\"Hello Mr. Smith, how are you doing today? The weather is great, and city is awesome.\n",
    "The sky is pinkish-blue. You shouldn't eat cardboard\"\"\"\n",
    "sentence_tokens=sent_tokenize(text)\n",
    "print(sentence_tokens)"
   ]
  },
  {
   "cell_type": "code",
   "execution_count": 3,
   "metadata": {},
   "outputs": [
    {
     "name": "stdout",
     "output_type": "stream",
     "text": [
      "['Hello', 'Mr.', 'Smith', ',', 'how', 'are', 'you', 'doing', 'today', '?', 'The', 'weather', 'is', 'great', ',', 'and', 'city', 'is', 'awesome', '.', 'The', 'sky', 'is', 'pinkish-blue', '.', 'You', 'should', \"n't\", 'eat', 'cardboard']\n"
     ]
    }
   ],
   "source": [
    "#Word tokenization\n",
    "from nltk.tokenize import word_tokenize\n",
    "word_tokens=word_tokenize(text)\n",
    "print(word_tokens)"
   ]
  },
  {
   "cell_type": "markdown",
   "metadata": {},
   "source": [
    "# Syntactic Normalization"
   ]
  },
  {
   "cell_type": "code",
   "execution_count": 4,
   "metadata": {},
   "outputs": [
    {
     "data": {
      "text/plain": [
       "['Hello',\n",
       " 'Smith',\n",
       " 'how',\n",
       " 'are',\n",
       " 'you',\n",
       " 'doing',\n",
       " 'today',\n",
       " 'The',\n",
       " 'weather',\n",
       " 'is',\n",
       " 'great',\n",
       " 'and',\n",
       " 'city',\n",
       " 'is',\n",
       " 'awesome',\n",
       " 'The',\n",
       " 'sky',\n",
       " 'is',\n",
       " 'You',\n",
       " 'should',\n",
       " 'eat',\n",
       " 'cardboard']"
      ]
     },
     "execution_count": 4,
     "metadata": {},
     "output_type": "execute_result"
    }
   ],
   "source": [
    "#Remove punctuation\n",
    "word_tokens = [word for word in word_tokens if word.isalpha()]\n",
    "word_tokens"
   ]
  },
  {
   "cell_type": "code",
   "execution_count": 5,
   "metadata": {},
   "outputs": [
    {
     "data": {
      "text/plain": [
       "['hello',\n",
       " 'smith',\n",
       " 'how',\n",
       " 'are',\n",
       " 'you',\n",
       " 'doing',\n",
       " 'today',\n",
       " 'the',\n",
       " 'weather',\n",
       " 'is',\n",
       " 'great',\n",
       " 'and',\n",
       " 'city',\n",
       " 'is',\n",
       " 'awesome',\n",
       " 'the',\n",
       " 'sky',\n",
       " 'is',\n",
       " 'you',\n",
       " 'should',\n",
       " 'eat',\n",
       " 'cardboard']"
      ]
     },
     "execution_count": 5,
     "metadata": {},
     "output_type": "execute_result"
    }
   ],
   "source": [
    "#Syntactic normalization\n",
    "normed_word_tokens = [word.lower() for word in word_tokens]\n",
    "normed_word_tokens"
   ]
  },
  {
   "cell_type": "markdown",
   "metadata": {},
   "source": [
    "# POS Tagging"
   ]
  },
  {
   "cell_type": "code",
   "execution_count": 6,
   "metadata": {},
   "outputs": [
    {
     "name": "stderr",
     "output_type": "stream",
     "text": [
      "[nltk_data] Downloading package averaged_perceptron_tagger to\n",
      "[nltk_data]     C:\\Users\\Hendrik Meth\\AppData\\Roaming\\nltk_data...\n",
      "[nltk_data]   Package averaged_perceptron_tagger is already up-to-\n",
      "[nltk_data]       date!\n"
     ]
    },
    {
     "data": {
      "text/plain": [
       "True"
      ]
     },
     "execution_count": 6,
     "metadata": {},
     "output_type": "execute_result"
    }
   ],
   "source": [
    "nltk.download('averaged_perceptron_tagger')"
   ]
  },
  {
   "cell_type": "code",
   "execution_count": 7,
   "metadata": {},
   "outputs": [
    {
     "data": {
      "text/plain": [
       "[('hello', 'NN'),\n",
       " ('smith', 'VB'),\n",
       " ('how', 'WRB'),\n",
       " ('are', 'VBP'),\n",
       " ('you', 'PRP'),\n",
       " ('doing', 'VBG'),\n",
       " ('today', 'NN'),\n",
       " ('the', 'DT'),\n",
       " ('weather', 'NN'),\n",
       " ('is', 'VBZ'),\n",
       " ('great', 'JJ'),\n",
       " ('and', 'CC'),\n",
       " ('city', 'NN'),\n",
       " ('is', 'VBZ'),\n",
       " ('awesome', 'JJ'),\n",
       " ('the', 'DT'),\n",
       " ('sky', 'NN'),\n",
       " ('is', 'VBZ'),\n",
       " ('you', 'PRP'),\n",
       " ('should', 'MD'),\n",
       " ('eat', 'VB'),\n",
       " ('cardboard', 'NN')]"
      ]
     },
     "execution_count": 7,
     "metadata": {},
     "output_type": "execute_result"
    }
   ],
   "source": [
    "#POS tagging\n",
    "nltk.pos_tag(normed_word_tokens)"
   ]
  },
  {
   "cell_type": "markdown",
   "metadata": {},
   "source": [
    "# Stemming"
   ]
  },
  {
   "cell_type": "code",
   "execution_count": 8,
   "metadata": {},
   "outputs": [
    {
     "name": "stdout",
     "output_type": "stream",
     "text": [
      "Original Tokens: ['hello', 'smith', 'how', 'are', 'you', 'doing', 'today', 'the', 'weather', 'is', 'great', 'and', 'city', 'is', 'awesome', 'the', 'sky', 'is', 'you', 'should', 'eat', 'cardboard']\n",
      "\n",
      "Stemmed Tokens: ['hello', 'smith', 'how', 'are', 'you', 'do', 'today', 'the', 'weather', 'is', 'great', 'and', 'citi', 'is', 'awesom', 'the', 'sky', 'is', 'you', 'should', 'eat', 'cardboard']\n"
     ]
    }
   ],
   "source": [
    "#Stemming\n",
    "from nltk.stem import PorterStemmer\n",
    "from nltk.tokenize import sent_tokenize, word_tokenize\n",
    "\n",
    "ps = PorterStemmer()\n",
    "\n",
    "stemmed_words=[]\n",
    "for w in normed_word_tokens:\n",
    "    stemmed_words.append(ps.stem(w))\n",
    "\n",
    "print(\"Original Tokens:\",normed_word_tokens)\n",
    "print(\"\\nStemmed Tokens:\",stemmed_words)"
   ]
  },
  {
   "cell_type": "markdown",
   "metadata": {},
   "source": [
    "# Lemmatization / Linguistic Normalization"
   ]
  },
  {
   "cell_type": "code",
   "execution_count": 9,
   "metadata": {},
   "outputs": [
    {
     "name": "stderr",
     "output_type": "stream",
     "text": [
      "[nltk_data] Downloading package wordnet to C:\\Users\\Hendrik\n",
      "[nltk_data]     Meth\\AppData\\Roaming\\nltk_data...\n",
      "[nltk_data]   Package wordnet is already up-to-date!\n"
     ]
    },
    {
     "data": {
      "text/plain": [
       "True"
      ]
     },
     "execution_count": 9,
     "metadata": {},
     "output_type": "execute_result"
    }
   ],
   "source": [
    "nltk.download('wordnet')"
   ]
  },
  {
   "cell_type": "code",
   "execution_count": 10,
   "metadata": {},
   "outputs": [
    {
     "name": "stdout",
     "output_type": "stream",
     "text": [
      "\n",
      "Original Word: hello\n",
      "Lemmatized Word: hello\n",
      "Stemmed Word: hello\n",
      "\n",
      "Original Word: smith\n",
      "Lemmatized Word: smith\n",
      "Stemmed Word: smith\n",
      "\n",
      "Original Word: how\n",
      "Lemmatized Word: how\n",
      "Stemmed Word: how\n",
      "\n",
      "Original Word: are\n",
      "Lemmatized Word: be\n",
      "Stemmed Word: are\n",
      "\n",
      "Original Word: you\n",
      "Lemmatized Word: you\n",
      "Stemmed Word: you\n",
      "\n",
      "Original Word: doing\n",
      "Lemmatized Word: do\n",
      "Stemmed Word: do\n",
      "\n",
      "Original Word: today\n",
      "Lemmatized Word: today\n",
      "Stemmed Word: today\n",
      "\n",
      "Original Word: the\n",
      "Lemmatized Word: the\n",
      "Stemmed Word: the\n",
      "\n",
      "Original Word: weather\n",
      "Lemmatized Word: weather\n",
      "Stemmed Word: weather\n",
      "\n",
      "Original Word: is\n",
      "Lemmatized Word: be\n",
      "Stemmed Word: is\n",
      "\n",
      "Original Word: great\n",
      "Lemmatized Word: great\n",
      "Stemmed Word: great\n",
      "\n",
      "Original Word: and\n",
      "Lemmatized Word: and\n",
      "Stemmed Word: and\n",
      "\n",
      "Original Word: city\n",
      "Lemmatized Word: city\n",
      "Stemmed Word: citi\n",
      "\n",
      "Original Word: is\n",
      "Lemmatized Word: be\n",
      "Stemmed Word: is\n",
      "\n",
      "Original Word: awesome\n",
      "Lemmatized Word: awesome\n",
      "Stemmed Word: awesom\n",
      "\n",
      "Original Word: the\n",
      "Lemmatized Word: the\n",
      "Stemmed Word: the\n",
      "\n",
      "Original Word: sky\n",
      "Lemmatized Word: sky\n",
      "Stemmed Word: sky\n",
      "\n",
      "Original Word: is\n",
      "Lemmatized Word: be\n",
      "Stemmed Word: is\n",
      "\n",
      "Original Word: you\n",
      "Lemmatized Word: you\n",
      "Stemmed Word: you\n",
      "\n",
      "Original Word: should\n",
      "Lemmatized Word: should\n",
      "Stemmed Word: should\n",
      "\n",
      "Original Word: eat\n",
      "Lemmatized Word: eat\n",
      "Stemmed Word: eat\n",
      "\n",
      "Original Word: cardboard\n",
      "Lemmatized Word: cardboard\n",
      "Stemmed Word: cardboard\n"
     ]
    }
   ],
   "source": [
    "#Lexicon Normalization\n",
    "#performing stemming and Lemmatization\n",
    "\n",
    "from nltk.stem.wordnet import WordNetLemmatizer\n",
    "lem = WordNetLemmatizer()\n",
    "\n",
    "from nltk.stem.porter import PorterStemmer\n",
    "stem = PorterStemmer()\n",
    "\n",
    "for word in normed_word_tokens:\n",
    "    print(\"\\nOriginal Word:\",word)\n",
    "    print(\"Lemmatized Word:\",lem.lemmatize(word,\"v\"))\n",
    "    print(\"Stemmed Word:\",stem.stem(word))"
   ]
  },
  {
   "cell_type": "markdown",
   "metadata": {},
   "source": [
    "# Stopword Removal"
   ]
  },
  {
   "cell_type": "code",
   "execution_count": 11,
   "metadata": {},
   "outputs": [
    {
     "name": "stderr",
     "output_type": "stream",
     "text": [
      "[nltk_data] Downloading package stopwords to C:\\Users\\Hendrik\n",
      "[nltk_data]     Meth\\AppData\\Roaming\\nltk_data...\n",
      "[nltk_data]   Package stopwords is already up-to-date!\n"
     ]
    },
    {
     "data": {
      "text/plain": [
       "True"
      ]
     },
     "execution_count": 11,
     "metadata": {},
     "output_type": "execute_result"
    }
   ],
   "source": [
    "nltk.download('stopwords')"
   ]
  },
  {
   "cell_type": "code",
   "execution_count": 12,
   "metadata": {},
   "outputs": [
    {
     "name": "stdout",
     "output_type": "stream",
     "text": [
      "{'i', 'these', 'weren', 'before', 'their', 'shouldn', 'ours', 'were', 'about', 'between', 'other', 'don', \"doesn't\", 'my', \"hasn't\", 'on', 'no', 'his', 'itself', 'having', 'aren', 'me', 'those', 'o', \"don't\", \"that'll\", 'once', 'll', 'can', 'into', 'above', 'they', 'ma', 'ain', 'now', 'be', 'why', 'our', 'y', 'm', 'hadn', \"shan't\", 'not', \"needn't\", \"you'd\", 'over', 've', 'am', 'couldn', 'to', 'has', 'because', 'she', 'here', 'myself', 'where', 'we', 'when', \"you're\", 'who', \"it's\", 'being', \"wouldn't\", \"should've\", 'from', 'all', 's', 'theirs', 'does', 'so', 'won', 't', 'wouldn', 'there', 'under', 'hasn', 'them', 'by', \"wasn't\", 'are', 'or', 'which', 'do', 'of', 'mightn', \"mustn't\", 'ourselves', 'your', 'yourself', 'during', 'herself', 'that', 'with', 'was', 'while', 'as', 'have', 'her', 'been', 'until', 'will', 'more', 'this', 'you', 'both', 'didn', 'it', 'doing', 'up', 'again', 'the', \"mightn't\", \"she's\", 'down', 'doesn', 'after', \"haven't\", 'whom', 'own', 'further', 'below', \"won't\", 'only', 'nor', 'and', 'than', 'needn', 'should', 're', 'each', 'if', 'himself', 'him', 'how', 'an', \"didn't\", 'for', 'themselves', 'hers', 'against', 'most', 'at', \"you'll\", 'off', 'same', 'what', \"shouldn't\", 'out', \"aren't\", 'any', 'such', \"isn't\", 'yours', 'just', \"you've\", 'a', 'did', \"hadn't\", 'haven', 'shan', \"couldn't\", 'few', 'through', 'he', 'd', 'isn', 'had', 'mustn', \"weren't\", 'too', 'very', 'in', 'yourselves', 'some', 'then', 'its', 'is', 'wasn', 'but'}\n"
     ]
    }
   ],
   "source": [
    "#Import stopword dictionary\n",
    "from nltk.corpus import stopwords\n",
    "stop_words=set(stopwords.words(\"english\"))\n",
    "print(stop_words)"
   ]
  },
  {
   "cell_type": "code",
   "execution_count": 13,
   "metadata": {},
   "outputs": [
    {
     "name": "stdout",
     "output_type": "stream",
     "text": [
      "Tokenized Sentence: ['hello', 'smith', 'how', 'are', 'you', 'do', 'today', 'the', 'weather', 'is', 'great', 'and', 'citi', 'is', 'awesom', 'the', 'sky', 'is', 'you', 'should', 'eat', 'cardboard']\n",
      "\n",
      "Filtered Sentence: ['hello', 'smith', 'today', 'weather', 'great', 'citi', 'awesom', 'sky', 'eat', 'cardboard']\n",
      "\n",
      "Stopwords found: ['how', 'are', 'you', 'do', 'the', 'is', 'and', 'is', 'the', 'is', 'you', 'should']\n"
     ]
    }
   ],
   "source": [
    "#Remove stopwords\n",
    "filtered_sent=[]\n",
    "stopwords_found=[]\n",
    "tokenized_sent=stemmed_words\n",
    "for w in tokenized_sent:\n",
    "    if w not in stop_words:\n",
    "        filtered_sent.append(w)\n",
    "    else:\n",
    "        stopwords_found.append(w)\n",
    "print(\"Tokenized Sentence:\",tokenized_sent)\n",
    "print(\"\\nFiltered Sentence:\",filtered_sent)\n",
    "print(\"\\nStopwords found:\",stopwords_found)"
   ]
  },
  {
   "cell_type": "markdown",
   "metadata": {},
   "source": [
    "# Frequency Distributions"
   ]
  },
  {
   "cell_type": "code",
   "execution_count": 14,
   "metadata": {},
   "outputs": [
    {
     "name": "stdout",
     "output_type": "stream",
     "text": [
      "<FreqDist with 18 samples and 22 outcomes>\n"
     ]
    },
    {
     "data": {
      "text/plain": [
       "[('is', 3), ('you', 2)]"
      ]
     },
     "execution_count": 14,
     "metadata": {},
     "output_type": "execute_result"
    }
   ],
   "source": [
    "#Frequency distribution\n",
    "from nltk.probability import FreqDist\n",
    "fdist = FreqDist(tokenized_sent)\n",
    "print(fdist)\n",
    "fdist.most_common(2)"
   ]
  },
  {
   "cell_type": "code",
   "execution_count": 15,
   "metadata": {},
   "outputs": [
    {
     "data": {
      "image/png": "[encoded data removed]",
      "text/plain": [
       "<Figure size 432x288 with 1 Axes>"
      ]
     },
     "metadata": {
      "needs_background": "light"
     },
     "output_type": "display_data"
    }
   ],
   "source": [
    "# Frequency Distribution Plot\n",
    "import matplotlib.pyplot as plt\n",
    "fdist.plot(30,cumulative=False)\n",
    "plt.show()"
   ]
  }
 ],
 "metadata": {
  "kernelspec": {
   "display_name": "Python 3 (ipykernel)",
   "language": "python",
   "name": "python3"
  },
  "language_info": {
   "codemirror_mode": {
    "name": "ipython",
    "version": 3
   },
   "file_extension": ".py",
   "mimetype": "text/x-python",
   "name": "python",
   "nbconvert_exporter": "python",
   "pygments_lexer": "ipython3",
   "version": "3.9.7"
  }
 },
 "nbformat": 4,
 "nbformat_minor": 4
}
