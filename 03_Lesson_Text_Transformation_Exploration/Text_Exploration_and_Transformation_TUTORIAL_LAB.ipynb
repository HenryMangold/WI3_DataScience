{
 "cells": [
  {
   "cell_type": "code",
   "execution_count": null,
   "id": "55aca014",
   "metadata": {},
   "outputs": [],
   "source": [
    "#based on https://www.analyticsvidhya.com/blog/2020/04/beginners-guide-exploratory-data-analysis-text-data/\n",
    "import numpy as np\n",
    "import pandas as pd\n",
    "# For visualizations\n",
    "import matplotlib.pyplot as plt\n",
    "import seaborn as sns\n",
    "# For regular expressions\n",
    "import re\n",
    "# For handling string\n",
    "import string\n",
    "# For performing mathematical operations\n",
    "import math"
   ]
  },
  {
   "cell_type": "code",
   "execution_count": null,
   "id": "556ebbc2",
   "metadata": {},
   "outputs": [],
   "source": [
    "# Importing dataset\n",
    "#In the prepared dataset, reviews are tokenized, contractions (e.g. \"it's\") are expanded, tokens are normalized to lowercase\n",
    "#also stopwords are removed and tokens are lemmatized\n",
    "df=pd.read_csv('Amazon_Reviews_Prepared.CSV',sep=';')\n",
    "\n",
    "#Show shape of data frame\n"
   ]
  },
  {
   "cell_type": "code",
   "execution_count": null,
   "id": "e09b80d2",
   "metadata": {},
   "outputs": [],
   "source": [
    "#Show head of the data frame\n"
   ]
  },
  {
   "cell_type": "code",
   "execution_count": null,
   "id": "9e1ef4f4",
   "metadata": {},
   "outputs": [],
   "source": [
    "#Show info about the data frame\n",
    "df.info()"
   ]
  },
  {
   "cell_type": "code",
   "execution_count": null,
   "id": "09b9095e",
   "metadata": {},
   "outputs": [],
   "source": [
    "#convert column \"cleaned\" and \"lemmatized\" to str\n"
   ]
  },
  {
   "cell_type": "code",
   "execution_count": null,
   "id": "f9fe3189",
   "metadata": {},
   "outputs": [],
   "source": [
    "#show unique different products in the dataset\n"
   ]
  },
  {
   "cell_type": "code",
   "execution_count": null,
   "id": "1f420afe",
   "metadata": {},
   "outputs": [],
   "source": [
    "#remove column 'cleaned'\n",
    "\n",
    "df"
   ]
  },
  {
   "cell_type": "markdown",
   "id": "a659120f",
   "metadata": {},
   "source": [
    "# Sentiment Analysis (and Recommendations)"
   ]
  },
  {
   "cell_type": "code",
   "execution_count": null,
   "id": "ae1a2b80",
   "metadata": {},
   "outputs": [],
   "source": [
    "#Calculate sentiment polarities using TextBlob\n",
    "from textblob import TextBlob\n",
    "df['polarity']=df['lemmatized'].apply(lambda x:TextBlob(x).sentiment.polarity)\n",
    "df"
   ]
  },
  {
   "cell_type": "code",
   "execution_count": null,
   "id": "c1e36602",
   "metadata": {},
   "outputs": [],
   "source": [
    "#print 3 reviews with Highest Polarity\n"
   ]
  },
  {
   "cell_type": "code",
   "execution_count": null,
   "id": "24eca2c5",
   "metadata": {},
   "outputs": [],
   "source": [
    "#print 3 reviews with lowest Polarity\n"
   ]
  },
  {
   "cell_type": "code",
   "execution_count": null,
   "id": "eff1848a",
   "metadata": {},
   "outputs": [],
   "source": [
    "#Calculate percentage of reviewers that recommended a product and store result in new data frame \"recommend_percentage\"\n",
    "\n",
    "\n",
    "\n",
    "#Rename calculated column to 'Percentage of recommendations'\n",
    "\n",
    "#Add column 'Product' to simplify plotting with seaborn\n"
   ]
  },
  {
   "cell_type": "code",
   "execution_count": null,
   "id": "89951bbe",
   "metadata": {},
   "outputs": [],
   "source": [
    "#Plot Percentage of reviewers that recommended a product\n",
    "\n",
    "\n",
    "\n"
   ]
  },
  {
   "cell_type": "markdown",
   "id": "ae9b8490",
   "metadata": {},
   "source": [
    "# Text Readability"
   ]
  },
  {
   "cell_type": "code",
   "execution_count": null,
   "id": "19adde67",
   "metadata": {},
   "outputs": [],
   "source": [
    "import textstat\n",
    "#Calculate readability scores for individual reviews\n",
    "df['dale_chall_score']=df['reviews.text'].apply(lambda x: textstat.dale_chall_readability_score(x))\n",
    "df['flesh_reading_ease']=df['reviews.text'].apply(lambda x: textstat.flesch_reading_ease(x))\n",
    "df['gunning_fog']=df['reviews.text'].apply(lambda x: textstat.gunning_fog(x))\n",
    "\n",
    "#Calculate mean Flesch Reading Score for reviews which were regardes as helpful by more than one person\n",
    "\n",
    "#Calculate mean Flesch Reading Score for reviews which were regardes as helpful by <= one person\n",
    "\n"
   ]
  },
  {
   "cell_type": "markdown",
   "id": "ee44efc6",
   "metadata": {},
   "source": [
    "# Reading Time"
   ]
  },
  {
   "cell_type": "code",
   "execution_count": null,
   "id": "49d811af",
   "metadata": {},
   "outputs": [],
   "source": [
    "df['reading_time']=df['reviews.text'].apply(lambda x: textstat.reading_time(x))\n",
    "\n",
    "#Calculate mean Reading Time for reviews which were regardes as helpful by more than one person\n",
    "\n",
    "#Calculate mean Reading Time for reviews which were regardes as helpful by more than one person\n"
   ]
  },
  {
   "cell_type": "markdown",
   "id": "ac594ba1",
   "metadata": {},
   "source": [
    "# Group Documents"
   ]
  },
  {
   "cell_type": "code",
   "execution_count": null,
   "id": "0709261e",
   "metadata": {},
   "outputs": [],
   "source": [
    "#Group reviews according to the products and store results in df_grouped\n"
   ]
  },
  {
   "cell_type": "markdown",
   "id": "147befa0",
   "metadata": {},
   "source": [
    "# Matrix Transformation - Term Occurences"
   ]
  },
  {
   "cell_type": "code",
   "execution_count": null,
   "id": "889af4a9",
   "metadata": {},
   "outputs": [],
   "source": [
    "from sklearn.feature_extraction.text import CountVectorizer\n",
    "\n",
    "# Create a function returning a data frame of term occurances. \n",
    "# Pass data frame with reviews and name of the column containing the reviews as arguments\n"
   ]
  },
  {
   "cell_type": "code",
   "execution_count": null,
   "id": "1b778936",
   "metadata": {},
   "outputs": [],
   "source": [
    "#Call function using df_grouped and the text column as arguments\n",
    "df_to=df_term_occurances(df_grouped,'lemmatized')\n",
    "df_to"
   ]
  },
  {
   "cell_type": "markdown",
   "id": "c2f9fd41",
   "metadata": {},
   "source": [
    "# Matrix Transformation - Term Frequencies"
   ]
  },
  {
   "cell_type": "code",
   "execution_count": null,
   "id": "695c5985",
   "metadata": {},
   "outputs": [],
   "source": [
    "# Create a function returning a data frame of term frequencies\n",
    "# Pass data frame with reviews and name of the column containing the reviews as arguments\n",
    "# Use the function for term occurances which you just created\n"
   ]
  },
  {
   "cell_type": "code",
   "execution_count": null,
   "id": "5a7d30a9",
   "metadata": {},
   "outputs": [],
   "source": [
    "#Call function using df_grouped and the text column as arguments\n",
    "df_tf=df_term_frequencies(df_grouped,'lemmatized')\n",
    "df_tf"
   ]
  },
  {
   "cell_type": "markdown",
   "id": "13135d31",
   "metadata": {},
   "source": [
    "# Matrix Transformation - TFIDF"
   ]
  },
  {
   "cell_type": "code",
   "execution_count": null,
   "id": "1c9673d8",
   "metadata": {},
   "outputs": [],
   "source": [
    "from sklearn.feature_extraction.text import TfidfVectorizer \n",
    "\n",
    "# Create a function returning a data frame of TFIDF values\n",
    "# Pass data frame with reviews and name of the column containing the reviews as arguments\n"
   ]
  },
  {
   "cell_type": "code",
   "execution_count": null,
   "id": "1a121746",
   "metadata": {},
   "outputs": [],
   "source": [
    "#Call function using df_grouped and the text column as arguments\n",
    "df_tfidf=df_TFIDF(df_grouped,'lemmatized')\n",
    "df_tfidf"
   ]
  },
  {
   "cell_type": "markdown",
   "id": "9315d6bc",
   "metadata": {},
   "source": [
    "# Word Clouds"
   ]
  },
  {
   "cell_type": "code",
   "execution_count": null,
   "id": "d445b8b2",
   "metadata": {},
   "outputs": [],
   "source": [
    "#Create word cloud\n",
    "\n",
    "#conda install -c conda-forge wordcloud\n",
    "\n",
    "# Importing wordcloud for plotting word clouds and textwrap for wrapping longer text\n",
    "from wordcloud import WordCloud\n",
    "from textwrap import wrap\n",
    "\n",
    "# Function for generating word clouds\n",
    "def generate_wordcloud(data,title):\n",
    "  wc = WordCloud(width=400, height=330, max_words=150,colormap=\"Dark2\").generate_from_frequencies(data)\n",
    "  plt.figure(figsize=(10,8))\n",
    "  plt.imshow(wc, interpolation='bilinear')\n",
    "  plt.axis(\"off\")\n",
    "  plt.title('\\n'.join(wrap(title,60)),fontsize=13)\n",
    "  plt.show()\n",
    "  \n",
    "# Transposing document term matrix\n",
    "\n",
    "\n",
    "# Plotting word cloud for each product\n"
   ]
  }
 ],
 "metadata": {
  "kernelspec": {
   "display_name": "Python 3 (ipykernel)",
   "language": "python",
   "name": "python3"
  },
  "language_info": {
   "codemirror_mode": {
    "name": "ipython",
    "version": 3
   },
   "file_extension": ".py",
   "mimetype": "text/x-python",
   "name": "python",
   "nbconvert_exporter": "python",
   "pygments_lexer": "ipython3",
   "version": "3.9.7"
  }
 },
 "nbformat": 4,
 "nbformat_minor": 5
}
